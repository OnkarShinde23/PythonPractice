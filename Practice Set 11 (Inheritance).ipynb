{
 "cells": [
  {
   "cell_type": "markdown",
   "id": "8e29b472",
   "metadata": {},
   "source": [
    "###### 1.Creat a class c-2 vector and use it to creat another class representing a 3-d vector??"
   ]
  },
  {
   "cell_type": "code",
   "execution_count": 1,
   "id": "086828b1",
   "metadata": {},
   "outputs": [
    {
     "name": "stdout",
     "output_type": "stream",
     "text": [
      "1i+3j\n",
      "1i+9j+7k\n"
     ]
    }
   ],
   "source": [
    "class c2dvec:\n",
    "    def __init__(self,i,j):\n",
    "        self.icap=i\n",
    "        self.jcap=j\n",
    "    def __str__(self):\n",
    "        return f\"{self.icap}i+{self.jcap}j\"\n",
    "class c3dvec(c2dvec):\n",
    "    def __init__(self,i,j,k):\n",
    "        super().__init__(i,j)\n",
    "        self.kcap=k\n",
    "    def __str__(self):\n",
    "        return f\"{self.icap}i+{self.jcap}j+{self.kcap}k\"\n",
    "v2d=c2dvec(1,3)\n",
    "v3d=c3dvec(1,9,7)\n",
    "print(v2d)\n",
    "print(v3d)\n",
    "        \n",
    "        "
   ]
  },
  {
   "cell_type": "markdown",
   "id": "88eb2c71",
   "metadata": {},
   "source": [
    "###### 2.Creat a class pets from a class Animals and further creat Dog from pets.Add a method bark to class Dog??"
   ]
  },
  {
   "cell_type": "code",
   "execution_count": 12,
   "id": "f9cb2b87",
   "metadata": {},
   "outputs": [
    {
     "name": "stdout",
     "output_type": "stream",
     "text": [
      "Bow Bow\n"
     ]
    }
   ],
   "source": [
    "class Animals:\n",
    "    animalType=\"Mammal\"\n",
    "class Dog:\n",
    "    colour=\"White\"\n",
    "class Dog:\n",
    "    @staticmethod\n",
    "    def bark():\n",
    "        print(\"Bow Bow\")\n",
    "d=Dog()\n",
    "d.bark()"
   ]
  },
  {
   "cell_type": "markdown",
   "id": "0d600218",
   "metadata": {},
   "source": [
    "###### 3.Creat a class Employee and add salary and increament properties to it??write a method salary Increament method with a @property decorator with a setter which changes the value of increment based on the salary??"
   ]
  },
  {
   "cell_type": "code",
   "execution_count": 17,
   "id": "b962dcf4",
   "metadata": {},
   "outputs": [
    {
     "name": "stdout",
     "output_type": "stream",
     "text": [
      "1500.0\n"
     ]
    }
   ],
   "source": [
    "class Employee:\n",
    "    salary=1000\n",
    "    Increament=1.5\n",
    "    @property\n",
    "    def salaryAfterIncreament(self):\n",
    "        return self.salary*self.Increament\n",
    "    @salaryAfterIncreament.setter\n",
    "    def salaryAfterIncreament(self,sal):\n",
    "        self.Increament=sai/self.salary\n",
    "e=Employee()\n",
    "print(e.salaryAfterIncreament)"
   ]
  },
  {
   "cell_type": "markdown",
   "id": "72ffb428",
   "metadata": {},
   "source": [
    "###### 4.Write a class complex to represent complex numbers,along with overloaded operators + and * which adds and multiplies them ??"
   ]
  },
  {
   "cell_type": "code",
   "execution_count": 2,
   "id": "c956eb78",
   "metadata": {},
   "outputs": [
    {
     "name": "stdout",
     "output_type": "stream",
     "text": [
      "4+9i\n",
      "-11+23i\n"
     ]
    }
   ],
   "source": [
    "class complex:\n",
    "    def __init__(self,r,i):\n",
    "        self.real=r\n",
    "        self.imaginary=i\n",
    "    def __add__(self,c):\n",
    "        return complex (self.real+c.real,self.imaginary+c.imaginary)\n",
    "    def __mul__(self,c):\n",
    "        mulReal=self.real*c.real-self.imaginary*c.imaginary\n",
    "        mulImg=self.real*c.imaginary+self.imaginary*c.real\n",
    "        return complex (mulReal,mulImg)\n",
    "    def __str__(self):\n",
    "        return f\"{self.real}+{self.imaginary}i\"\n",
    "c1=complex(3,2)\n",
    "c2=complex(1,7)\n",
    "print(c1+c2)\n",
    "print(c1*c2)"
   ]
  },
  {
   "cell_type": "markdown",
   "id": "391fcf4a",
   "metadata": {},
   "source": [
    "###### 5.Write a class vector representing a vector of n dimension.overload the + and * operator which calculate the sum the dot product of them??"
   ]
  },
  {
   "cell_type": "code",
   "execution_count": 33,
   "id": "7b28feda",
   "metadata": {},
   "outputs": [
    {
     "name": "stdout",
     "output_type": "stream",
     "text": [
      "2a0 +10a1 +15a2 \n",
      "79\n"
     ]
    }
   ],
   "source": [
    "class vector:\n",
    "    def __init__(self,vec):\n",
    "        self.vec=vec\n",
    "    def __str__(self):\n",
    "        str1=\"\"\n",
    "        index=0\n",
    "        for i in self.vec:\n",
    "            str1+=f\"{i}a{index} +\"\n",
    "            index +=1\n",
    "        return str1[:-1]\n",
    "    def __add__(self,vec2):\n",
    "        newlist=[]\n",
    "        for i in range(len(self.vec)):\n",
    "            newlist.append(self.vec[i]+vec2.vec[i])\n",
    "        return vector (newlist)\n",
    "    def __mul__(self,vec2):\n",
    "        sum=0\n",
    "        for i in range(len(self.vec)):\n",
    "            sum+=self.vec[i]*vec2.vec[i]\n",
    "        return sum\n",
    "V1=vector([1,4,6])\n",
    "V2=vector([1,6,9])\n",
    "print(V1+V2)\n",
    "print(V1*V2)"
   ]
  },
  {
   "cell_type": "raw",
   "id": "32b2d6db",
   "metadata": {},
   "source": [
    "6.Write...str...() method to print the vector as follows:\n",
    "    7i+8j+10k\n",
    "Assume vector of dimention 3 for this problem??    "
   ]
  },
  {
   "cell_type": "code",
   "execution_count": 34,
   "id": "41def1bb",
   "metadata": {},
   "outputs": [
    {
     "name": "stdout",
     "output_type": "stream",
     "text": [
      "1i+4j+6k\n",
      "1i+6j+9k\n"
     ]
    }
   ],
   "source": [
    "class vector:\n",
    "    def __init__(self,vec):\n",
    "        self.vec=vec\n",
    "    def __str__(self):\n",
    "        return f\"{self.vec[0]}i+{self.vec[1]}j+{self.vec[2]}k\"\n",
    "v1=vector([1,4,6])\n",
    "v2=vector([1,6,9])\n",
    "print(v1)\n",
    "print(v2)\n",
    "    "
   ]
  },
  {
   "cell_type": "markdown",
   "id": "1df4149d",
   "metadata": {},
   "source": [
    "###### 7.Override the...len...() method on vector of problem 5 to display the dimension of the vector??"
   ]
  },
  {
   "cell_type": "code",
   "execution_count": 11,
   "id": "9754eec9",
   "metadata": {},
   "outputs": [
    {
     "name": "stdout",
     "output_type": "stream",
     "text": [
      "3\n",
      "3\n"
     ]
    }
   ],
   "source": [
    "class vector:\n",
    "    def __init__(self,vec):\n",
    "        self.vec=vec\n",
    "    def __str__(self):\n",
    "        str1=\"\"\n",
    "        index=0\n",
    "        for i in self.vec:\n",
    "            str1+=f\"{i}a{index} +\"\n",
    "            index+=1\n",
    "        return str1[:-1]\n",
    "    def __add__(self,vec2):\n",
    "        newlist=[]\n",
    "        for i in range(len(self.vec)):\n",
    "            newlist.append(self.vec[i]+vec2.vec[i])\n",
    "        return vector(newlist)\n",
    "    def __mul__(self,vec2):\n",
    "        sum=0\n",
    "        for i in range(len(self.vec)):\n",
    "            sum+=self.vec[i]*vec2.vec[i]\n",
    "        return sum\n",
    "    def __len__(self):\n",
    "        return len (self.vec)\n",
    "v1=vector([1,4,6])\n",
    "v2=vector([1,6,9])\n",
    "print(len(v1))\n",
    "print(len(v2))"
   ]
  },
  {
   "cell_type": "code",
   "execution_count": null,
   "id": "3d41f4e1",
   "metadata": {},
   "outputs": [],
   "source": []
  }
 ],
 "metadata": {
  "kernelspec": {
   "display_name": "Python 3",
   "language": "python",
   "name": "python3"
  },
  "language_info": {
   "codemirror_mode": {
    "name": "ipython",
    "version": 3
   },
   "file_extension": ".py",
   "mimetype": "text/x-python",
   "name": "python",
   "nbconvert_exporter": "python",
   "pygments_lexer": "ipython3",
   "version": "3.8.8"
  }
 },
 "nbformat": 4,
 "nbformat_minor": 5
}
