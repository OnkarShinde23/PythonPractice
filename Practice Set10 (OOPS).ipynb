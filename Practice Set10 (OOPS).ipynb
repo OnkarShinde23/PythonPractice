{
 "cells": [
  {
   "cell_type": "markdown",
   "id": "7cd2f4c1",
   "metadata": {},
   "source": [
    "###### 1.Create a class programmer for staring information of few programmers working at microsoft??"
   ]
  },
  {
   "cell_type": "code",
   "execution_count": 16,
   "id": "4c7c4320",
   "metadata": {},
   "outputs": [
    {
     "name": "stdout",
     "output_type": "stream",
     "text": [
      "The name of the Programmer is Harry and the product is Skype\n",
      "The name of the Programmer is Alka and the product is Github\n"
     ]
    }
   ],
   "source": [
    "class Programmer:\n",
    "    company=\"Microsoft\"\n",
    "    def __init__(self,name,product):\n",
    "        self.name=name\n",
    "        self.product=product\n",
    "    def getInfo(self):\n",
    "        print(f\"The name of the Programmer is {self.name} and the product is {self.product}\")\n",
    "harry=Programmer(\"Harry\",\"Skype\")\n",
    "alka=Programmer(\"Alka\",\"Github\")\n",
    "harry.getInfo()\n",
    "alka.getInfo()"
   ]
  },
  {
   "cell_type": "markdown",
   "id": "79821454",
   "metadata": {},
   "source": [
    "###### Note:In init function take whole term in one cell."
   ]
  },
  {
   "cell_type": "markdown",
   "id": "9a41a12d",
   "metadata": {},
   "source": [
    "###### 2.Write a class calculator capableof finding square,cube,and squre root,of number??"
   ]
  },
  {
   "cell_type": "code",
   "execution_count": 32,
   "id": "656ca757",
   "metadata": {},
   "outputs": [
    {
     "name": "stdout",
     "output_type": "stream",
     "text": [
      "The value of 9 square is 81\n",
      "The value of 9 square root is 3.0\n",
      "The value of 9 cube is 729\n"
     ]
    }
   ],
   "source": [
    "class calculator:\n",
    "    def __init__(self,num):\n",
    "        self.number=num\n",
    "    def square(self):\n",
    "        print(f\"The value of {self.number} square is {self.number**2}\")    \n",
    "    def squareroot(self):\n",
    "        print(f\"The value of {self.number} square root is {self.number**0.5}\")\n",
    "    def cube (self):\n",
    "        print(f\"The value of {self.number} cube is {self.number**3}\")\n",
    "a=calculator(9)\n",
    "a.square()\n",
    "a.squareroot()\n",
    "a.cube()              \n",
    "              \n",
    "              "
   ]
  },
  {
   "cell_type": "markdown",
   "id": "db57000d",
   "metadata": {},
   "source": [
    "###### 3.Creat a class with a class attribute a;creat an object from it and set a directly using object a=0.Does this change the class attribute??"
   ]
  },
  {
   "cell_type": "markdown",
   "id": "03f54290",
   "metadata": {},
   "source": [
    "###### Ans:No"
   ]
  },
  {
   "cell_type": "code",
   "execution_count": 33,
   "id": "b7ca8fbd",
   "metadata": {},
   "outputs": [
    {
     "name": "stdout",
     "output_type": "stream",
     "text": [
      "Harry\n",
      "Vikky\n"
     ]
    }
   ],
   "source": [
    "class sample:\n",
    "    a=\"Harry\"\n",
    "obj=sample()\n",
    "obj.a=\"Vikky\"\n",
    "print(sample.a)\n",
    "print(obj.a)\n"
   ]
  },
  {
   "cell_type": "markdown",
   "id": "13bf1453",
   "metadata": {},
   "source": [
    "###### 4.Add a static method in problem 2 to greet the user with hello??"
   ]
  },
  {
   "cell_type": "code",
   "execution_count": 35,
   "id": "416ccfc5",
   "metadata": {},
   "outputs": [
    {
     "name": "stdout",
     "output_type": "stream",
     "text": [
      "Hello there ,welcome to the best calculator in the world.\n",
      "The value of 9 square is 81\n",
      "The value of 9 square root is 3.0\n",
      "The value of 9 cube is 729\n"
     ]
    }
   ],
   "source": [
    "class calculator:\n",
    "    def __init__(self,num):\n",
    "        self.number=num\n",
    "    def square(self):\n",
    "        print(f\"The value of {self.number} square is {self.number**2}\")    \n",
    "    def squareroot(self):\n",
    "        print(f\"The value of {self.number} square root is {self.number**0.5}\")\n",
    "    def cube (self):\n",
    "        print(f\"The value of {self.number} cube is {self.number**3}\")\n",
    "    @staticmethod\n",
    "    def greet():\n",
    "            print(\"Hello there ,welcome to the best calculator in the world.\")\n",
    "a=calculator(9)\n",
    "a.greet()\n",
    "a.square()\n",
    "a.squareroot()\n",
    "a.cube() "
   ]
  },
  {
   "cell_type": "markdown",
   "id": "2f26a28b",
   "metadata": {},
   "source": [
    "###### 5.Write a class train which has methods to book a ticket,get starus (no. of seats) and get fare information of trains running under Indian Railways??"
   ]
  },
  {
   "cell_type": "code",
   "execution_count": 37,
   "id": "d83e8052",
   "metadata": {},
   "outputs": [
    {
     "name": "stdout",
     "output_type": "stream",
     "text": [
      "The name of the train is Intercity Express:14015\n",
      "The seats available in train are300\n",
      "The price of the ticket is :Rs90\n"
     ]
    }
   ],
   "source": [
    "class Train:\n",
    "    def __init__(self,name,fare,seats):\n",
    "        self.name=name\n",
    "        self.fare=fare\n",
    "        self.seats=seats\n",
    "    def getstatus(self):\n",
    "        print(f\"The name of the train is {self.name}\")\n",
    "        print(f\"The seats available in train are{self.seats}\")\n",
    "    def fareInfo(self):\n",
    "        print(f\"The price of the ticket is :Rs{self.fare}\")\n",
    "intercity =Train(\"Intercity Express:14015\",90,300)\n",
    "intercity.getstatus()\n",
    "intercity.fareInfo()"
   ]
  },
  {
   "cell_type": "markdown",
   "id": "1702ed1e",
   "metadata": {},
   "source": [
    "###### 6.Can you change the self parameter inside a class to something else (say\"Harry\").Try changing self to \"Slf\" or \"Harry\" and see the effects??"
   ]
  },
  {
   "cell_type": "code",
   "execution_count": 42,
   "id": "df609930",
   "metadata": {},
   "outputs": [
    {
     "name": "stdout",
     "output_type": "stream",
     "text": [
      "Harry\n"
     ]
    }
   ],
   "source": [
    "class sample:\n",
    "    def __init__(Slf,name):\n",
    "        Slf.name=name\n",
    "obj=sample(\"Harry\")\n",
    "print(obj.name)"
   ]
  },
  {
   "cell_type": "code",
   "execution_count": 43,
   "id": "ce0e786a",
   "metadata": {},
   "outputs": [
    {
     "name": "stdout",
     "output_type": "stream",
     "text": [
      "Harry\n"
     ]
    }
   ],
   "source": [
    "class sample:\n",
    "    def __init__(Onkar,name):\n",
    "        Onkar.name=name\n",
    "obj=sample(\"Harry\")\n",
    "print(obj.name)"
   ]
  },
  {
   "cell_type": "code",
   "execution_count": 44,
   "id": "bbe09402",
   "metadata": {},
   "outputs": [
    {
     "name": "stdout",
     "output_type": "stream",
     "text": [
      "Harry\n"
     ]
    }
   ],
   "source": [
    "class sample:\n",
    "    def __init__(self,name):\n",
    "        self.name=name\n",
    "obj=sample(\"Harry\")\n",
    "print(obj.name)"
   ]
  },
  {
   "cell_type": "markdown",
   "id": "0dfa1dad",
   "metadata": {},
   "source": [
    "###### Yes.We can add any name."
   ]
  },
  {
   "cell_type": "code",
   "execution_count": null,
   "id": "ff4a7984",
   "metadata": {},
   "outputs": [],
   "source": []
  }
 ],
 "metadata": {
  "kernelspec": {
   "display_name": "Python 3",
   "language": "python",
   "name": "python3"
  },
  "language_info": {
   "codemirror_mode": {
    "name": "ipython",
    "version": 3
   },
   "file_extension": ".py",
   "mimetype": "text/x-python",
   "name": "python",
   "nbconvert_exporter": "python",
   "pygments_lexer": "ipython3",
   "version": "3.8.8"
  }
 },
 "nbformat": 4,
 "nbformat_minor": 5
}
