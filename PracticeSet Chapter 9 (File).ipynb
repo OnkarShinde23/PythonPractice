{
 "cells": [
  {
   "cell_type": "markdown",
   "id": "29b6df06",
   "metadata": {},
   "source": [
    "###### Q.1 Write a problem to read the text from a given file 'Poems.txt'and find out whether it contains the word 'twinkle'??"
   ]
  },
  {
   "cell_type": "code",
   "execution_count": 1,
   "id": "f8b97619",
   "metadata": {},
   "outputs": [],
   "source": [
    "A=open('Poem.txt')\n",
    "B=A.read()"
   ]
  },
  {
   "cell_type": "code",
   "execution_count": 2,
   "id": "f0cd5842",
   "metadata": {},
   "outputs": [
    {
     "name": "stdout",
     "output_type": "stream",
     "text": [
      "Twinkle Twinkle little star,\n",
      "how i wonder what you are.\n"
     ]
    }
   ],
   "source": [
    "print(B)"
   ]
  },
  {
   "cell_type": "code",
   "execution_count": 3,
   "id": "3528af80",
   "metadata": {},
   "outputs": [
    {
     "name": "stdout",
     "output_type": "stream",
     "text": [
      "Twinkle is present\n"
     ]
    }
   ],
   "source": [
    "if 'Twinkle'in B:\n",
    "    print('Twinkle is present')\n",
    "else:\n",
    "    print('Twinkle is not present')\n",
    "A.close()   "
   ]
  },
  {
   "cell_type": "markdown",
   "id": "9376bbe3",
   "metadata": {},
   "source": [
    "###### Q.2 The game()function in program lets a user play a game and returns the score as an integer.You need to read a file 'Highscore.txt' which is either blank or contains the previous Highscore.\n",
    "    You need to write a program to update the Highscore.\n",
    "    whenever game () breaks the Highscore??"
   ]
  },
  {
   "cell_type": "markdown",
   "id": "05881164",
   "metadata": {},
   "source": [
    "1st Ans:"
   ]
  },
  {
   "cell_type": "code",
   "execution_count": 4,
   "id": "fa5aaf85",
   "metadata": {},
   "outputs": [],
   "source": [
    "def game():\n",
    "    return 446\n",
    "score = game()\n",
    "with open (\"Highscore.txt\") as f:\n",
    "    Highscore=int(f.read())\n",
    "if Highscore<score:\n",
    "    with open (\"Highscore.txt\",\"w\")as f:\n",
    "        f.write(str(score))"
   ]
  },
  {
   "cell_type": "code",
   "execution_count": 5,
   "id": "5cf9d977",
   "metadata": {},
   "outputs": [
    {
     "name": "stdout",
     "output_type": "stream",
     "text": [
      "446\n"
     ]
    }
   ],
   "source": [
    "print(Highscore)"
   ]
  },
  {
   "cell_type": "markdown",
   "id": "eae1057c",
   "metadata": {},
   "source": [
    "2nd Ans:"
   ]
  },
  {
   "cell_type": "code",
   "execution_count": 6,
   "id": "788bcbc8",
   "metadata": {},
   "outputs": [],
   "source": [
    "def game():\n",
    "    return 44567\n",
    "score=game()\n",
    "with open (\"Highscore.txt\") as A:\n",
    "    D=A.read()\n",
    "if D==' ':\n",
    "    with open (\"Highscore.txt\",\"w\") as A:\n",
    "        A.write(str(score))\n",
    "elif int(D) < score:\n",
    "    with open(\"Highscore.txt\",\"w\") as A:\n",
    "        A.write(str(score))"
   ]
  },
  {
   "cell_type": "code",
   "execution_count": 7,
   "id": "856a902f",
   "metadata": {},
   "outputs": [
    {
     "name": "stdout",
     "output_type": "stream",
     "text": [
      "44567\n"
     ]
    }
   ],
   "source": [
    "print(D)"
   ]
  },
  {
   "cell_type": "markdown",
   "id": "27daa237",
   "metadata": {},
   "source": [
    "###### Q.3 Write a program to generate multiplication table from 2 to 20 and write it to the different files.place these files in a folder for a 13 year old?? "
   ]
  },
  {
   "cell_type": "code",
   "execution_count": 14,
   "id": "88ddc402",
   "metadata": {},
   "outputs": [],
   "source": [
    "for i in range (2,21):\n",
    "    with open(f\"Tables/multiplication_Table_of{i}\",\"w\") as Z:\n",
    "        for j in range (1,11):\n",
    "                Z.write(f\"{i}X{j}={i*j}\\n\")\n",
    "                \n",
    "    break"
   ]
  },
  {
   "cell_type": "code",
   "execution_count": 15,
   "id": "7298b3fc",
   "metadata": {},
   "outputs": [
    {
     "name": "stdout",
     "output_type": "stream",
     "text": [
      "<_io.TextIOWrapper name='Tables/multiplication_Table_of2' mode='w' encoding='cp1252'>\n"
     ]
    }
   ],
   "source": [
    "print(Z)"
   ]
  },
  {
   "cell_type": "markdown",
   "id": "d227e5fe",
   "metadata": {},
   "source": [
    "###### Problem solved"
   ]
  },
  {
   "cell_type": "markdown",
   "id": "5b666a0b",
   "metadata": {},
   "source": [
    "###### 2nd method"
   ]
  },
  {
   "cell_type": "code",
   "execution_count": 9,
   "id": "0e5e8b2c",
   "metadata": {},
   "outputs": [],
   "source": [
    "for i in range(2,21):\n",
    "    with open(f'tables20{i}','w')as f:\n",
    "        for j in range(1,11):\n",
    "            f.write(f'{i}X{j}={i*j}')\n",
    "            if j!=10:\n",
    "                f.write('\\n')\n",
    "            break"
   ]
  },
  {
   "cell_type": "code",
   "execution_count": 10,
   "id": "e491e6ca",
   "metadata": {},
   "outputs": [
    {
     "name": "stdout",
     "output_type": "stream",
     "text": [
      "<_io.TextIOWrapper name='tables2020' mode='w' encoding='cp1252'>\n"
     ]
    }
   ],
   "source": [
    "print(f)"
   ]
  },
  {
   "cell_type": "markdown",
   "id": "56907d8c",
   "metadata": {},
   "source": [
    "###### Q.4 A file contains a word\"Donkey\" multiple times.You need to write a program which replace this word with #### by updating the same file??"
   ]
  },
  {
   "cell_type": "code",
   "execution_count": 35,
   "id": "6fde798e",
   "metadata": {},
   "outputs": [],
   "source": [
    "with open (\"sample.txt\") as N:\n",
    "    content = N.read()\n",
    "content = content.replace(\"donkey\",\"###\")    "
   ]
  },
  {
   "cell_type": "code",
   "execution_count": 36,
   "id": "05a41257",
   "metadata": {},
   "outputs": [],
   "source": [
    "with open(\"sample.txt\",\"w\") as N:\n",
    "    N.write(content)"
   ]
  },
  {
   "cell_type": "code",
   "execution_count": 37,
   "id": "1a030363",
   "metadata": {},
   "outputs": [
    {
     "name": "stdout",
     "output_type": "stream",
     "text": [
      "You are a ###\n",
      "you are ##$$ ##$$ ##$$\n",
      "###\n"
     ]
    }
   ],
   "source": [
    "print(content)"
   ]
  },
  {
   "cell_type": "markdown",
   "id": "0b5830ea",
   "metadata": {},
   "source": [
    "###### Q.5 Repeat program 4 for a list of such words to be censored"
   ]
  },
  {
   "cell_type": "code",
   "execution_count": 25,
   "id": "cce30d35",
   "metadata": {},
   "outputs": [],
   "source": [
    "words=[\"donkey\",\"dog\",\"pig\"]"
   ]
  },
  {
   "cell_type": "code",
   "execution_count": 26,
   "id": "fc822469",
   "metadata": {},
   "outputs": [],
   "source": [
    "with open (\"sample.txt\") as D:\n",
    "    content=D.read()   "
   ]
  },
  {
   "cell_type": "code",
   "execution_count": 27,
   "id": "9347ad87",
   "metadata": {},
   "outputs": [],
   "source": [
    "for word in words:\n",
    "    content=content.replace(word,\"##$$\")\n",
    "    \n",
    "    with open (\"sample.txt\",\"w\") as D:\n",
    "        D.write (content)\n",
    "    "
   ]
  },
  {
   "cell_type": "code",
   "execution_count": 28,
   "id": "973ffaa3",
   "metadata": {},
   "outputs": [
    {
     "name": "stdout",
     "output_type": "stream",
     "text": [
      "You are a ###\n",
      "you are ##$$ ##$$ ##$$\n"
     ]
    }
   ],
   "source": [
    "print(content)"
   ]
  },
  {
   "cell_type": "markdown",
   "id": "afdcc26a",
   "metadata": {},
   "source": [
    "###### Q.6 write a program to prime a log file and find out whether it contains 'python'??"
   ]
  },
  {
   "cell_type": "code",
   "execution_count": 18,
   "id": "0df08816",
   "metadata": {},
   "outputs": [],
   "source": [
    "with open (\"log.txt\") as f:\n",
    "    content=f.read()\n",
    "    "
   ]
  },
  {
   "cell_type": "code",
   "execution_count": 19,
   "id": "df3322be",
   "metadata": {},
   "outputs": [
    {
     "name": "stdout",
     "output_type": "stream",
     "text": [
      "yes python is present\n"
     ]
    }
   ],
   "source": [
    "if 'Python' in content:\n",
    "    print(\"yes python is present\")\n",
    "else:\n",
    "    print(\"No Python is not present\")"
   ]
  },
  {
   "cell_type": "markdown",
   "id": "b7f0dc37",
   "metadata": {},
   "source": [
    "###### Q.7 write a program to find out the line number where python is prsent from Q.6??"
   ]
  },
  {
   "cell_type": "code",
   "execution_count": 20,
   "id": "b1d16584",
   "metadata": {},
   "outputs": [
    {
     "name": "stdout",
     "output_type": "stream",
     "text": [
      "03/22 08:51:02 INFO   :..reg_process: return from registration Python\n",
      "\n",
      "yes python present on line number11\n"
     ]
    }
   ],
   "source": [
    "content=True\n",
    "i=1\n",
    "with open (\"log.txt\") as f:\n",
    "    while content:\n",
    "        content=f.readline()\n",
    "        if 'Python'in content:\n",
    "            print(content)\n",
    "            print(f\"yes python present on line number{i}\")\n",
    "        i+=1    "
   ]
  },
  {
   "cell_type": "markdown",
   "id": "2dc0a923",
   "metadata": {},
   "source": [
    "###### Q.8 Write a program to make a copy of a text file \"this.txt\"??"
   ]
  },
  {
   "cell_type": "code",
   "execution_count": null,
   "id": "7c223edd",
   "metadata": {},
   "outputs": [],
   "source": [
    "with open (\"this.txt\") as A:\n",
    "    content=A.read()\n",
    "with open (\"copy.txt\",\"w\") as f:\n",
    "    f.write(content)"
   ]
  },
  {
   "cell_type": "code",
   "execution_count": 21,
   "id": "90314420",
   "metadata": {},
   "outputs": [],
   "source": [
    "with open (\"copy.txt\") as A:\n",
    "    content=A.read()"
   ]
  },
  {
   "cell_type": "code",
   "execution_count": 22,
   "id": "ee4a89ff",
   "metadata": {},
   "outputs": [
    {
     "name": "stdout",
     "output_type": "stream",
     "text": [
      "I am Onkar Shinde\n",
      "\n"
     ]
    }
   ],
   "source": [
    "print(content)"
   ]
  },
  {
   "cell_type": "markdown",
   "id": "b82844b8",
   "metadata": {},
   "source": [
    "###### Q.9 Write a program to find out whether a file is identical and matches the content of another file??"
   ]
  },
  {
   "cell_type": "code",
   "execution_count": 42,
   "id": "560dfb49",
   "metadata": {},
   "outputs": [],
   "source": [
    "file1=\"copy.txt\"\n",
    "file2=\"this.txt\""
   ]
  },
  {
   "cell_type": "code",
   "execution_count": 44,
   "id": "dbf61685",
   "metadata": {},
   "outputs": [
    {
     "name": "stdout",
     "output_type": "stream",
     "text": [
      "files are identical\n"
     ]
    }
   ],
   "source": [
    "with open (file1) as S:\n",
    "    f1=S.read()\n",
    "with open (file2) as D:\n",
    "    f2=S.read()\n",
    "if f1==f2:\n",
    "    print(\"files are identical\")\n",
    "else:\n",
    "    print(\"files are not identical\")"
   ]
  },
  {
   "cell_type": "markdown",
   "id": "ceb50530",
   "metadata": {},
   "source": [
    "###### Q.10 Write a program to wipe out the contents of a file using Python??"
   ]
  },
  {
   "cell_type": "code",
   "execution_count": 26,
   "id": "7cbee8d2",
   "metadata": {},
   "outputs": [],
   "source": [
    "filename=\"Tables10.txt\"\n",
    "with open (filename,\"w\") as f:\n",
    "    f.write(\" \")"
   ]
  },
  {
   "cell_type": "code",
   "execution_count": 27,
   "id": "67cccf3c",
   "metadata": {},
   "outputs": [
    {
     "name": "stdout",
     "output_type": "stream",
     "text": [
      "Tables10.txt\n"
     ]
    }
   ],
   "source": [
    "print(filename)"
   ]
  },
  {
   "cell_type": "markdown",
   "id": "97e8e2c8",
   "metadata": {},
   "source": [
    "###### Q.11 write python program to rename a file to \"renamed_by_python.txt\"??\n"
   ]
  },
  {
   "cell_type": "code",
   "execution_count": 28,
   "id": "0575c5d6",
   "metadata": {},
   "outputs": [],
   "source": [
    "import os"
   ]
  },
  {
   "cell_type": "code",
   "execution_count": 30,
   "id": "2a2bf1a6",
   "metadata": {},
   "outputs": [],
   "source": [
    "oldname = \"Tables15.txt\"\n",
    "newname=\"Om\"\n",
    "with open (oldname) as E:\n",
    "    conten=E.read()\n",
    "with open (newname,\"w\") as E:\n",
    "    E.write(content)\n",
    "os.remove(oldname)    "
   ]
  },
  {
   "cell_type": "code",
   "execution_count": null,
   "id": "f793ebbb",
   "metadata": {},
   "outputs": [],
   "source": []
  }
 ],
 "metadata": {
  "kernelspec": {
   "display_name": "Python 3",
   "language": "python",
   "name": "python3"
  },
  "language_info": {
   "codemirror_mode": {
    "name": "ipython",
    "version": 3
   },
   "file_extension": ".py",
   "mimetype": "text/x-python",
   "name": "python",
   "nbconvert_exporter": "python",
   "pygments_lexer": "ipython3",
   "version": "3.8.8"
  }
 },
 "nbformat": 4,
 "nbformat_minor": 5
}
