{
 "cells": [
  {
   "cell_type": "markdown",
   "id": "020d9a3c",
   "metadata": {},
   "source": [
    "###### 1. Write a program using function to find greatest of numbers??"
   ]
  },
  {
   "cell_type": "code",
   "execution_count": 8,
   "id": "8fde5825",
   "metadata": {},
   "outputs": [
    {
     "name": "stdout",
     "output_type": "stream",
     "text": [
      "Greatest value is 55\n"
     ]
    }
   ],
   "source": [
    "def maximum(num1,num2,num3):\n",
    "    if (num1>num2):\n",
    "        if (num1>num3):\n",
    "            return num1\n",
    "        else:\n",
    "            return num3\n",
    "    else:\n",
    "         if (num2>num3):\n",
    "            return num2\n",
    "         else:\n",
    "            return num3\n",
    "m=maximum(13,34,55)\n",
    "print(\"Greatest value is \" +str(m))"
   ]
  },
  {
   "cell_type": "markdown",
   "id": "30bb5905",
   "metadata": {},
   "source": [
    "###### 2.Write a Python program using function to convert celsius to fahrenheit??"
   ]
  },
  {
   "cell_type": "code",
   "execution_count": 14,
   "id": "da9483f1",
   "metadata": {},
   "outputs": [
    {
     "name": "stdout",
     "output_type": "stream",
     "text": [
      "Farhenheit temp. is 98.60000000000001\n"
     ]
    }
   ],
   "source": [
    "def farhrenheit(celcius):\n",
    "    return (C*(9/5)+32)\n",
    "C=37\n",
    "F=farhrenheit(celcius)\n",
    "print(\"Farhenheit temp. is \"+str(F))"
   ]
  },
  {
   "cell_type": "code",
   "execution_count": 15,
   "id": "256f422d",
   "metadata": {},
   "outputs": [
    {
     "name": "stdout",
     "output_type": "stream",
     "text": [
      "Farhenheit temp. is 98.60000000000001\n"
     ]
    }
   ],
   "source": [
    "def farhrenheit(celcius):\n",
    "    return (C*(9/5)+32)\n",
    "C=37\n",
    "print(\"Farhenheit temp. is \"+str(farhrenheit(celcius)))"
   ]
  },
  {
   "cell_type": "code",
   "execution_count": 16,
   "id": "d51cfdf0",
   "metadata": {},
   "outputs": [
    {
     "name": "stdout",
     "output_type": "stream",
     "text": [
      "98.60000000000001\n"
     ]
    }
   ],
   "source": [
    "def farhrenheit(celcius):\n",
    "    return (C*(9/5)+32)\n",
    "C=37\n",
    "print(farhrenheit(celcius))"
   ]
  },
  {
   "cell_type": "markdown",
   "id": "e96cc109",
   "metadata": {},
   "source": [
    "###### 3.How do you prevent a python print function to print a new line at the end"
   ]
  },
  {
   "cell_type": "code",
   "execution_count": 18,
   "id": "f8f93e62",
   "metadata": {},
   "outputs": [
    {
     "name": "stdout",
     "output_type": "stream",
     "text": [
      "Hello\n",
      "How\n",
      "are\n",
      "you\n"
     ]
    }
   ],
   "source": [
    "print(\"Hello\")\n",
    "print(\"How\")\n",
    "print(\"are\")\n",
    "print(\"you\")"
   ]
  },
  {
   "cell_type": "markdown",
   "id": "f072aace",
   "metadata": {},
   "source": [
    "but we want in one line"
   ]
  },
  {
   "cell_type": "code",
   "execution_count": 20,
   "id": "cf8b8bb0",
   "metadata": {},
   "outputs": [
    {
     "name": "stdout",
     "output_type": "stream",
     "text": [
      "Hello How are you "
     ]
    }
   ],
   "source": [
    "print(\"Hello\",end=\" \")\n",
    "print(\"How\",end=\" \")\n",
    "print(\"are\",end=\" \")\n",
    "print(\"you\",end=\" \")"
   ]
  },
  {
   "cell_type": "markdown",
   "id": "c8fa2bc0",
   "metadata": {},
   "source": [
    "###### Q.Extra Question "
   ]
  },
  {
   "cell_type": "code",
   "execution_count": 22,
   "id": "fd5b1612",
   "metadata": {},
   "outputs": [],
   "source": [
    "n=3"
   ]
  },
  {
   "cell_type": "code",
   "execution_count": 23,
   "id": "b286e109",
   "metadata": {},
   "outputs": [
    {
     "name": "stdout",
     "output_type": "stream",
     "text": [
      "   *   \n",
      "  ***  \n",
      " ***** \n"
     ]
    }
   ],
   "source": [
    "for i in range (3):\n",
    "    print(\" \"*(n-i-1),end=\" \")\n",
    "    print(\"*\"*(2*i+1),end=\" \")\n",
    "    print(\" \"*(n-i-1))"
   ]
  },
  {
   "cell_type": "code",
   "execution_count": 24,
   "id": "8d7c6f18",
   "metadata": {},
   "outputs": [
    {
     "name": "stdout",
     "output_type": "stream",
     "text": [
      "Hello How\n",
      "are\n",
      "you\n"
     ]
    }
   ],
   "source": [
    "print(\"Hello\",end=\" \")\n",
    "print(\"How\")\n",
    "print(\"are\")\n",
    "print(\"you\")"
   ]
  },
  {
   "cell_type": "code",
   "execution_count": 25,
   "id": "f24384b7",
   "metadata": {},
   "outputs": [
    {
     "name": "stdout",
     "output_type": "stream",
     "text": [
      "   *\n",
      "  \n",
      "  ***\n",
      " \n",
      " *****\n",
      "\n"
     ]
    }
   ],
   "source": [
    "for i in range (3):\n",
    "    print(\" \"*(n-i-1),end=\" \")\n",
    "    print(\"*\"*(2*i+1))\n",
    "    print(\" \"*(n-i-1))"
   ]
  },
  {
   "cell_type": "markdown",
   "id": "203dfc7a",
   "metadata": {},
   "source": [
    "###### Oberserve above problems (IMP)"
   ]
  },
  {
   "cell_type": "markdown",
   "id": "ad1726fd",
   "metadata": {},
   "source": [
    "###### 4.Write a recursive function to calculate the sum of first n natural numbers??"
   ]
  },
  {
   "cell_type": "code",
   "execution_count": null,
   "id": "485f856d",
   "metadata": {},
   "outputs": [],
   "source": []
  },
  {
   "cell_type": "markdown",
   "id": "de954eb6",
   "metadata": {},
   "source": [
    "###### Q.5 Write a Python function to print first n lines of the following pattrn??"
   ]
  },
  {
   "cell_type": "raw",
   "id": "164b8ef6",
   "metadata": {},
   "source": [
    "* * *\n",
    "* *\n",
    "*        for n=3"
   ]
  },
  {
   "cell_type": "code",
   "execution_count": 27,
   "id": "9a2fbb83",
   "metadata": {},
   "outputs": [
    {
     "name": "stdout",
     "output_type": "stream",
     "text": [
      "* * * \n",
      "* * \n",
      "* \n"
     ]
    }
   ],
   "source": [
    "for i in range (n):\n",
    "    print(\"* \"*(n-i))"
   ]
  },
  {
   "cell_type": "markdown",
   "id": "7271014c",
   "metadata": {},
   "source": [
    "###### Q.6 Write a Python funtion which convert inches to cms??"
   ]
  },
  {
   "cell_type": "code",
   "execution_count": null,
   "id": "ad38a46e",
   "metadata": {},
   "outputs": [],
   "source": []
  },
  {
   "cell_type": "markdown",
   "id": "31a46d9f",
   "metadata": {},
   "source": [
    "###### Q.7 Write a Python to remove a given word from a string and it at the same time??\n"
   ]
  },
  {
   "cell_type": "raw",
   "id": "b3faa575",
   "metadata": {},
   "source": [
    "\"    Onkar is a good    \""
   ]
  },
  {
   "cell_type": "code",
   "execution_count": 6,
   "id": "0e028ffe",
   "metadata": {},
   "outputs": [
    {
     "name": "stdout",
     "output_type": "stream",
     "text": [
      "   Onkar is a good   \n",
      "Onkar is a good\n"
     ]
    }
   ],
   "source": [
    "this=\"   Onkar is a good   \"\n",
    "print(this)\n",
    "print(this.strip())\n"
   ]
  },
  {
   "cell_type": "markdown",
   "id": "8b94544a",
   "metadata": {},
   "source": [
    "###### This is function of strip "
   ]
  },
  {
   "cell_type": "markdown",
   "id": "079ad9ce",
   "metadata": {},
   "source": [
    "Ans of Q.7 is as follows"
   ]
  },
  {
   "cell_type": "code",
   "execution_count": 7,
   "id": "9636a42b",
   "metadata": {},
   "outputs": [
    {
     "name": "stdout",
     "output_type": "stream",
     "text": [
      "is a good\n"
     ]
    }
   ],
   "source": [
    "def remove_and_split(string,word):\n",
    "    A=string.replace(word,\" \")\n",
    "    return A.strip()\n",
    "this=\"  Onkar is a good  \"\n",
    "n=remove_and_split(this,\"Onkar\")\n",
    "print(n)"
   ]
  },
  {
   "cell_type": "code",
   "execution_count": 8,
   "id": "c8db414c",
   "metadata": {},
   "outputs": [
    {
     "name": "stdout",
     "output_type": "stream",
     "text": [
      "is a good\n"
     ]
    }
   ],
   "source": [
    "this=\"  Onkar is a good  \"\n",
    "n=remove_and_split(this,\"Onkar\")\n",
    "print(n)"
   ]
  },
  {
   "cell_type": "markdown",
   "id": "88c55e28",
   "metadata": {},
   "source": [
    "###### Q.8 Write a Python function to print multiplication table of a given number??"
   ]
  },
  {
   "cell_type": "code",
   "execution_count": null,
   "id": "639e72af",
   "metadata": {},
   "outputs": [],
   "source": [
    "+"
   ]
  }
 ],
 "metadata": {
  "kernelspec": {
   "display_name": "Python 3",
   "language": "python",
   "name": "python3"
  },
  "language_info": {
   "codemirror_mode": {
    "name": "ipython",
    "version": 3
   },
   "file_extension": ".py",
   "mimetype": "text/x-python",
   "name": "python",
   "nbconvert_exporter": "python",
   "pygments_lexer": "ipython3",
   "version": "3.8.8"
  }
 },
 "nbformat": 4,
 "nbformat_minor": 5
}
