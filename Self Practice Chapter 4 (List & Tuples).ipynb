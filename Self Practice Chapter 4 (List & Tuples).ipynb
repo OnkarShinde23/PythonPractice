{
 "cells": [
  {
   "cell_type": "markdown",
   "id": "76630fe1",
   "metadata": {},
   "source": [
    "# List & Tuples"
   ]
  },
  {
   "cell_type": "markdown",
   "id": "4fe098f3",
   "metadata": {},
   "source": [
    "### List"
   ]
  },
  {
   "cell_type": "code",
   "execution_count": 36,
   "id": "a1f8e8af",
   "metadata": {},
   "outputs": [],
   "source": [
    "a=[1,2,3,4,5,6,7,8]"
   ]
  },
  {
   "cell_type": "code",
   "execution_count": 37,
   "id": "d91142e0",
   "metadata": {},
   "outputs": [],
   "source": [
    "b=['Onkar','Rahul',99,'Akash',12,'Ganesh']"
   ]
  },
  {
   "cell_type": "code",
   "execution_count": 38,
   "id": "33c51b7f",
   "metadata": {},
   "outputs": [],
   "source": [
    "c=[9,7,8,4,6,3,2,8]"
   ]
  },
  {
   "cell_type": "markdown",
   "id": "7e4f41ef",
   "metadata": {},
   "source": [
    "##### New No. add in List on other no."
   ]
  },
  {
   "cell_type": "code",
   "execution_count": 39,
   "id": "ea717d73",
   "metadata": {},
   "outputs": [],
   "source": [
    "a=[1,2,55,77,99]"
   ]
  },
  {
   "cell_type": "code",
   "execution_count": 40,
   "id": "287dc448",
   "metadata": {},
   "outputs": [],
   "source": [
    "a[0]=44"
   ]
  },
  {
   "cell_type": "code",
   "execution_count": 41,
   "id": "89f7b290",
   "metadata": {},
   "outputs": [
    {
     "name": "stdout",
     "output_type": "stream",
     "text": [
      "[44, 2, 55, 77, 99]\n"
     ]
    }
   ],
   "source": [
    "print(a)"
   ]
  },
  {
   "cell_type": "code",
   "execution_count": 42,
   "id": "ff047e03",
   "metadata": {},
   "outputs": [],
   "source": [
    "a[1]=77"
   ]
  },
  {
   "cell_type": "code",
   "execution_count": 43,
   "id": "3591a5a6",
   "metadata": {},
   "outputs": [
    {
     "name": "stdout",
     "output_type": "stream",
     "text": [
      "[44, 77, 55, 77, 99]\n"
     ]
    }
   ],
   "source": [
    "print(a)"
   ]
  },
  {
   "cell_type": "markdown",
   "id": "2621232d",
   "metadata": {},
   "source": [
    "##### Index identification"
   ]
  },
  {
   "cell_type": "code",
   "execution_count": 44,
   "id": "83498d2b",
   "metadata": {},
   "outputs": [],
   "source": [
    "b=[1,8,0,4,33,67,99]"
   ]
  },
  {
   "cell_type": "code",
   "execution_count": 45,
   "id": "35febe98",
   "metadata": {},
   "outputs": [
    {
     "name": "stdout",
     "output_type": "stream",
     "text": [
      "33\n"
     ]
    }
   ],
   "source": [
    "print(b[4])"
   ]
  },
  {
   "cell_type": "code",
   "execution_count": 46,
   "id": "e1ce914e",
   "metadata": {},
   "outputs": [
    {
     "name": "stdout",
     "output_type": "stream",
     "text": [
      "67\n"
     ]
    }
   ],
   "source": [
    "print(b[5])"
   ]
  },
  {
   "cell_type": "markdown",
   "id": "b78c78b7",
   "metadata": {},
   "source": [
    "##### List Slicing"
   ]
  },
  {
   "cell_type": "code",
   "execution_count": 47,
   "id": "52408503",
   "metadata": {},
   "outputs": [],
   "source": [
    "friends=[\"Rahul\",\"Onkar\",\"Avinash\",\"Sumit\",\"Munna\",\"Om\",\"Vijay\"]"
   ]
  },
  {
   "cell_type": "code",
   "execution_count": 48,
   "id": "6162b417",
   "metadata": {},
   "outputs": [
    {
     "name": "stdout",
     "output_type": "stream",
     "text": [
      "['Rahul', 'Onkar', 'Avinash', 'Sumit', 'Munna', 'Om', 'Vijay']\n"
     ]
    }
   ],
   "source": [
    "print(friends)"
   ]
  },
  {
   "cell_type": "code",
   "execution_count": 49,
   "id": "31ced8c8",
   "metadata": {},
   "outputs": [
    {
     "name": "stdout",
     "output_type": "stream",
     "text": [
      "['Rahul', 'Onkar', 'Avinash']\n"
     ]
    }
   ],
   "source": [
    "print(friends[0:3])"
   ]
  },
  {
   "cell_type": "code",
   "execution_count": 50,
   "id": "d0678e5b",
   "metadata": {},
   "outputs": [
    {
     "name": "stdout",
     "output_type": "stream",
     "text": [
      "['Onkar', 'Avinash', 'Sumit', 'Munna', 'Om']\n"
     ]
    }
   ],
   "source": [
    "print(friends[1:6])"
   ]
  },
  {
   "cell_type": "code",
   "execution_count": 51,
   "id": "9c38f92a",
   "metadata": {},
   "outputs": [
    {
     "name": "stdout",
     "output_type": "stream",
     "text": [
      "['Sumit', 'Munna', 'Om', 'Vijay']\n"
     ]
    }
   ],
   "source": [
    "print(friends[-4:])"
   ]
  },
  {
   "cell_type": "code",
   "execution_count": 52,
   "id": "cc6c77db",
   "metadata": {},
   "outputs": [
    {
     "name": "stdout",
     "output_type": "stream",
     "text": [
      "['Sumit', 'Munna', 'Om']\n"
     ]
    }
   ],
   "source": [
    "print(friends[-4:-1])"
   ]
  },
  {
   "cell_type": "code",
   "execution_count": 53,
   "id": "88292ecd",
   "metadata": {},
   "outputs": [
    {
     "name": "stdout",
     "output_type": "stream",
     "text": [
      "[]\n"
     ]
    }
   ],
   "source": [
    "print(friends[-1:-5]) #means -1 to onwards can not run"
   ]
  },
  {
   "cell_type": "markdown",
   "id": "0d289134",
   "metadata": {},
   "source": [
    "##### List Methods"
   ]
  },
  {
   "cell_type": "markdown",
   "id": "322746c3",
   "metadata": {},
   "source": [
    "##### Sort"
   ]
  },
  {
   "cell_type": "code",
   "execution_count": 54,
   "id": "5d08ad1e",
   "metadata": {},
   "outputs": [],
   "source": [
    "L1=[1,9,6,8,3,5,2]"
   ]
  },
  {
   "cell_type": "code",
   "execution_count": 55,
   "id": "4b08ebc8",
   "metadata": {},
   "outputs": [],
   "source": [
    "L1.sort()"
   ]
  },
  {
   "cell_type": "code",
   "execution_count": 56,
   "id": "ffd72139",
   "metadata": {},
   "outputs": [
    {
     "name": "stdout",
     "output_type": "stream",
     "text": [
      "[1, 2, 3, 5, 6, 8, 9]\n"
     ]
    }
   ],
   "source": [
    "print(L1)"
   ]
  },
  {
   "cell_type": "markdown",
   "id": "1e8b2d5c",
   "metadata": {},
   "source": [
    "##### Sort means arrange list in Assending order."
   ]
  },
  {
   "cell_type": "markdown",
   "id": "c2859af5",
   "metadata": {},
   "source": [
    "##### Reverse"
   ]
  },
  {
   "cell_type": "code",
   "execution_count": 57,
   "id": "959dd22a",
   "metadata": {},
   "outputs": [],
   "source": [
    "P=[2,6,9,8,5,7,1,0]"
   ]
  },
  {
   "cell_type": "code",
   "execution_count": 58,
   "id": "7e89c048",
   "metadata": {},
   "outputs": [],
   "source": [
    "P.reverse()"
   ]
  },
  {
   "cell_type": "code",
   "execution_count": 59,
   "id": "0e60122d",
   "metadata": {},
   "outputs": [
    {
     "name": "stdout",
     "output_type": "stream",
     "text": [
      "[0, 1, 7, 5, 8, 9, 6, 2]\n"
     ]
    }
   ],
   "source": [
    "print(P)"
   ]
  },
  {
   "cell_type": "markdown",
   "id": "f035bb53",
   "metadata": {},
   "source": [
    "##### Append"
   ]
  },
  {
   "cell_type": "code",
   "execution_count": 60,
   "id": "5869b636",
   "metadata": {},
   "outputs": [],
   "source": [
    "z=[3,5,6,7,9,2,33,55,65,89]"
   ]
  },
  {
   "cell_type": "code",
   "execution_count": 61,
   "id": "718fc09a",
   "metadata": {},
   "outputs": [],
   "source": [
    "z.append(50)"
   ]
  },
  {
   "cell_type": "code",
   "execution_count": 62,
   "id": "61b46566",
   "metadata": {},
   "outputs": [
    {
     "name": "stdout",
     "output_type": "stream",
     "text": [
      "[3, 5, 6, 7, 9, 2, 33, 55, 65, 89, 50]\n"
     ]
    }
   ],
   "source": [
    "print(z)"
   ]
  },
  {
   "cell_type": "code",
   "execution_count": 63,
   "id": "bc1eaef9",
   "metadata": {},
   "outputs": [],
   "source": [
    "z.append(friends)"
   ]
  },
  {
   "cell_type": "code",
   "execution_count": 64,
   "id": "e1906cec",
   "metadata": {},
   "outputs": [
    {
     "name": "stdout",
     "output_type": "stream",
     "text": [
      "[3, 5, 6, 7, 9, 2, 33, 55, 65, 89, 50, ['Rahul', 'Onkar', 'Avinash', 'Sumit', 'Munna', 'Om', 'Vijay']]\n"
     ]
    }
   ],
   "source": [
    "print(z)"
   ]
  },
  {
   "cell_type": "code",
   "execution_count": 65,
   "id": "9a377928",
   "metadata": {},
   "outputs": [],
   "source": [
    "z.append(234)"
   ]
  },
  {
   "cell_type": "code",
   "execution_count": 66,
   "id": "1f7d1a5e",
   "metadata": {},
   "outputs": [
    {
     "name": "stdout",
     "output_type": "stream",
     "text": [
      "[3, 5, 6, 7, 9, 2, 33, 55, 65, 89, 50, ['Rahul', 'Onkar', 'Avinash', 'Sumit', 'Munna', 'Om', 'Vijay'], 234]\n"
     ]
    }
   ],
   "source": [
    "print(z)"
   ]
  },
  {
   "cell_type": "markdown",
   "id": "5dabb1f1",
   "metadata": {},
   "source": [
    "##### Extend"
   ]
  },
  {
   "cell_type": "code",
   "execution_count": 67,
   "id": "59d292ba",
   "metadata": {},
   "outputs": [],
   "source": [
    "R=[2,3,6,5,7,99,22,45,8]"
   ]
  },
  {
   "cell_type": "code",
   "execution_count": 68,
   "id": "21b78a84",
   "metadata": {},
   "outputs": [],
   "source": [
    "R.extend(friends)"
   ]
  },
  {
   "cell_type": "code",
   "execution_count": 69,
   "id": "44fcfd3f",
   "metadata": {},
   "outputs": [
    {
     "name": "stdout",
     "output_type": "stream",
     "text": [
      "[2, 3, 6, 5, 7, 99, 22, 45, 8, 'Rahul', 'Onkar', 'Avinash', 'Sumit', 'Munna', 'Om', 'Vijay']\n"
     ]
    }
   ],
   "source": [
    "print(R)"
   ]
  },
  {
   "cell_type": "code",
   "execution_count": 70,
   "id": "0781d749",
   "metadata": {},
   "outputs": [
    {
     "ename": "TypeError",
     "evalue": "extend() takes exactly one argument (4 given)",
     "output_type": "error",
     "traceback": [
      "\u001b[1;31m---------------------------------------------------------------------------\u001b[0m",
      "\u001b[1;31mTypeError\u001b[0m                                 Traceback (most recent call last)",
      "\u001b[1;32m<ipython-input-70-35a81fe08a02>\u001b[0m in \u001b[0;36m<module>\u001b[1;34m\u001b[0m\n\u001b[1;32m----> 1\u001b[1;33m \u001b[0mR\u001b[0m\u001b[1;33m.\u001b[0m\u001b[0mextend\u001b[0m\u001b[1;33m(\u001b[0m\u001b[1;36m23\u001b[0m\u001b[1;33m,\u001b[0m\u001b[1;36m45\u001b[0m\u001b[1;33m,\u001b[0m\u001b[1;36m78\u001b[0m\u001b[1;33m,\u001b[0m\u001b[1;36m90\u001b[0m\u001b[1;33m)\u001b[0m\u001b[1;33m\u001b[0m\u001b[1;33m\u001b[0m\u001b[0m\n\u001b[0m",
      "\u001b[1;31mTypeError\u001b[0m: extend() takes exactly one argument (4 given)"
     ]
    }
   ],
   "source": [
    "R.extend(23,45,78,90)"
   ]
  },
  {
   "cell_type": "code",
   "execution_count": 71,
   "id": "c5c3139f",
   "metadata": {},
   "outputs": [
    {
     "ename": "TypeError",
     "evalue": "'int' object is not iterable",
     "output_type": "error",
     "traceback": [
      "\u001b[1;31m---------------------------------------------------------------------------\u001b[0m",
      "\u001b[1;31mTypeError\u001b[0m                                 Traceback (most recent call last)",
      "\u001b[1;32m<ipython-input-71-b01f05f1dba2>\u001b[0m in \u001b[0;36m<module>\u001b[1;34m\u001b[0m\n\u001b[1;32m----> 1\u001b[1;33m \u001b[0mR\u001b[0m\u001b[1;33m.\u001b[0m\u001b[0mextend\u001b[0m\u001b[1;33m(\u001b[0m\u001b[1;36m33\u001b[0m\u001b[1;33m)\u001b[0m\u001b[1;33m\u001b[0m\u001b[1;33m\u001b[0m\u001b[0m\n\u001b[0m",
      "\u001b[1;31mTypeError\u001b[0m: 'int' object is not iterable"
     ]
    }
   ],
   "source": [
    "R.extend(33)"
   ]
  },
  {
   "cell_type": "code",
   "execution_count": 72,
   "id": "4da61c25",
   "metadata": {},
   "outputs": [],
   "source": [
    "R.extend(b)"
   ]
  },
  {
   "cell_type": "code",
   "execution_count": 73,
   "id": "46c76914",
   "metadata": {},
   "outputs": [
    {
     "name": "stdout",
     "output_type": "stream",
     "text": [
      "[2, 3, 6, 5, 7, 99, 22, 45, 8, 'Rahul', 'Onkar', 'Avinash', 'Sumit', 'Munna', 'Om', 'Vijay', 1, 8, 0, 4, 33, 67, 99]\n"
     ]
    }
   ],
   "source": [
    "print(R)"
   ]
  },
  {
   "cell_type": "markdown",
   "id": "513b38e8",
   "metadata": {},
   "source": [
    "##### Insert"
   ]
  },
  {
   "cell_type": "code",
   "execution_count": 74,
   "id": "bf7fe5b7",
   "metadata": {},
   "outputs": [],
   "source": [
    "D=[450,34,56,234,987]"
   ]
  },
  {
   "cell_type": "code",
   "execution_count": 75,
   "id": "15014c8a",
   "metadata": {},
   "outputs": [],
   "source": [
    "D.insert(0,45)"
   ]
  },
  {
   "cell_type": "code",
   "execution_count": 76,
   "id": "26b6cccd",
   "metadata": {},
   "outputs": [
    {
     "name": "stdout",
     "output_type": "stream",
     "text": [
      "[45, 450, 34, 56, 234, 987]\n"
     ]
    }
   ],
   "source": [
    "print(D)"
   ]
  },
  {
   "cell_type": "code",
   "execution_count": 77,
   "id": "e872f0f5",
   "metadata": {},
   "outputs": [],
   "source": [
    "D.insert(2,567)"
   ]
  },
  {
   "cell_type": "code",
   "execution_count": 78,
   "id": "08ea9b09",
   "metadata": {},
   "outputs": [
    {
     "name": "stdout",
     "output_type": "stream",
     "text": [
      "[45, 450, 567, 34, 56, 234, 987]\n"
     ]
    }
   ],
   "source": [
    "print(D)"
   ]
  },
  {
   "cell_type": "code",
   "execution_count": 79,
   "id": "90de17d8",
   "metadata": {},
   "outputs": [],
   "source": [
    "D.insert(7,\"Onkar\")"
   ]
  },
  {
   "cell_type": "code",
   "execution_count": 80,
   "id": "3057b336",
   "metadata": {},
   "outputs": [
    {
     "name": "stdout",
     "output_type": "stream",
     "text": [
      "[45, 450, 567, 34, 56, 234, 987, 'Onkar']\n"
     ]
    }
   ],
   "source": [
    "print(D)"
   ]
  },
  {
   "cell_type": "markdown",
   "id": "501dd5be",
   "metadata": {},
   "source": [
    "##### Pop"
   ]
  },
  {
   "cell_type": "code",
   "execution_count": 81,
   "id": "a20f3124",
   "metadata": {},
   "outputs": [],
   "source": [
    "W=[5,65,33,47,3,6,4]"
   ]
  },
  {
   "cell_type": "code",
   "execution_count": 82,
   "id": "90b662b1",
   "metadata": {},
   "outputs": [
    {
     "data": {
      "text/plain": [
       "47"
      ]
     },
     "execution_count": 82,
     "metadata": {},
     "output_type": "execute_result"
    }
   ],
   "source": [
    "W.pop(3)"
   ]
  },
  {
   "cell_type": "code",
   "execution_count": 83,
   "id": "a28114e4",
   "metadata": {},
   "outputs": [
    {
     "name": "stdout",
     "output_type": "stream",
     "text": [
      "[5, 65, 33, 3, 6, 4]\n"
     ]
    }
   ],
   "source": [
    "print(W)"
   ]
  },
  {
   "cell_type": "code",
   "execution_count": 84,
   "id": "f7facc3d",
   "metadata": {},
   "outputs": [
    {
     "data": {
      "text/plain": [
       "5"
      ]
     },
     "execution_count": 84,
     "metadata": {},
     "output_type": "execute_result"
    }
   ],
   "source": [
    "W.pop(0)"
   ]
  },
  {
   "cell_type": "code",
   "execution_count": 85,
   "id": "af8e5419",
   "metadata": {},
   "outputs": [
    {
     "name": "stdout",
     "output_type": "stream",
     "text": [
      "[65, 33, 3, 6, 4]\n"
     ]
    }
   ],
   "source": [
    "print(W)"
   ]
  },
  {
   "cell_type": "markdown",
   "id": "ee4a4b65",
   "metadata": {},
   "source": [
    "###### Pop means delete the element at given index and return its value"
   ]
  },
  {
   "cell_type": "markdown",
   "id": "dfe2212b",
   "metadata": {},
   "source": [
    "##### Remove"
   ]
  },
  {
   "cell_type": "code",
   "execution_count": 86,
   "id": "8b65249c",
   "metadata": {},
   "outputs": [],
   "source": [
    "F=[33,55,78,22,59]"
   ]
  },
  {
   "cell_type": "code",
   "execution_count": 87,
   "id": "fc79d2bb",
   "metadata": {},
   "outputs": [],
   "source": [
    "F.remove(78)"
   ]
  },
  {
   "cell_type": "code",
   "execution_count": 88,
   "id": "4490b263",
   "metadata": {},
   "outputs": [
    {
     "name": "stdout",
     "output_type": "stream",
     "text": [
      "[33, 55, 22, 59]\n"
     ]
    }
   ],
   "source": [
    "print(F)"
   ]
  },
  {
   "cell_type": "code",
   "execution_count": 89,
   "id": "6bf8f46c",
   "metadata": {},
   "outputs": [],
   "source": [
    "F.remove(22)"
   ]
  },
  {
   "cell_type": "code",
   "execution_count": 90,
   "id": "b8cbee35",
   "metadata": {},
   "outputs": [
    {
     "name": "stdout",
     "output_type": "stream",
     "text": [
      "[33, 55, 59]\n"
     ]
    }
   ],
   "source": [
    "print(F)"
   ]
  },
  {
   "cell_type": "markdown",
   "id": "a1e820ec",
   "metadata": {},
   "source": [
    "### Tuples"
   ]
  },
  {
   "cell_type": "code",
   "execution_count": 91,
   "id": "b8a82230",
   "metadata": {},
   "outputs": [],
   "source": [
    "t=(1,3,5,3,4)"
   ]
  },
  {
   "cell_type": "code",
   "execution_count": 92,
   "id": "02462a4a",
   "metadata": {},
   "outputs": [
    {
     "name": "stdout",
     "output_type": "stream",
     "text": [
      "(1, 3, 5, 3, 4)\n"
     ]
    }
   ],
   "source": [
    "print(t)"
   ]
  },
  {
   "cell_type": "code",
   "execution_count": 93,
   "id": "9a210100",
   "metadata": {},
   "outputs": [],
   "source": [
    "Z=()"
   ]
  },
  {
   "cell_type": "code",
   "execution_count": 94,
   "id": "1fb2d9de",
   "metadata": {},
   "outputs": [
    {
     "name": "stdout",
     "output_type": "stream",
     "text": [
      "()\n"
     ]
    }
   ],
   "source": [
    "print(Z)"
   ]
  },
  {
   "cell_type": "code",
   "execution_count": 95,
   "id": "9dde6559",
   "metadata": {},
   "outputs": [],
   "source": [
    "Y=(2)"
   ]
  },
  {
   "cell_type": "code",
   "execution_count": 96,
   "id": "cd3d63b3",
   "metadata": {},
   "outputs": [
    {
     "name": "stdout",
     "output_type": "stream",
     "text": [
      "2\n"
     ]
    }
   ],
   "source": [
    "print(Y)"
   ]
  },
  {
   "cell_type": "code",
   "execution_count": 97,
   "id": "a9dd5334",
   "metadata": {},
   "outputs": [],
   "source": [
    "L=(1,)"
   ]
  },
  {
   "cell_type": "code",
   "execution_count": 98,
   "id": "8d1e0184",
   "metadata": {},
   "outputs": [
    {
     "name": "stdout",
     "output_type": "stream",
     "text": [
      "(1,)\n"
     ]
    }
   ],
   "source": [
    "print(L)"
   ]
  },
  {
   "cell_type": "code",
   "execution_count": 99,
   "id": "85ab8d5a",
   "metadata": {},
   "outputs": [],
   "source": [
    "O=(33,234,56,89,78)"
   ]
  },
  {
   "cell_type": "code",
   "execution_count": 100,
   "id": "ca49b314",
   "metadata": {},
   "outputs": [
    {
     "name": "stdout",
     "output_type": "stream",
     "text": [
      "(33, 234, 56, 89, 78)\n"
     ]
    }
   ],
   "source": [
    "print(O)"
   ]
  },
  {
   "cell_type": "markdown",
   "id": "6dcf63c6",
   "metadata": {},
   "source": [
    "##### Tuple Methods"
   ]
  },
  {
   "cell_type": "code",
   "execution_count": 101,
   "id": "72066335",
   "metadata": {},
   "outputs": [],
   "source": [
    "t=(1,4,6,4,4,4,43,9,0,44,56,4,78,4,90,4)"
   ]
  },
  {
   "cell_type": "code",
   "execution_count": 102,
   "id": "c92360b2",
   "metadata": {},
   "outputs": [
    {
     "name": "stdout",
     "output_type": "stream",
     "text": [
      "(1, 4, 6, 4, 4, 4, 43, 9, 0, 44, 56, 4, 78, 4, 90, 4)\n"
     ]
    }
   ],
   "source": [
    "print(t)"
   ]
  },
  {
   "cell_type": "markdown",
   "id": "53bf8b07",
   "metadata": {},
   "source": [
    "##### Count"
   ]
  },
  {
   "cell_type": "code",
   "execution_count": 103,
   "id": "61093e97",
   "metadata": {},
   "outputs": [
    {
     "data": {
      "text/plain": [
       "7"
      ]
     },
     "execution_count": 103,
     "metadata": {},
     "output_type": "execute_result"
    }
   ],
   "source": [
    "t.count(4)"
   ]
  },
  {
   "cell_type": "markdown",
   "id": "9fba95fc",
   "metadata": {},
   "source": [
    "##### Index"
   ]
  },
  {
   "cell_type": "code",
   "execution_count": 104,
   "id": "fe3551a7",
   "metadata": {},
   "outputs": [
    {
     "data": {
      "text/plain": [
       "10"
      ]
     },
     "execution_count": 104,
     "metadata": {},
     "output_type": "execute_result"
    }
   ],
   "source": [
    "t.index(56)"
   ]
  },
  {
   "cell_type": "code",
   "execution_count": 105,
   "id": "6b140212",
   "metadata": {},
   "outputs": [
    {
     "name": "stdout",
     "output_type": "stream",
     "text": [
      "(1, 4, 6, 4, 4, 4, 43, 9, 0, 44, 56, 4, 78, 4, 90, 4)\n"
     ]
    }
   ],
   "source": [
    "print(t)"
   ]
  },
  {
   "cell_type": "code",
   "execution_count": 106,
   "id": "8084ff70",
   "metadata": {},
   "outputs": [
    {
     "name": "stdout",
     "output_type": "stream",
     "text": [
      "10\n"
     ]
    }
   ],
   "source": [
    "print(t.index(56))"
   ]
  },
  {
   "cell_type": "markdown",
   "id": "6ebb4fe7",
   "metadata": {},
   "source": [
    "# Practice Set.4"
   ]
  },
  {
   "cell_type": "markdown",
   "id": "c730deac",
   "metadata": {},
   "source": [
    "###### 1.Write a program to store seven fruits in list entered by user??"
   ]
  },
  {
   "cell_type": "code",
   "execution_count": 107,
   "id": "dc329b2a",
   "metadata": {},
   "outputs": [
    {
     "name": "stdout",
     "output_type": "stream",
     "text": [
      "Enter fruit name:Apple\n"
     ]
    }
   ],
   "source": [
    "f1 = input(\"Enter fruit name:\")"
   ]
  },
  {
   "cell_type": "code",
   "execution_count": 108,
   "id": "ed002c1e",
   "metadata": {},
   "outputs": [
    {
     "name": "stdout",
     "output_type": "stream",
     "text": [
      "Enter fruit name:Mango\n"
     ]
    }
   ],
   "source": [
    "f2 = input(\"Enter fruit name:\")"
   ]
  },
  {
   "cell_type": "code",
   "execution_count": 109,
   "id": "e9d641e9",
   "metadata": {},
   "outputs": [
    {
     "name": "stdout",
     "output_type": "stream",
     "text": [
      "Enter fruit name:Banana\n"
     ]
    }
   ],
   "source": [
    "f3 = input(\"Enter fruit name:\")"
   ]
  },
  {
   "cell_type": "code",
   "execution_count": 110,
   "id": "ab415187",
   "metadata": {},
   "outputs": [
    {
     "name": "stdout",
     "output_type": "stream",
     "text": [
      "Enter fruit name:Straberry\n"
     ]
    }
   ],
   "source": [
    "f4 = input(\"Enter fruit name:\")"
   ]
  },
  {
   "cell_type": "code",
   "execution_count": 111,
   "id": "c51ae709",
   "metadata": {},
   "outputs": [
    {
     "name": "stdout",
     "output_type": "stream",
     "text": [
      "Enter fruit name:Orange\n"
     ]
    }
   ],
   "source": [
    "f5 = input(\"Enter fruit name:\")"
   ]
  },
  {
   "cell_type": "code",
   "execution_count": 112,
   "id": "a91e7c46",
   "metadata": {},
   "outputs": [
    {
     "name": "stdout",
     "output_type": "stream",
     "text": [
      "Enter fruit name:Kiwi\n"
     ]
    }
   ],
   "source": [
    "f6 = input(\"Enter fruit name:\")"
   ]
  },
  {
   "cell_type": "code",
   "execution_count": 113,
   "id": "53313c2d",
   "metadata": {},
   "outputs": [
    {
     "name": "stdout",
     "output_type": "stream",
     "text": [
      "Enter fruit name:Grapes\n"
     ]
    }
   ],
   "source": [
    "f7 = input(\"Enter fruit name:\")"
   ]
  },
  {
   "cell_type": "code",
   "execution_count": 114,
   "id": "6c118bb1",
   "metadata": {},
   "outputs": [],
   "source": [
    "MyFruitList=[f1,f2,f3,f4,f5,f6,f7]"
   ]
  },
  {
   "cell_type": "code",
   "execution_count": 115,
   "id": "f3968c68",
   "metadata": {},
   "outputs": [
    {
     "name": "stdout",
     "output_type": "stream",
     "text": [
      "['Apple', 'Mango', 'Banana', 'Straberry', 'Orange', 'Kiwi', 'Grapes']\n"
     ]
    }
   ],
   "source": [
    "print(MyFruitList)"
   ]
  },
  {
   "cell_type": "markdown",
   "id": "1fca122c",
   "metadata": {},
   "source": [
    "###### 2.Write a program to accept marks of 6 students and display them in a sorted manner??"
   ]
  },
  {
   "cell_type": "code",
   "execution_count": 117,
   "id": "fcc80984",
   "metadata": {},
   "outputs": [
    {
     "name": "stdout",
     "output_type": "stream",
     "text": [
      "Enter Student's Mark's:56\n"
     ]
    }
   ],
   "source": [
    "M1=int(input(\"Enter Student's Mark's:\"))"
   ]
  },
  {
   "cell_type": "code",
   "execution_count": 118,
   "id": "2f1bea13",
   "metadata": {},
   "outputs": [
    {
     "name": "stdout",
     "output_type": "stream",
     "text": [
      "Enter Student's Mark's:85\n"
     ]
    }
   ],
   "source": [
    "M2=int(input(\"Enter Student's Mark's:\"))"
   ]
  },
  {
   "cell_type": "code",
   "execution_count": 119,
   "id": "e5aad6a2",
   "metadata": {},
   "outputs": [
    {
     "name": "stdout",
     "output_type": "stream",
     "text": [
      "Enter Student's Mark's:88\n"
     ]
    }
   ],
   "source": [
    "M3=int(input(\"Enter Student's Mark's:\"))"
   ]
  },
  {
   "cell_type": "code",
   "execution_count": 120,
   "id": "0b1d4a06",
   "metadata": {},
   "outputs": [
    {
     "name": "stdout",
     "output_type": "stream",
     "text": [
      "Enter Student's Mark's:92\n"
     ]
    }
   ],
   "source": [
    "M4=int(input(\"Enter Student's Mark's:\"))"
   ]
  },
  {
   "cell_type": "code",
   "execution_count": 121,
   "id": "bf39e3b0",
   "metadata": {},
   "outputs": [
    {
     "name": "stdout",
     "output_type": "stream",
     "text": [
      "Enter Student's Mark's:74\n"
     ]
    }
   ],
   "source": [
    "M5=int(input(\"Enter Student's Mark's:\"))"
   ]
  },
  {
   "cell_type": "code",
   "execution_count": 122,
   "id": "f7900946",
   "metadata": {},
   "outputs": [
    {
     "name": "stdout",
     "output_type": "stream",
     "text": [
      "Enter Student's Mark's:98\n"
     ]
    }
   ],
   "source": [
    "M6=int(input(\"Enter Student's Mark's:\"))"
   ]
  },
  {
   "cell_type": "code",
   "execution_count": 124,
   "id": "3f4815d7",
   "metadata": {},
   "outputs": [],
   "source": [
    "MarkofStudents=[M1,M2,M3,M4,M5,M6]"
   ]
  },
  {
   "cell_type": "code",
   "execution_count": 125,
   "id": "cd25bd74",
   "metadata": {},
   "outputs": [
    {
     "name": "stdout",
     "output_type": "stream",
     "text": [
      "[56, 85, 88, 92, 74, 98]\n"
     ]
    }
   ],
   "source": [
    "print(MarkofStudents)"
   ]
  },
  {
   "cell_type": "code",
   "execution_count": 127,
   "id": "33cb2770",
   "metadata": {},
   "outputs": [],
   "source": [
    "MarkofStudents.sort()"
   ]
  },
  {
   "cell_type": "code",
   "execution_count": 128,
   "id": "ca512c39",
   "metadata": {},
   "outputs": [
    {
     "name": "stdout",
     "output_type": "stream",
     "text": [
      "[56, 74, 85, 88, 92, 98]\n"
     ]
    }
   ],
   "source": [
    "print(MarkofStudents)"
   ]
  },
  {
   "cell_type": "markdown",
   "id": "860f6b93",
   "metadata": {},
   "source": [
    "###### 3.Check that a tuple cannot be changed in python??"
   ]
  },
  {
   "cell_type": "code",
   "execution_count": 129,
   "id": "ce31b67d",
   "metadata": {},
   "outputs": [],
   "source": [
    "w=(22,55,78,95,88)"
   ]
  },
  {
   "cell_type": "code",
   "execution_count": 130,
   "id": "f13e2a1d",
   "metadata": {},
   "outputs": [
    {
     "ename": "AttributeError",
     "evalue": "'tuple' object has no attribute 'insert'",
     "output_type": "error",
     "traceback": [
      "\u001b[1;31m---------------------------------------------------------------------------\u001b[0m",
      "\u001b[1;31mAttributeError\u001b[0m                            Traceback (most recent call last)",
      "\u001b[1;32m<ipython-input-130-a0231668f050>\u001b[0m in \u001b[0;36m<module>\u001b[1;34m\u001b[0m\n\u001b[1;32m----> 1\u001b[1;33m \u001b[0mw\u001b[0m\u001b[1;33m.\u001b[0m\u001b[0minsert\u001b[0m\u001b[1;33m(\u001b[0m\u001b[1;36m43\u001b[0m\u001b[1;33m)\u001b[0m\u001b[1;33m\u001b[0m\u001b[1;33m\u001b[0m\u001b[0m\n\u001b[0m",
      "\u001b[1;31mAttributeError\u001b[0m: 'tuple' object has no attribute 'insert'"
     ]
    }
   ],
   "source": [
    "w.insert(43)"
   ]
  },
  {
   "cell_type": "code",
   "execution_count": 131,
   "id": "3f4879a6",
   "metadata": {},
   "outputs": [
    {
     "ename": "TypeError",
     "evalue": "'tuple' object does not support item assignment",
     "output_type": "error",
     "traceback": [
      "\u001b[1;31m---------------------------------------------------------------------------\u001b[0m",
      "\u001b[1;31mTypeError\u001b[0m                                 Traceback (most recent call last)",
      "\u001b[1;32m<ipython-input-131-d42c409346f4>\u001b[0m in \u001b[0;36m<module>\u001b[1;34m\u001b[0m\n\u001b[1;32m----> 1\u001b[1;33m \u001b[0mw\u001b[0m\u001b[1;33m[\u001b[0m\u001b[1;36m2\u001b[0m\u001b[1;33m]\u001b[0m\u001b[1;33m=\u001b[0m\u001b[1;36m77\u001b[0m\u001b[1;33m\u001b[0m\u001b[1;33m\u001b[0m\u001b[0m\n\u001b[0m",
      "\u001b[1;31mTypeError\u001b[0m: 'tuple' object does not support item assignment"
     ]
    }
   ],
   "source": [
    "w[2]=77"
   ]
  },
  {
   "cell_type": "markdown",
   "id": "5c933198",
   "metadata": {},
   "source": [
    "###### Means we cannot change tuple after formation"
   ]
  },
  {
   "cell_type": "markdown",
   "id": "4fc4218d",
   "metadata": {},
   "source": [
    "###### 4.Write a Program to Sum a list with 4 numbers??"
   ]
  },
  {
   "cell_type": "code",
   "execution_count": 132,
   "id": "675962d3",
   "metadata": {},
   "outputs": [],
   "source": [
    "r=(22,43,76,98)"
   ]
  },
  {
   "cell_type": "code",
   "execution_count": 133,
   "id": "230d7e33",
   "metadata": {},
   "outputs": [
    {
     "name": "stdout",
     "output_type": "stream",
     "text": [
      "239\n"
     ]
    }
   ],
   "source": [
    "print(r[0]+r[1]+r[2]+r[3])"
   ]
  },
  {
   "cell_type": "markdown",
   "id": "f256ab39",
   "metadata": {},
   "source": [
    "###### 5.Write a program to count the number of zeros in the following tuple??\n",
    "tup=(7,0,8,0,0,9)"
   ]
  },
  {
   "cell_type": "code",
   "execution_count": 134,
   "id": "38b78a0a",
   "metadata": {},
   "outputs": [],
   "source": [
    "tup=(7,0,8,0,0,9)"
   ]
  },
  {
   "cell_type": "code",
   "execution_count": 136,
   "id": "52e5042d",
   "metadata": {},
   "outputs": [
    {
     "data": {
      "text/plain": [
       "3"
      ]
     },
     "execution_count": 136,
     "metadata": {},
     "output_type": "execute_result"
    }
   ],
   "source": [
    "tup.count(0)"
   ]
  },
  {
   "cell_type": "code",
   "execution_count": 137,
   "id": "b8dadd50",
   "metadata": {},
   "outputs": [
    {
     "name": "stdout",
     "output_type": "stream",
     "text": [
      "3\n"
     ]
    }
   ],
   "source": [
    "print(tup.count(0))"
   ]
  },
  {
   "cell_type": "code",
   "execution_count": null,
   "id": "4f82965a",
   "metadata": {},
   "outputs": [],
   "source": []
  }
 ],
 "metadata": {
  "kernelspec": {
   "display_name": "Python 3",
   "language": "python",
   "name": "python3"
  },
  "language_info": {
   "codemirror_mode": {
    "name": "ipython",
    "version": 3
   },
   "file_extension": ".py",
   "mimetype": "text/x-python",
   "name": "python",
   "nbconvert_exporter": "python",
   "pygments_lexer": "ipython3",
   "version": "3.8.8"
  }
 },
 "nbformat": 4,
 "nbformat_minor": 5
}
