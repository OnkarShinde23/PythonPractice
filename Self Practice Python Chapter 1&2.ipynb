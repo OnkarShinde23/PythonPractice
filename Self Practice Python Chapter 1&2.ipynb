{
 "cells": [
  {
   "cell_type": "code",
   "execution_count": 9,
   "id": "4a9de065",
   "metadata": {},
   "outputs": [
    {
     "name": "stdout",
     "output_type": "stream",
     "text": [
      "Hello World\n"
     ]
    }
   ],
   "source": [
    "print(\"Hello World\")"
   ]
  },
  {
   "cell_type": "code",
   "execution_count": 10,
   "id": "a9dbc869",
   "metadata": {},
   "outputs": [],
   "source": [
    "#Name"
   ]
  },
  {
   "cell_type": "code",
   "execution_count": 11,
   "id": "affa6301",
   "metadata": {},
   "outputs": [
    {
     "data": {
      "text/plain": [
       "'Onkar Rahul'"
      ]
     },
     "execution_count": 11,
     "metadata": {},
     "output_type": "execute_result"
    }
   ],
   "source": [
    "'Onkar Rahul'"
   ]
  },
  {
   "cell_type": "code",
   "execution_count": 12,
   "id": "cf7bc921",
   "metadata": {},
   "outputs": [
    {
     "data": {
      "text/plain": [
       "'Onkar Avinash Rahul'"
      ]
     },
     "execution_count": 12,
     "metadata": {},
     "output_type": "execute_result"
    }
   ],
   "source": [
    "'''Onkar Avinash Rahul'''"
   ]
  },
  {
   "cell_type": "code",
   "execution_count": 13,
   "id": "5902317a",
   "metadata": {},
   "outputs": [
    {
     "data": {
      "text/plain": [
       "'Onkar\\nAvinash\\nRahul'"
      ]
     },
     "execution_count": 13,
     "metadata": {},
     "output_type": "execute_result"
    }
   ],
   "source": [
    "'''Onkar\n",
    "Avinash\n",
    "Rahul'''"
   ]
  },
  {
   "cell_type": "code",
   "execution_count": 14,
   "id": "f670d504",
   "metadata": {},
   "outputs": [
    {
     "data": {
      "text/plain": [
       "'Onkar Avinash'"
      ]
     },
     "execution_count": 14,
     "metadata": {},
     "output_type": "execute_result"
    }
   ],
   "source": [
    "\"Onkar Avinash\""
   ]
  },
  {
   "cell_type": "code",
   "execution_count": 15,
   "id": "77af0f46",
   "metadata": {},
   "outputs": [
    {
     "ename": "SyntaxError",
     "evalue": "EOL while scanning string literal (<ipython-input-15-f7a8e1a1211b>, line 1)",
     "output_type": "error",
     "traceback": [
      "\u001b[1;36m  File \u001b[1;32m\"<ipython-input-15-f7a8e1a1211b>\"\u001b[1;36m, line \u001b[1;32m1\u001b[0m\n\u001b[1;33m    print(\"Twinkle, twinkle, little star\u001b[0m\n\u001b[1;37m                                        ^\u001b[0m\n\u001b[1;31mSyntaxError\u001b[0m\u001b[1;31m:\u001b[0m EOL while scanning string literal\n"
     ]
    }
   ],
   "source": [
    "print(\"Twinkle, twinkle, little star\n",
    "       How I wonder what you are\n",
    "       Up above the world so high\n",
    "       Like a diamond in the sky\")"
   ]
  },
  {
   "cell_type": "code",
   "execution_count": 16,
   "id": "0bf65a17",
   "metadata": {},
   "outputs": [
    {
     "name": "stdout",
     "output_type": "stream",
     "text": [
      "Twinkle, twinkle, little star\n",
      "How I wonder what you are\n",
      "Up above the world so high\n",
      "Like a diamond in the sky\n"
     ]
    }
   ],
   "source": [
    "print('''Twinkle, twinkle, little star\n",
    "How I wonder what you are\n",
    "Up above the world so high\n",
    "Like a diamond in the sky''')"
   ]
  },
  {
   "cell_type": "code",
   "execution_count": 17,
   "id": "66d50ef9",
   "metadata": {},
   "outputs": [],
   "source": [
    "#onkar shinde"
   ]
  },
  {
   "cell_type": "markdown",
   "id": "3c180691",
   "metadata": {},
   "source": [
    "### onkar shinde"
   ]
  },
  {
   "cell_type": "code",
   "execution_count": 18,
   "id": "6ac57f3c",
   "metadata": {},
   "outputs": [],
   "source": [
    "#onkar shinde\n",
    "#Location : Pune \n",
    "#DOB : 29/05/1996\n",
    "#NBNSCOE"
   ]
  },
  {
   "cell_type": "code",
   "execution_count": 19,
   "id": "80ff8ea5",
   "metadata": {},
   "outputs": [],
   "source": [
    " import os"
   ]
  },
  {
   "cell_type": "code",
   "execution_count": 20,
   "id": "10618a0e",
   "metadata": {},
   "outputs": [
    {
     "name": "stdout",
     "output_type": "stream",
     "text": [
      "['DirEntry', 'F_OK', 'MutableMapping', 'O_APPEND', 'O_BINARY', 'O_CREAT', 'O_EXCL', 'O_NOINHERIT', 'O_RANDOM', 'O_RDONLY', 'O_RDWR', 'O_SEQUENTIAL', 'O_SHORT_LIVED', 'O_TEMPORARY', 'O_TEXT', 'O_TRUNC', 'O_WRONLY', 'P_DETACH', 'P_NOWAIT', 'P_NOWAITO', 'P_OVERLAY', 'P_WAIT', 'PathLike', 'R_OK', 'SEEK_CUR', 'SEEK_END', 'SEEK_SET', 'TMP_MAX', 'W_OK', 'X_OK', '_AddedDllDirectory', '_Environ', '__all__', '__builtins__', '__cached__', '__doc__', '__file__', '__loader__', '__name__', '__package__', '__spec__', '_check_methods', '_execvpe', '_exists', '_exit', '_fspath', '_get_exports_list', '_putenv', '_unsetenv', '_wrap_close', 'abc', 'abort', 'access', 'add_dll_directory', 'altsep', 'chdir', 'chmod', 'close', 'closerange', 'cpu_count', 'curdir', 'defpath', 'device_encoding', 'devnull', 'dup', 'dup2', 'environ', 'error', 'execl', 'execle', 'execlp', 'execlpe', 'execv', 'execve', 'execvp', 'execvpe', 'extsep', 'fdopen', 'fsdecode', 'fsencode', 'fspath', 'fstat', 'fsync', 'ftruncate', 'get_exec_path', 'get_handle_inheritable', 'get_inheritable', 'get_terminal_size', 'getcwd', 'getcwdb', 'getenv', 'getlogin', 'getpid', 'getppid', 'isatty', 'kill', 'linesep', 'link', 'listdir', 'lseek', 'lstat', 'makedirs', 'mkdir', 'name', 'open', 'pardir', 'path', 'pathsep', 'pipe', 'popen', 'putenv', 'read', 'readlink', 'remove', 'removedirs', 'rename', 'renames', 'replace', 'rmdir', 'scandir', 'sep', 'set_handle_inheritable', 'set_inheritable', 'spawnl', 'spawnle', 'spawnv', 'spawnve', 'st', 'startfile', 'stat', 'stat_result', 'statvfs_result', 'strerror', 'supports_bytes_environ', 'supports_dir_fd', 'supports_effective_ids', 'supports_fd', 'supports_follow_symlinks', 'symlink', 'sys', 'system', 'terminal_size', 'times', 'times_result', 'truncate', 'umask', 'uname_result', 'unlink', 'urandom', 'utime', 'waitpid', 'walk', 'write']\n"
     ]
    }
   ],
   "source": [
    "print(dir(os))"
   ]
  },
  {
   "cell_type": "markdown",
   "id": "8e9ff68b",
   "metadata": {},
   "source": [
    "# Variable"
   ]
  },
  {
   "cell_type": "code",
   "execution_count": 21,
   "id": "e4aff4e1",
   "metadata": {},
   "outputs": [],
   "source": [
    "a=30"
   ]
  },
  {
   "cell_type": "code",
   "execution_count": 22,
   "id": "593f73af",
   "metadata": {},
   "outputs": [],
   "source": [
    "b=\"Onkar\""
   ]
  },
  {
   "cell_type": "code",
   "execution_count": 23,
   "id": "693f7fb7",
   "metadata": {},
   "outputs": [],
   "source": [
    "c=71.22"
   ]
  },
  {
   "cell_type": "markdown",
   "id": "943d7ee8",
   "metadata": {},
   "source": [
    "## Rules of varible writting"
   ]
  },
  {
   "cell_type": "markdown",
   "id": "26f22eea",
   "metadata": {},
   "source": [
    "### 1)A variable name must start with letter or under_score character"
   ]
  },
  {
   "cell_type": "code",
   "execution_count": 24,
   "id": "43cd3f93",
   "metadata": {},
   "outputs": [],
   "source": [
    "myvari= \"Onkar\""
   ]
  },
  {
   "cell_type": "code",
   "execution_count": 25,
   "id": "a897ac8b",
   "metadata": {},
   "outputs": [],
   "source": [
    "_a=45"
   ]
  },
  {
   "cell_type": "code",
   "execution_count": 26,
   "id": "102d0647",
   "metadata": {},
   "outputs": [],
   "source": [
    "Myvar='Shinde'"
   ]
  },
  {
   "cell_type": "code",
   "execution_count": 27,
   "id": "c1c34976",
   "metadata": {},
   "outputs": [
    {
     "ename": "SyntaxError",
     "evalue": "cannot assign to literal (<ipython-input-27-e6b897780a05>, line 1)",
     "output_type": "error",
     "traceback": [
      "\u001b[1;36m  File \u001b[1;32m\"<ipython-input-27-e6b897780a05>\"\u001b[1;36m, line \u001b[1;32m1\u001b[0m\n\u001b[1;33m    1=\"onkar\"\u001b[0m\n\u001b[1;37m    ^\u001b[0m\n\u001b[1;31mSyntaxError\u001b[0m\u001b[1;31m:\u001b[0m cannot assign to literal\n"
     ]
    }
   ],
   "source": [
    "1=\"onkar\""
   ]
  },
  {
   "cell_type": "code",
   "execution_count": 28,
   "id": "44d1fee7",
   "metadata": {},
   "outputs": [
    {
     "ename": "SyntaxError",
     "evalue": "invalid syntax (<ipython-input-28-17c36499e627>, line 1)",
     "output_type": "error",
     "traceback": [
      "\u001b[1;36m  File \u001b[1;32m\"<ipython-input-28-17c36499e627>\"\u001b[1;36m, line \u001b[1;32m1\u001b[0m\n\u001b[1;33m    1a=\"onkar\"\u001b[0m\n\u001b[1;37m     ^\u001b[0m\n\u001b[1;31mSyntaxError\u001b[0m\u001b[1;31m:\u001b[0m invalid syntax\n"
     ]
    }
   ],
   "source": [
    "1a=\"onkar\""
   ]
  },
  {
   "cell_type": "markdown",
   "id": "bd9af28f",
   "metadata": {},
   "source": [
    "###### above conditions shows that Rule 1st is Satisfied"
   ]
  },
  {
   "cell_type": "markdown",
   "id": "646bd2b5",
   "metadata": {},
   "source": [
    "### 2)A Varible can not start with number"
   ]
  },
  {
   "cell_type": "code",
   "execution_count": 29,
   "id": "f3e2cfda",
   "metadata": {},
   "outputs": [
    {
     "ename": "SyntaxError",
     "evalue": "cannot assign to literal (<ipython-input-29-2fe174acad35>, line 1)",
     "output_type": "error",
     "traceback": [
      "\u001b[1;36m  File \u001b[1;32m\"<ipython-input-29-2fe174acad35>\"\u001b[1;36m, line \u001b[1;32m1\u001b[0m\n\u001b[1;33m    2=\"Africa\"\u001b[0m\n\u001b[1;37m    ^\u001b[0m\n\u001b[1;31mSyntaxError\u001b[0m\u001b[1;31m:\u001b[0m cannot assign to literal\n"
     ]
    }
   ],
   "source": [
    "2=\"Africa\""
   ]
  },
  {
   "cell_type": "code",
   "execution_count": 30,
   "id": "eda79416",
   "metadata": {},
   "outputs": [
    {
     "ename": "SyntaxError",
     "evalue": "invalid syntax (<ipython-input-30-fc6fbc804b25>, line 1)",
     "output_type": "error",
     "traceback": [
      "\u001b[1;36m  File \u001b[1;32m\"<ipython-input-30-fc6fbc804b25>\"\u001b[1;36m, line \u001b[1;32m1\u001b[0m\n\u001b[1;33m    9S=\"Hindi\"\u001b[0m\n\u001b[1;37m     ^\u001b[0m\n\u001b[1;31mSyntaxError\u001b[0m\u001b[1;31m:\u001b[0m invalid syntax\n"
     ]
    }
   ],
   "source": [
    "9S=\"Hindi\""
   ]
  },
  {
   "cell_type": "markdown",
   "id": "bb0c377c",
   "metadata": {},
   "source": [
    "###### above conditions shows that Rule 2nd is satisfied "
   ]
  },
  {
   "cell_type": "markdown",
   "id": "2082af08",
   "metadata": {},
   "source": [
    "### 3)Varible name must be Case Sensitive "
   ]
  },
  {
   "cell_type": "code",
   "execution_count": 31,
   "id": "52a54aae",
   "metadata": {},
   "outputs": [],
   "source": [
    "age=2"
   ]
  },
  {
   "cell_type": "code",
   "execution_count": 32,
   "id": "74a49575",
   "metadata": {},
   "outputs": [],
   "source": [
    "Age=2"
   ]
  },
  {
   "cell_type": "code",
   "execution_count": 33,
   "id": "eba2dd17",
   "metadata": {},
   "outputs": [],
   "source": [
    "AGE=2"
   ]
  },
  {
   "cell_type": "markdown",
   "id": "033179b1",
   "metadata": {},
   "source": [
    "###### This rule shows us 'age','Age','AGE' all are different codes.i.e case sensitive "
   ]
  },
  {
   "cell_type": "markdown",
   "id": "711d0295",
   "metadata": {},
   "source": [
    "### 4) A variable name can only contain alpha , numeric, characters,and under_scores"
   ]
  },
  {
   "cell_type": "code",
   "execution_count": 34,
   "id": "7424e7cc",
   "metadata": {},
   "outputs": [
    {
     "ename": "SyntaxError",
     "evalue": "invalid syntax (<ipython-input-34-ae8154c8cc08>, line 1)",
     "output_type": "error",
     "traceback": [
      "\u001b[1;36m  File \u001b[1;32m\"<ipython-input-34-ae8154c8cc08>\"\u001b[1;36m, line \u001b[1;32m1\u001b[0m\n\u001b[1;33m    &=\"om\"\u001b[0m\n\u001b[1;37m    ^\u001b[0m\n\u001b[1;31mSyntaxError\u001b[0m\u001b[1;31m:\u001b[0m invalid syntax\n"
     ]
    }
   ],
   "source": [
    "&=\"om\""
   ]
  },
  {
   "cell_type": "code",
   "execution_count": 35,
   "id": "893f5bdf",
   "metadata": {},
   "outputs": [
    {
     "ename": "SyntaxError",
     "evalue": "invalid syntax (<ipython-input-35-8cd80d1c8eec>, line 1)",
     "output_type": "error",
     "traceback": [
      "\u001b[1;36m  File \u001b[1;32m\"<ipython-input-35-8cd80d1c8eec>\"\u001b[1;36m, line \u001b[1;32m1\u001b[0m\n\u001b[1;33m    @=33\u001b[0m\n\u001b[1;37m    ^\u001b[0m\n\u001b[1;31mSyntaxError\u001b[0m\u001b[1;31m:\u001b[0m invalid syntax\n"
     ]
    }
   ],
   "source": [
    "@=33"
   ]
  },
  {
   "cell_type": "markdown",
   "id": "48c09706",
   "metadata": {},
   "source": [
    "###### Rule no. 4 is satisfied"
   ]
  },
  {
   "cell_type": "markdown",
   "id": "84aab6ee",
   "metadata": {},
   "source": [
    "### 5)There can't be space among varible name"
   ]
  },
  {
   "cell_type": "code",
   "execution_count": 36,
   "id": "a1dc394a",
   "metadata": {},
   "outputs": [],
   "source": [
    "Myvar=55"
   ]
  },
  {
   "cell_type": "code",
   "execution_count": 37,
   "id": "c937fbdc",
   "metadata": {},
   "outputs": [
    {
     "ename": "SyntaxError",
     "evalue": "invalid syntax (<ipython-input-37-cddb9f498a9d>, line 1)",
     "output_type": "error",
     "traceback": [
      "\u001b[1;36m  File \u001b[1;32m\"<ipython-input-37-cddb9f498a9d>\"\u001b[1;36m, line \u001b[1;32m1\u001b[0m\n\u001b[1;33m    My var=55\u001b[0m\n\u001b[1;37m       ^\u001b[0m\n\u001b[1;31mSyntaxError\u001b[0m\u001b[1;31m:\u001b[0m invalid syntax\n"
     ]
    }
   ],
   "source": [
    "My var=55"
   ]
  },
  {
   "cell_type": "markdown",
   "id": "64786c2f",
   "metadata": {},
   "source": [
    "###### Above conditions shows Rule 5th is satisfied"
   ]
  },
  {
   "cell_type": "markdown",
   "id": "f5d698ac",
   "metadata": {},
   "source": [
    "## Keywords"
   ]
  },
  {
   "cell_type": "code",
   "execution_count": 38,
   "id": "5d69b2f4",
   "metadata": {},
   "outputs": [],
   "source": [
    "a=\"False\""
   ]
  },
  {
   "cell_type": "code",
   "execution_count": 39,
   "id": "2fdd415c",
   "metadata": {},
   "outputs": [],
   "source": [
    "Onkar=55"
   ]
  },
  {
   "cell_type": "code",
   "execution_count": 40,
   "id": "7b4d0914",
   "metadata": {},
   "outputs": [
    {
     "ename": "SyntaxError",
     "evalue": "cannot assign to False (<ipython-input-40-b2334fe3fe44>, line 1)",
     "output_type": "error",
     "traceback": [
      "\u001b[1;36m  File \u001b[1;32m\"<ipython-input-40-b2334fe3fe44>\"\u001b[1;36m, line \u001b[1;32m1\u001b[0m\n\u001b[1;33m    False=55\u001b[0m\n\u001b[1;37m    ^\u001b[0m\n\u001b[1;31mSyntaxError\u001b[0m\u001b[1;31m:\u001b[0m cannot assign to False\n"
     ]
    }
   ],
   "source": [
    "False=55"
   ]
  },
  {
   "cell_type": "code",
   "execution_count": 41,
   "id": "e0810f67",
   "metadata": {},
   "outputs": [
    {
     "ename": "SyntaxError",
     "evalue": "invalid syntax (<ipython-input-41-e7927cdbd0d1>, line 1)",
     "output_type": "error",
     "traceback": [
      "\u001b[1;36m  File \u001b[1;32m\"<ipython-input-41-e7927cdbd0d1>\"\u001b[1;36m, line \u001b[1;32m1\u001b[0m\n\u001b[1;33m    if=88\u001b[0m\n\u001b[1;37m      ^\u001b[0m\n\u001b[1;31mSyntaxError\u001b[0m\u001b[1;31m:\u001b[0m invalid syntax\n"
     ]
    }
   ],
   "source": [
    "if=88"
   ]
  },
  {
   "cell_type": "markdown",
   "id": "98af9b4f",
   "metadata": {},
   "source": [
    "###### Above condition shows that Keywords can not be used as variable names."
   ]
  },
  {
   "cell_type": "code",
   "execution_count": 42,
   "id": "baa5f459",
   "metadata": {},
   "outputs": [],
   "source": [
    "b=\"or\""
   ]
  },
  {
   "cell_type": "code",
   "execution_count": 43,
   "id": "a63ba12d",
   "metadata": {},
   "outputs": [],
   "source": [
    "b=\"Or\""
   ]
  },
  {
   "cell_type": "code",
   "execution_count": 44,
   "id": "906f18d4",
   "metadata": {},
   "outputs": [],
   "source": [
    "s=\"OR\""
   ]
  },
  {
   "cell_type": "code",
   "execution_count": 45,
   "id": "e7d54159",
   "metadata": {},
   "outputs": [
    {
     "ename": "SyntaxError",
     "evalue": "invalid syntax (<ipython-input-45-dac2b7c274f6>, line 1)",
     "output_type": "error",
     "traceback": [
      "\u001b[1;36m  File \u001b[1;32m\"<ipython-input-45-dac2b7c274f6>\"\u001b[1;36m, line \u001b[1;32m1\u001b[0m\n\u001b[1;33m    or=\"Onkar\"\u001b[0m\n\u001b[1;37m    ^\u001b[0m\n\u001b[1;31mSyntaxError\u001b[0m\u001b[1;31m:\u001b[0m invalid syntax\n"
     ]
    }
   ],
   "source": [
    "or=\"Onkar\""
   ]
  },
  {
   "cell_type": "code",
   "execution_count": 46,
   "id": "e7835022",
   "metadata": {},
   "outputs": [],
   "source": [
    "Or=\"Himalaya\""
   ]
  },
  {
   "cell_type": "code",
   "execution_count": 47,
   "id": "8e415e24",
   "metadata": {},
   "outputs": [],
   "source": [
    "OR=456"
   ]
  },
  {
   "cell_type": "markdown",
   "id": "876ee291",
   "metadata": {},
   "source": [
    "###### Means keywords cannot be used as varible names"
   ]
  },
  {
   "cell_type": "markdown",
   "id": "3eb01ff8",
   "metadata": {},
   "source": [
    "# Data Types"
   ]
  },
  {
   "cell_type": "markdown",
   "id": "2e91b62c",
   "metadata": {},
   "source": [
    "### Integers"
   ]
  },
  {
   "cell_type": "code",
   "execution_count": 48,
   "id": "a0fa4248",
   "metadata": {},
   "outputs": [],
   "source": [
    "A=25"
   ]
  },
  {
   "cell_type": "code",
   "execution_count": 49,
   "id": "24a3c817",
   "metadata": {},
   "outputs": [
    {
     "name": "stdout",
     "output_type": "stream",
     "text": [
      "25\n"
     ]
    }
   ],
   "source": [
    "print(A)"
   ]
  },
  {
   "cell_type": "code",
   "execution_count": 50,
   "id": "8d565241",
   "metadata": {},
   "outputs": [],
   "source": [
    "d=9"
   ]
  },
  {
   "cell_type": "code",
   "execution_count": 51,
   "id": "ee9a5ab9",
   "metadata": {},
   "outputs": [
    {
     "name": "stdout",
     "output_type": "stream",
     "text": [
      "9\n"
     ]
    }
   ],
   "source": [
    "print(d)"
   ]
  },
  {
   "cell_type": "code",
   "execution_count": 52,
   "id": "e1dd3408",
   "metadata": {},
   "outputs": [
    {
     "name": "stdout",
     "output_type": "stream",
     "text": [
      "<class 'int'>\n"
     ]
    }
   ],
   "source": [
    "print(type(A))"
   ]
  },
  {
   "cell_type": "markdown",
   "id": "b6bb5cf9",
   "metadata": {},
   "source": [
    "### Float"
   ]
  },
  {
   "cell_type": "code",
   "execution_count": 53,
   "id": "00497c03",
   "metadata": {},
   "outputs": [],
   "source": [
    "e=4.4"
   ]
  },
  {
   "cell_type": "code",
   "execution_count": 54,
   "id": "47f61921",
   "metadata": {},
   "outputs": [
    {
     "name": "stdout",
     "output_type": "stream",
     "text": [
      "4.4\n"
     ]
    }
   ],
   "source": [
    "print (e)"
   ]
  },
  {
   "cell_type": "code",
   "execution_count": 55,
   "id": "de495018",
   "metadata": {},
   "outputs": [],
   "source": [
    "k=31.2"
   ]
  },
  {
   "cell_type": "code",
   "execution_count": 56,
   "id": "c98cb04c",
   "metadata": {},
   "outputs": [
    {
     "name": "stdout",
     "output_type": "stream",
     "text": [
      "31.2\n"
     ]
    }
   ],
   "source": [
    "print(k)"
   ]
  },
  {
   "cell_type": "code",
   "execution_count": 57,
   "id": "f052c26e",
   "metadata": {},
   "outputs": [
    {
     "name": "stdout",
     "output_type": "stream",
     "text": [
      "<class 'float'>\n"
     ]
    }
   ],
   "source": [
    "print(type(k))"
   ]
  },
  {
   "cell_type": "markdown",
   "id": "be0f8bc1",
   "metadata": {},
   "source": [
    "### String"
   ]
  },
  {
   "cell_type": "code",
   "execution_count": 58,
   "id": "62cbd03a",
   "metadata": {},
   "outputs": [],
   "source": [
    "A='Mohan'"
   ]
  },
  {
   "cell_type": "code",
   "execution_count": 59,
   "id": "e04fa5eb",
   "metadata": {},
   "outputs": [
    {
     "name": "stdout",
     "output_type": "stream",
     "text": [
      "Mohan\n"
     ]
    }
   ],
   "source": [
    "print(A)"
   ]
  },
  {
   "cell_type": "code",
   "execution_count": 60,
   "id": "97a76d5e",
   "metadata": {},
   "outputs": [],
   "source": [
    "k=\"OM\""
   ]
  },
  {
   "cell_type": "code",
   "execution_count": 61,
   "id": "4baf4176",
   "metadata": {},
   "outputs": [
    {
     "name": "stdout",
     "output_type": "stream",
     "text": [
      "OM\n"
     ]
    }
   ],
   "source": [
    "print(k)"
   ]
  },
  {
   "cell_type": "code",
   "execution_count": 62,
   "id": "3d67b200",
   "metadata": {},
   "outputs": [
    {
     "name": "stdout",
     "output_type": "stream",
     "text": [
      "<class 'str'>\n"
     ]
    }
   ],
   "source": [
    "print(type(k))"
   ]
  },
  {
   "cell_type": "markdown",
   "id": "1c916d2b",
   "metadata": {},
   "source": [
    "### Boolens"
   ]
  },
  {
   "cell_type": "code",
   "execution_count": 63,
   "id": "0a0112e3",
   "metadata": {},
   "outputs": [],
   "source": [
    "c=2>3"
   ]
  },
  {
   "cell_type": "code",
   "execution_count": 64,
   "id": "e95a636c",
   "metadata": {},
   "outputs": [
    {
     "name": "stdout",
     "output_type": "stream",
     "text": [
      "False\n"
     ]
    }
   ],
   "source": [
    "print(c)"
   ]
  },
  {
   "cell_type": "code",
   "execution_count": 65,
   "id": "4a64d55f",
   "metadata": {},
   "outputs": [],
   "source": [
    "k=(7>3)"
   ]
  },
  {
   "cell_type": "code",
   "execution_count": 66,
   "id": "20b9691d",
   "metadata": {},
   "outputs": [
    {
     "name": "stdout",
     "output_type": "stream",
     "text": [
      "True\n"
     ]
    }
   ],
   "source": [
    "print(k)"
   ]
  },
  {
   "cell_type": "code",
   "execution_count": 67,
   "id": "21001f8c",
   "metadata": {},
   "outputs": [
    {
     "name": "stdout",
     "output_type": "stream",
     "text": [
      "<class 'bool'>\n"
     ]
    }
   ],
   "source": [
    "print(type(k))"
   ]
  },
  {
   "cell_type": "markdown",
   "id": "8da4e424",
   "metadata": {},
   "source": [
    "### None"
   ]
  },
  {
   "cell_type": "code",
   "execution_count": 68,
   "id": "bea872f8",
   "metadata": {},
   "outputs": [],
   "source": [
    "a=None"
   ]
  },
  {
   "cell_type": "code",
   "execution_count": 69,
   "id": "72f80ec3",
   "metadata": {},
   "outputs": [
    {
     "name": "stdout",
     "output_type": "stream",
     "text": [
      "None\n"
     ]
    }
   ],
   "source": [
    "print(a)"
   ]
  },
  {
   "cell_type": "code",
   "execution_count": 70,
   "id": "c6d2871f",
   "metadata": {},
   "outputs": [
    {
     "name": "stdout",
     "output_type": "stream",
     "text": [
      "<class 'NoneType'>\n"
     ]
    }
   ],
   "source": [
    "print(type(a))"
   ]
  },
  {
   "cell_type": "markdown",
   "id": "c5ecb6fd",
   "metadata": {},
   "source": [
    "# Operators"
   ]
  },
  {
   "cell_type": "code",
   "execution_count": 71,
   "id": "e6872825",
   "metadata": {},
   "outputs": [],
   "source": [
    "#1.Arthimetic Operators\n",
    "#2.Assignment Operators\n",
    "#3.Comparision Operators\n",
    "#4.Logical Operators\n",
    "#5.Bitwise Operators\n",
    "#6.Identity Operators\n",
    "#7.Membership Operators"
   ]
  },
  {
   "cell_type": "markdown",
   "id": "dfe37f99",
   "metadata": {},
   "source": [
    "### 1.Arthimetic Operators"
   ]
  },
  {
   "cell_type": "markdown",
   "id": "2a7b60bc",
   "metadata": {},
   "source": [
    "##### (+,-,/,*) These are arthimetic operators. "
   ]
  },
  {
   "cell_type": "code",
   "execution_count": 72,
   "id": "6f68f349",
   "metadata": {},
   "outputs": [],
   "source": [
    "a=3"
   ]
  },
  {
   "cell_type": "code",
   "execution_count": 73,
   "id": "9d014b75",
   "metadata": {},
   "outputs": [],
   "source": [
    "b=4"
   ]
  },
  {
   "cell_type": "code",
   "execution_count": 74,
   "id": "f337f0f2",
   "metadata": {},
   "outputs": [
    {
     "name": "stdout",
     "output_type": "stream",
     "text": [
      "The Value of 3+4 is 7\n"
     ]
    }
   ],
   "source": [
    "print(\"The Value of 3+4 is\",a+b)"
   ]
  },
  {
   "cell_type": "code",
   "execution_count": 75,
   "id": "492dce74",
   "metadata": {},
   "outputs": [
    {
     "data": {
      "text/plain": [
       "12"
      ]
     },
     "execution_count": 75,
     "metadata": {},
     "output_type": "execute_result"
    }
   ],
   "source": [
    "3*4"
   ]
  },
  {
   "cell_type": "code",
   "execution_count": 76,
   "id": "a9bd59e5",
   "metadata": {},
   "outputs": [
    {
     "data": {
      "text/plain": [
       "12"
      ]
     },
     "execution_count": 76,
     "metadata": {},
     "output_type": "execute_result"
    }
   ],
   "source": [
    "a*b"
   ]
  },
  {
   "cell_type": "code",
   "execution_count": 77,
   "id": "546c6bfb",
   "metadata": {},
   "outputs": [
    {
     "data": {
      "text/plain": [
       "7"
      ]
     },
     "execution_count": 77,
     "metadata": {},
     "output_type": "execute_result"
    }
   ],
   "source": [
    "a+b"
   ]
  },
  {
   "cell_type": "code",
   "execution_count": 78,
   "id": "7076e115",
   "metadata": {},
   "outputs": [
    {
     "data": {
      "text/plain": [
       "7"
      ]
     },
     "execution_count": 78,
     "metadata": {},
     "output_type": "execute_result"
    }
   ],
   "source": [
    "3+4"
   ]
  },
  {
   "cell_type": "code",
   "execution_count": 79,
   "id": "6400e58d",
   "metadata": {},
   "outputs": [
    {
     "name": "stdout",
     "output_type": "stream",
     "text": [
      "The Value of a/b is 0.75\n"
     ]
    }
   ],
   "source": [
    "print('The Value of a/b is', a/b)"
   ]
  },
  {
   "cell_type": "markdown",
   "id": "3edbc2fc",
   "metadata": {},
   "source": [
    "### 2.Assignment Operators"
   ]
  },
  {
   "cell_type": "markdown",
   "id": "ab48c054",
   "metadata": {},
   "source": [
    "###### (a+=2,b-=3) These are assignment operators"
   ]
  },
  {
   "cell_type": "code",
   "execution_count": 80,
   "id": "0431ed41",
   "metadata": {},
   "outputs": [],
   "source": [
    "a=34"
   ]
  },
  {
   "cell_type": "code",
   "execution_count": 81,
   "id": "0e663caf",
   "metadata": {},
   "outputs": [],
   "source": [
    "a+=12"
   ]
  },
  {
   "cell_type": "code",
   "execution_count": 82,
   "id": "34cbddaa",
   "metadata": {},
   "outputs": [
    {
     "name": "stdout",
     "output_type": "stream",
     "text": [
      "46\n"
     ]
    }
   ],
   "source": [
    "print(a)"
   ]
  },
  {
   "cell_type": "code",
   "execution_count": 83,
   "id": "e2e0dd13",
   "metadata": {},
   "outputs": [],
   "source": [
    "b=55"
   ]
  },
  {
   "cell_type": "code",
   "execution_count": 84,
   "id": "e4a63703",
   "metadata": {},
   "outputs": [],
   "source": [
    "b-=44"
   ]
  },
  {
   "cell_type": "code",
   "execution_count": 85,
   "id": "34e41b7f",
   "metadata": {},
   "outputs": [
    {
     "name": "stdout",
     "output_type": "stream",
     "text": [
      "11\n"
     ]
    }
   ],
   "source": [
    "print(b)"
   ]
  },
  {
   "cell_type": "markdown",
   "id": "b2745a84",
   "metadata": {},
   "source": [
    "### 3.Comparision Operators"
   ]
  },
  {
   "cell_type": "markdown",
   "id": "ebf2491c",
   "metadata": {},
   "source": [
    "##### (<,>,=,<=,>=) These are comparision operators"
   ]
  },
  {
   "cell_type": "code",
   "execution_count": 86,
   "id": "0303fed5",
   "metadata": {},
   "outputs": [],
   "source": [
    "b=5>9"
   ]
  },
  {
   "cell_type": "code",
   "execution_count": 87,
   "id": "3addaab7",
   "metadata": {},
   "outputs": [
    {
     "name": "stdout",
     "output_type": "stream",
     "text": [
      "False\n"
     ]
    }
   ],
   "source": [
    "print(b)"
   ]
  },
  {
   "cell_type": "code",
   "execution_count": 88,
   "id": "faae6f88",
   "metadata": {},
   "outputs": [],
   "source": [
    "b=5<=9"
   ]
  },
  {
   "cell_type": "code",
   "execution_count": 89,
   "id": "05080af6",
   "metadata": {},
   "outputs": [
    {
     "name": "stdout",
     "output_type": "stream",
     "text": [
      "True\n"
     ]
    }
   ],
   "source": [
    "print(b)"
   ]
  },
  {
   "cell_type": "markdown",
   "id": "bf8fa721",
   "metadata": {},
   "source": [
    "### 4.Logical Operators"
   ]
  },
  {
   "cell_type": "code",
   "execution_count": 90,
   "id": "942d593d",
   "metadata": {},
   "outputs": [],
   "source": [
    "a=True"
   ]
  },
  {
   "cell_type": "code",
   "execution_count": 91,
   "id": "4d0f1b0c",
   "metadata": {},
   "outputs": [],
   "source": [
    "b=False"
   ]
  },
  {
   "cell_type": "code",
   "execution_count": 92,
   "id": "fe046f13",
   "metadata": {},
   "outputs": [
    {
     "name": "stdout",
     "output_type": "stream",
     "text": [
      "The value of a and b is False\n"
     ]
    }
   ],
   "source": [
    "print(\"The value of a and b is\",(a and b))"
   ]
  },
  {
   "cell_type": "markdown",
   "id": "1cdb1f95",
   "metadata": {},
   "source": [
    "# Typecasting"
   ]
  },
  {
   "cell_type": "code",
   "execution_count": 93,
   "id": "e01412c0",
   "metadata": {},
   "outputs": [],
   "source": [
    "a=\"4561\""
   ]
  },
  {
   "cell_type": "code",
   "execution_count": 94,
   "id": "f6071efe",
   "metadata": {},
   "outputs": [
    {
     "name": "stdout",
     "output_type": "stream",
     "text": [
      "4561\n"
     ]
    }
   ],
   "source": [
    "print(a)"
   ]
  },
  {
   "cell_type": "code",
   "execution_count": 95,
   "id": "daa11ed0",
   "metadata": {},
   "outputs": [
    {
     "name": "stdout",
     "output_type": "stream",
     "text": [
      "<class 'str'>\n"
     ]
    }
   ],
   "source": [
    "print(type(a))"
   ]
  },
  {
   "cell_type": "code",
   "execution_count": 96,
   "id": "59b8e86c",
   "metadata": {},
   "outputs": [
    {
     "ename": "TypeError",
     "evalue": "can only concatenate str (not \"int\") to str",
     "output_type": "error",
     "traceback": [
      "\u001b[1;31m---------------------------------------------------------------------------\u001b[0m",
      "\u001b[1;31mTypeError\u001b[0m                                 Traceback (most recent call last)",
      "\u001b[1;32m<ipython-input-96-cc3496892860>\u001b[0m in \u001b[0;36m<module>\u001b[1;34m\u001b[0m\n\u001b[1;32m----> 1\u001b[1;33m \u001b[0mprint\u001b[0m\u001b[1;33m(\u001b[0m\u001b[0ma\u001b[0m\u001b[1;33m+\u001b[0m\u001b[1;36m5\u001b[0m\u001b[1;33m)\u001b[0m\u001b[1;33m\u001b[0m\u001b[1;33m\u001b[0m\u001b[0m\n\u001b[0m",
      "\u001b[1;31mTypeError\u001b[0m: can only concatenate str (not \"int\") to str"
     ]
    }
   ],
   "source": [
    "print(a+5)"
   ]
  },
  {
   "cell_type": "code",
   "execution_count": 97,
   "id": "0af45096",
   "metadata": {},
   "outputs": [],
   "source": [
    "a=int(a)"
   ]
  },
  {
   "cell_type": "code",
   "execution_count": 98,
   "id": "b6c385df",
   "metadata": {},
   "outputs": [
    {
     "name": "stdout",
     "output_type": "stream",
     "text": [
      "4566\n"
     ]
    }
   ],
   "source": [
    "print(a+5)"
   ]
  },
  {
   "cell_type": "code",
   "execution_count": 99,
   "id": "1080c3e9",
   "metadata": {},
   "outputs": [
    {
     "data": {
      "text/plain": [
       "'Typecasting is the way to convert one datatype to another.'"
      ]
     },
     "execution_count": 99,
     "metadata": {},
     "output_type": "execute_result"
    }
   ],
   "source": [
    "'Typecasting is the way to convert one datatype to another.'"
   ]
  },
  {
   "cell_type": "markdown",
   "id": "dce8969b",
   "metadata": {},
   "source": [
    "# Input Function"
   ]
  },
  {
   "cell_type": "code",
   "execution_count": 100,
   "id": "90e805ad",
   "metadata": {},
   "outputs": [
    {
     "name": "stdout",
     "output_type": "stream",
     "text": [
      "enter name:Omkar\n"
     ]
    }
   ],
   "source": [
    "a=input(\"enter name:\")"
   ]
  },
  {
   "cell_type": "code",
   "execution_count": 101,
   "id": "12763c73",
   "metadata": {},
   "outputs": [
    {
     "name": "stdout",
     "output_type": "stream",
     "text": [
      "Omkar\n"
     ]
    }
   ],
   "source": [
    "print(a)"
   ]
  },
  {
   "cell_type": "code",
   "execution_count": 102,
   "id": "7142a17e",
   "metadata": {},
   "outputs": [
    {
     "name": "stdout",
     "output_type": "stream",
     "text": [
      "<class 'str'>\n"
     ]
    }
   ],
   "source": [
    "print(type(a))"
   ]
  },
  {
   "cell_type": "code",
   "execution_count": 103,
   "id": "f40f91b6",
   "metadata": {},
   "outputs": [
    {
     "name": "stdout",
     "output_type": "stream",
     "text": [
      "jnjjnjn:uhsshbb\n"
     ]
    }
   ],
   "source": [
    "b=input(\"jnjjnjn:\")"
   ]
  },
  {
   "cell_type": "code",
   "execution_count": 104,
   "id": "90ccda4f",
   "metadata": {},
   "outputs": [
    {
     "name": "stdout",
     "output_type": "stream",
     "text": [
      "uhsshbb\n"
     ]
    }
   ],
   "source": [
    "print(b)"
   ]
  },
  {
   "cell_type": "code",
   "execution_count": 105,
   "id": "447ffe9a",
   "metadata": {},
   "outputs": [
    {
     "name": "stdout",
     "output_type": "stream",
     "text": [
      "<class 'str'>\n"
     ]
    }
   ],
   "source": [
    "print(type(b))"
   ]
  },
  {
   "cell_type": "code",
   "execution_count": 106,
   "id": "91cc3d38",
   "metadata": {},
   "outputs": [
    {
     "ename": "ValueError",
     "evalue": "invalid literal for int() with base 10: 'uhsshbb'",
     "output_type": "error",
     "traceback": [
      "\u001b[1;31m---------------------------------------------------------------------------\u001b[0m",
      "\u001b[1;31mValueError\u001b[0m                                Traceback (most recent call last)",
      "\u001b[1;32m<ipython-input-106-a753b7776018>\u001b[0m in \u001b[0;36m<module>\u001b[1;34m\u001b[0m\n\u001b[1;32m----> 1\u001b[1;33m \u001b[0mb\u001b[0m\u001b[1;33m=\u001b[0m\u001b[0mint\u001b[0m\u001b[1;33m(\u001b[0m\u001b[0mb\u001b[0m\u001b[1;33m)\u001b[0m\u001b[1;33m\u001b[0m\u001b[1;33m\u001b[0m\u001b[0m\n\u001b[0m",
      "\u001b[1;31mValueError\u001b[0m: invalid literal for int() with base 10: 'uhsshbb'"
     ]
    }
   ],
   "source": [
    "b=int(b)"
   ]
  },
  {
   "cell_type": "code",
   "execution_count": 107,
   "id": "db8a06b4",
   "metadata": {},
   "outputs": [
    {
     "name": "stdout",
     "output_type": "stream",
     "text": [
      "<class 'str'>\n"
     ]
    }
   ],
   "source": [
    "print(type(b))"
   ]
  },
  {
   "cell_type": "code",
   "execution_count": 108,
   "id": "b130bc9b",
   "metadata": {},
   "outputs": [
    {
     "name": "stdout",
     "output_type": "stream",
     "text": [
      "uhsshbb\n"
     ]
    }
   ],
   "source": [
    "print(b)"
   ]
  },
  {
   "cell_type": "markdown",
   "id": "29e45c9c",
   "metadata": {},
   "source": [
    "### Practice Set Chapter 2"
   ]
  },
  {
   "cell_type": "markdown",
   "id": "89bf42c8",
   "metadata": {},
   "source": [
    "###### 1.Write a python program to add two no.?"
   ]
  },
  {
   "cell_type": "code",
   "execution_count": 109,
   "id": "dcbc9d70",
   "metadata": {},
   "outputs": [],
   "source": [
    "a=77"
   ]
  },
  {
   "cell_type": "code",
   "execution_count": 110,
   "id": "6883cd10",
   "metadata": {},
   "outputs": [],
   "source": [
    "b=44"
   ]
  },
  {
   "cell_type": "code",
   "execution_count": 111,
   "id": "cfd2de34",
   "metadata": {},
   "outputs": [
    {
     "name": "stdout",
     "output_type": "stream",
     "text": [
      "121\n"
     ]
    }
   ],
   "source": [
    "print(a+b)"
   ]
  },
  {
   "cell_type": "markdown",
   "id": "d5d22faf",
   "metadata": {},
   "source": [
    "###### 2.Write a python program to find reminder when a number is divided by 2?"
   ]
  },
  {
   "cell_type": "code",
   "execution_count": 112,
   "id": "26fd1d02",
   "metadata": {},
   "outputs": [],
   "source": [
    "a=7"
   ]
  },
  {
   "cell_type": "code",
   "execution_count": 113,
   "id": "918794ea",
   "metadata": {},
   "outputs": [],
   "source": [
    "b=2"
   ]
  },
  {
   "cell_type": "code",
   "execution_count": 114,
   "id": "cb7439a1",
   "metadata": {},
   "outputs": [
    {
     "name": "stdout",
     "output_type": "stream",
     "text": [
      "Reminder when a is divided by b is 1\n"
     ]
    }
   ],
   "source": [
    "print(\"Reminder when a is divided by b is\",a%b)"
   ]
  },
  {
   "cell_type": "markdown",
   "id": "1ebb8300",
   "metadata": {},
   "source": [
    "###### 3.Check the type of the variable assigned using input() function?"
   ]
  },
  {
   "cell_type": "code",
   "execution_count": 116,
   "id": "a378d0f5",
   "metadata": {},
   "outputs": [
    {
     "name": "stdout",
     "output_type": "stream",
     "text": [
      "write your name:OM\n"
     ]
    }
   ],
   "source": [
    "a=input(\"write your name:\")"
   ]
  },
  {
   "cell_type": "code",
   "execution_count": 117,
   "id": "4cd8200b",
   "metadata": {},
   "outputs": [
    {
     "name": "stdout",
     "output_type": "stream",
     "text": [
      "bdhbbhxb:bhbs\n"
     ]
    }
   ],
   "source": [
    "b=input(\"bdhbbhxb:\")"
   ]
  },
  {
   "cell_type": "code",
   "execution_count": 118,
   "id": "5d091520",
   "metadata": {},
   "outputs": [
    {
     "name": "stdout",
     "output_type": "stream",
     "text": [
      "<class 'str'>\n"
     ]
    }
   ],
   "source": [
    "print(type(a))"
   ]
  },
  {
   "cell_type": "markdown",
   "id": "c2bafb9f",
   "metadata": {},
   "source": [
    "###### 4.Use comparision operators to find out whether a given variate a is greater than b or not .Take a=34 and b=80??"
   ]
  },
  {
   "cell_type": "code",
   "execution_count": 119,
   "id": "394a7c4b",
   "metadata": {},
   "outputs": [],
   "source": [
    "a=34"
   ]
  },
  {
   "cell_type": "code",
   "execution_count": 120,
   "id": "8ce56d8b",
   "metadata": {},
   "outputs": [],
   "source": [
    "b=80"
   ]
  },
  {
   "cell_type": "code",
   "execution_count": 121,
   "id": "694d7f2d",
   "metadata": {},
   "outputs": [
    {
     "data": {
      "text/plain": [
       "False"
      ]
     },
     "execution_count": 121,
     "metadata": {},
     "output_type": "execute_result"
    }
   ],
   "source": [
    "a>b"
   ]
  },
  {
   "cell_type": "code",
   "execution_count": 122,
   "id": "d9aa9af8",
   "metadata": {},
   "outputs": [
    {
     "data": {
      "text/plain": [
       "True"
      ]
     },
     "execution_count": 122,
     "metadata": {},
     "output_type": "execute_result"
    }
   ],
   "source": [
    "b>a"
   ]
  },
  {
   "cell_type": "markdown",
   "id": "18b9bf22",
   "metadata": {},
   "source": [
    "###### 5.Write a Python program to find avg. of two numbers entered by user??"
   ]
  },
  {
   "cell_type": "code",
   "execution_count": 123,
   "id": "befca35a",
   "metadata": {},
   "outputs": [],
   "source": [
    "a=67"
   ]
  },
  {
   "cell_type": "code",
   "execution_count": 124,
   "id": "f675c1b2",
   "metadata": {},
   "outputs": [],
   "source": [
    "b=99"
   ]
  },
  {
   "cell_type": "code",
   "execution_count": 125,
   "id": "4b88fb8b",
   "metadata": {},
   "outputs": [
    {
     "data": {
      "text/plain": [
       "83.0"
      ]
     },
     "execution_count": 125,
     "metadata": {},
     "output_type": "execute_result"
    }
   ],
   "source": [
    "(a+b)/2"
   ]
  },
  {
   "cell_type": "markdown",
   "id": "d93ed3f0",
   "metadata": {},
   "source": [
    "### OR"
   ]
  },
  {
   "cell_type": "code",
   "execution_count": 126,
   "id": "55aaa1fb",
   "metadata": {},
   "outputs": [
    {
     "name": "stdout",
     "output_type": "stream",
     "text": [
      "enter first no.45\n"
     ]
    }
   ],
   "source": [
    "a=input(\"enter first no.\")"
   ]
  },
  {
   "cell_type": "code",
   "execution_count": 127,
   "id": "add68df9",
   "metadata": {},
   "outputs": [
    {
     "name": "stdout",
     "output_type": "stream",
     "text": [
      "enter second no.88\n"
     ]
    }
   ],
   "source": [
    "b=input(\"enter second no.\")"
   ]
  },
  {
   "cell_type": "code",
   "execution_count": 128,
   "id": "db1f0c47",
   "metadata": {},
   "outputs": [],
   "source": [
    "a=int(a)"
   ]
  },
  {
   "cell_type": "code",
   "execution_count": 129,
   "id": "232f37ae",
   "metadata": {},
   "outputs": [],
   "source": [
    "b=int(b)"
   ]
  },
  {
   "cell_type": "code",
   "execution_count": 130,
   "id": "3928a195",
   "metadata": {},
   "outputs": [],
   "source": [
    "avg=(a+b)/2"
   ]
  },
  {
   "cell_type": "code",
   "execution_count": 131,
   "id": "c1bd6d81",
   "metadata": {},
   "outputs": [
    {
     "name": "stdout",
     "output_type": "stream",
     "text": [
      "66.5\n"
     ]
    }
   ],
   "source": [
    "print(avg)"
   ]
  },
  {
   "cell_type": "markdown",
   "id": "ca0f9ae4",
   "metadata": {},
   "source": [
    "###### 6.Write a python program to calculate square of a no. entered by user?"
   ]
  },
  {
   "cell_type": "code",
   "execution_count": 132,
   "id": "c7b4cbb8",
   "metadata": {},
   "outputs": [],
   "source": [
    "a=34"
   ]
  },
  {
   "cell_type": "code",
   "execution_count": 133,
   "id": "7a876dc2",
   "metadata": {},
   "outputs": [],
   "source": [
    "Square=(a*a)"
   ]
  },
  {
   "cell_type": "code",
   "execution_count": 134,
   "id": "4bfc2a69",
   "metadata": {},
   "outputs": [
    {
     "name": "stdout",
     "output_type": "stream",
     "text": [
      "1156\n"
     ]
    }
   ],
   "source": [
    "print(Square)"
   ]
  },
  {
   "cell_type": "code",
   "execution_count": null,
   "id": "72956832",
   "metadata": {},
   "outputs": [],
   "source": []
  }
 ],
 "metadata": {
  "kernelspec": {
   "display_name": "Python 3",
   "language": "python",
   "name": "python3"
  },
  "language_info": {
   "codemirror_mode": {
    "name": "ipython",
    "version": 3
   },
   "file_extension": ".py",
   "mimetype": "text/x-python",
   "name": "python",
   "nbconvert_exporter": "python",
   "pygments_lexer": "ipython3",
   "version": "3.8.8"
  }
 },
 "nbformat": 4,
 "nbformat_minor": 5
}
