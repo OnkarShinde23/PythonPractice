{
 "cells": [
  {
   "cell_type": "markdown",
   "id": "66cb444c",
   "metadata": {},
   "source": [
    "###### Q.1 Write a program to find greatest of four numbers entered by the users??"
   ]
  },
  {
   "cell_type": "code",
   "execution_count": 35,
   "id": "fc4952fa",
   "metadata": {},
   "outputs": [
    {
     "name": "stdout",
     "output_type": "stream",
     "text": [
      "enter number:77\n"
     ]
    }
   ],
   "source": [
    "Number1=int(input(\"enter number:\"))"
   ]
  },
  {
   "cell_type": "code",
   "execution_count": 36,
   "id": "cd8c5156",
   "metadata": {},
   "outputs": [
    {
     "name": "stdout",
     "output_type": "stream",
     "text": [
      "enter number:55\n"
     ]
    }
   ],
   "source": [
    "Number2=int(input(\"enter number:\"))"
   ]
  },
  {
   "cell_type": "code",
   "execution_count": 37,
   "id": "37972cc8",
   "metadata": {},
   "outputs": [
    {
     "name": "stdout",
     "output_type": "stream",
     "text": [
      "enter number:23\n"
     ]
    }
   ],
   "source": [
    "Number3=int(input(\"enter number:\"))"
   ]
  },
  {
   "cell_type": "code",
   "execution_count": 38,
   "id": "7458a913",
   "metadata": {},
   "outputs": [
    {
     "name": "stdout",
     "output_type": "stream",
     "text": [
      "enter number:11\n"
     ]
    }
   ],
   "source": [
    "Number4=int(input(\"enter number:\"))"
   ]
  },
  {
   "cell_type": "code",
   "execution_count": 39,
   "id": "d268f04b",
   "metadata": {},
   "outputs": [
    {
     "name": "stdout",
     "output_type": "stream",
     "text": [
      "77\n"
     ]
    }
   ],
   "source": [
    "print(Number1)"
   ]
  },
  {
   "cell_type": "code",
   "execution_count": 40,
   "id": "ecc531f6",
   "metadata": {},
   "outputs": [
    {
     "name": "stdout",
     "output_type": "stream",
     "text": [
      "55\n"
     ]
    }
   ],
   "source": [
    "print(Number2)"
   ]
  },
  {
   "cell_type": "code",
   "execution_count": 41,
   "id": "985c10ef",
   "metadata": {},
   "outputs": [
    {
     "name": "stdout",
     "output_type": "stream",
     "text": [
      "23\n"
     ]
    }
   ],
   "source": [
    "print(Number3)"
   ]
  },
  {
   "cell_type": "code",
   "execution_count": 42,
   "id": "7975849f",
   "metadata": {},
   "outputs": [
    {
     "name": "stdout",
     "output_type": "stream",
     "text": [
      "11\n"
     ]
    }
   ],
   "source": [
    "print(Number4)"
   ]
  },
  {
   "cell_type": "code",
   "execution_count": 46,
   "id": "5f64bab9",
   "metadata": {},
   "outputs": [],
   "source": [
    "if(Number1>Number4):\n",
    "    f1=Number1\n",
    "else:\n",
    "    f1=Number40"
   ]
  },
  {
   "cell_type": "code",
   "execution_count": 47,
   "id": "fc35d3a9",
   "metadata": {},
   "outputs": [],
   "source": [
    "if(Number2>Number3):\n",
    "    f2=Number2\n",
    "else:\n",
    "    f2=Number3"
   ]
  },
  {
   "cell_type": "code",
   "execution_count": 52,
   "id": "07f98d4b",
   "metadata": {},
   "outputs": [
    {
     "name": "stdout",
     "output_type": "stream",
     "text": [
      "77is greater\n"
     ]
    }
   ],
   "source": [
    "if(f1>f2):\n",
    "    print(str(f1)+\"is greater\")\n",
    "else:\n",
    "    print(str(f2)+\"is greater\")"
   ]
  },
  {
   "cell_type": "markdown",
   "id": "f4959115",
   "metadata": {},
   "source": [
    "###### Q.2 Write a program to find out whether a student is pass or fail, if it requires total 40% and at least 33% in each subject to pass. Assume 3 subjects and take marks as an input from the user??"
   ]
  },
  {
   "cell_type": "code",
   "execution_count": 22,
   "id": "4e59e1e7",
   "metadata": {},
   "outputs": [
    {
     "name": "stdout",
     "output_type": "stream",
     "text": [
      "enter marks:44\n"
     ]
    }
   ],
   "source": [
    "Mark1=(int(input(\"enter marks:\")))"
   ]
  },
  {
   "cell_type": "code",
   "execution_count": 23,
   "id": "2f5ec5ba",
   "metadata": {},
   "outputs": [
    {
     "name": "stdout",
     "output_type": "stream",
     "text": [
      "enter marks:44\n"
     ]
    }
   ],
   "source": [
    "Mark2=(int(input(\"enter marks:\")))"
   ]
  },
  {
   "cell_type": "code",
   "execution_count": 24,
   "id": "6d332bd6",
   "metadata": {},
   "outputs": [
    {
     "name": "stdout",
     "output_type": "stream",
     "text": [
      "enter marks:56\n"
     ]
    }
   ],
   "source": [
    "Mark3=(int(input(\"enter marks:\")))"
   ]
  },
  {
   "cell_type": "code",
   "execution_count": 25,
   "id": "8a6c3519",
   "metadata": {},
   "outputs": [
    {
     "name": "stdout",
     "output_type": "stream",
     "text": [
      "you are pass\n"
     ]
    }
   ],
   "source": [
    "if(Mark1<33 or Mark2<33 or Mark3<33):\n",
    "    print(\"you are fail\")\n",
    "elif(((Mark1+Mark2+Mark3)/3)<40):\n",
    "    print(\"you are fail\")\n",
    "else:\n",
    "    print(\"you are pass\")"
   ]
  },
  {
   "cell_type": "markdown",
   "id": "cc928e22",
   "metadata": {},
   "source": [
    "###### A spam comment is defined as a text contain sing following keywords :-\n",
    "\"make a lot of money \",\"buy now\",\"subscribe this\",\"click this\",write a program to detect these spams??    "
   ]
  },
  {
   "cell_type": "code",
   "execution_count": 32,
   "id": "cc55ceed",
   "metadata": {},
   "outputs": [
    {
     "name": "stdout",
     "output_type": "stream",
     "text": [
      "enter text:Onkar\n"
     ]
    }
   ],
   "source": [
    "text=input(\"enter text:\")"
   ]
  },
  {
   "cell_type": "code",
   "execution_count": 34,
   "id": "64d391bf",
   "metadata": {},
   "outputs": [
    {
     "name": "stdout",
     "output_type": "stream",
     "text": [
      "this text is not spam\n"
     ]
    }
   ],
   "source": [
    "if(\"make a lot of money\"in text):\n",
    "    spam=True\n",
    "elif(\"buy now\"in text):\n",
    "    spam=True\n",
    "if(\"subscibe this\"in text):\n",
    "    spam=True\n",
    "elif(\"click this\"in text):\n",
    "    spam=True\n",
    "else:\n",
    "    spam=False\n",
    "if(spam):\n",
    "    print(\"This text is spam\")\n",
    "else:\n",
    "    print(\"this text is not spam\")"
   ]
  },
  {
   "cell_type": "markdown",
   "id": "8aa9504e",
   "metadata": {},
   "source": [
    "###### Q.4 write a program to find whether a given user name contains less than 10 characters or not??"
   ]
  },
  {
   "cell_type": "code",
   "execution_count": 35,
   "id": "37c52ad3",
   "metadata": {},
   "outputs": [
    {
     "name": "stdout",
     "output_type": "stream",
     "text": [
      "enter name:onkarshinde\n"
     ]
    }
   ],
   "source": [
    "name=input(\"enter name:\")"
   ]
  },
  {
   "cell_type": "code",
   "execution_count": 36,
   "id": "551581f2",
   "metadata": {},
   "outputs": [
    {
     "name": "stdout",
     "output_type": "stream",
     "text": [
      "onkarshinde\n"
     ]
    }
   ],
   "source": [
    "print(name)"
   ]
  },
  {
   "cell_type": "code",
   "execution_count": 37,
   "id": "49157ad2",
   "metadata": {},
   "outputs": [
    {
     "data": {
      "text/plain": [
       "11"
      ]
     },
     "execution_count": 37,
     "metadata": {},
     "output_type": "execute_result"
    }
   ],
   "source": [
    "len(name)"
   ]
  },
  {
   "cell_type": "code",
   "execution_count": 38,
   "id": "3a859112",
   "metadata": {},
   "outputs": [
    {
     "name": "stdout",
     "output_type": "stream",
     "text": [
      "no\n"
     ]
    }
   ],
   "source": [
    "if(\"len(name)=10\" in name):\n",
    "    print(\"yes\")\n",
    "else:\n",
    "    print(\"no\")"
   ]
  },
  {
   "cell_type": "markdown",
   "id": "6eb7a89b",
   "metadata": {},
   "source": [
    "###### Q.5 Write a program which finds out whether a given name is present in a list or not?? "
   ]
  },
  {
   "cell_type": "code",
   "execution_count": 57,
   "id": "dff757a3",
   "metadata": {},
   "outputs": [],
   "source": [
    "Names=[\"Onkar\",\"Suraj\",\"Ananta\",\"Rahul\",\"Balu\",\"Anuj\",\"Sonya\"]"
   ]
  },
  {
   "cell_type": "code",
   "execution_count": 63,
   "id": "4d3e5dc5",
   "metadata": {},
   "outputs": [
    {
     "name": "stdout",
     "output_type": "stream",
     "text": [
      "enter name:Suraj\n"
     ]
    }
   ],
   "source": [
    "Name=input(\"enter name:\")"
   ]
  },
  {
   "cell_type": "code",
   "execution_count": 64,
   "id": "f311dbb9",
   "metadata": {},
   "outputs": [
    {
     "name": "stdout",
     "output_type": "stream",
     "text": [
      "yes\n"
     ]
    }
   ],
   "source": [
    "if (Name in Names):\n",
    "    print(\"yes\")\n",
    "else:\n",
    "    print(\"not\")\n",
    "    "
   ]
  },
  {
   "cell_type": "raw",
   "id": "0b5c7452",
   "metadata": {},
   "source": [
    "Q.6 write a program to calculate the grade of a student from his marks from the following scheme:\n",
    "    90-100:Ex\n",
    "    80-90:A\n",
    "    70-80:B\n",
    "    60-70:C\n",
    "    50-60:D\n",
    "    <50:F    "
   ]
  },
  {
   "cell_type": "code",
   "execution_count": 68,
   "id": "68cd47da",
   "metadata": {},
   "outputs": [
    {
     "name": "stdout",
     "output_type": "stream",
     "text": [
      "enter your marks88\n"
     ]
    }
   ],
   "source": [
    "marks=int(input(\"enter your marks\"))"
   ]
  },
  {
   "cell_type": "code",
   "execution_count": 69,
   "id": "2ad82771",
   "metadata": {},
   "outputs": [
    {
     "name": "stdout",
     "output_type": "stream",
     "text": [
      "A\n"
     ]
    }
   ],
   "source": [
    "if marks>=90:\n",
    "    grade=\"Ex\"\n",
    "elif marks>=80:\n",
    "    grade=\"A\"\n",
    "elif marks>=70:\n",
    "    grade=\"B\"\n",
    "elif marks>=60:\n",
    "    grade=\"C\"\n",
    "elif marks>=50:\n",
    "    grade=\"D\"   \n",
    "elif marks<50:\n",
    "    grade=\"F\" \n",
    "else:\n",
    "    grade=\"F\"\n",
    "print(grade)    "
   ]
  },
  {
   "cell_type": "raw",
   "id": "485539fb",
   "metadata": {},
   "source": [
    "Q.7 write a program to find out whether a given post is talking about \"Harry\" or not??"
   ]
  },
  {
   "cell_type": "code",
   "execution_count": 70,
   "id": "c967e5b0",
   "metadata": {},
   "outputs": [],
   "source": [
    "A=\"HARry\""
   ]
  },
  {
   "cell_type": "code",
   "execution_count": 71,
   "id": "570c492a",
   "metadata": {},
   "outputs": [
    {
     "name": "stdout",
     "output_type": "stream",
     "text": [
      "Harry means:HARry\n"
     ]
    }
   ],
   "source": [
    "name=input(\"Harry means:\")"
   ]
  },
  {
   "cell_type": "code",
   "execution_count": 72,
   "id": "4ebd06c3",
   "metadata": {},
   "outputs": [
    {
     "name": "stdout",
     "output_type": "stream",
     "text": [
      "yes\n"
     ]
    }
   ],
   "source": [
    "if name in A:\n",
    "    print(\"yes\")\n",
    "else:\n",
    "    print(\"no\")"
   ]
  },
  {
   "cell_type": "code",
   "execution_count": null,
   "id": "3bc01f0f",
   "metadata": {},
   "outputs": [],
   "source": []
  },
  {
   "cell_type": "code",
   "execution_count": null,
   "id": "ebc52eaf",
   "metadata": {},
   "outputs": [],
   "source": []
  }
 ],
 "metadata": {
  "kernelspec": {
   "display_name": "Python 3",
   "language": "python",
   "name": "python3"
  },
  "language_info": {
   "codemirror_mode": {
    "name": "ipython",
    "version": 3
   },
   "file_extension": ".py",
   "mimetype": "text/x-python",
   "name": "python",
   "nbconvert_exporter": "python",
   "pygments_lexer": "ipython3",
   "version": "3.8.8"
  }
 },
 "nbformat": 4,
 "nbformat_minor": 5
}
