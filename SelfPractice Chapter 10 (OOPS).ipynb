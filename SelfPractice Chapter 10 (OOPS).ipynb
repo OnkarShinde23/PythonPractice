{
 "cells": [
  {
   "cell_type": "markdown",
   "id": "af156b6b",
   "metadata": {},
   "source": [
    "# OOPS"
   ]
  },
  {
   "cell_type": "markdown",
   "id": "eec3c20b",
   "metadata": {},
   "source": [
    "### Object Oriented Programing System"
   ]
  },
  {
   "cell_type": "markdown",
   "id": "4f7fca7f",
   "metadata": {},
   "source": [
    "\"The basic concept of OOPS is to creat objects,Re-use them throught the programing and manipulate these objects to get result.\""
   ]
  },
  {
   "cell_type": "markdown",
   "id": "1ed01936",
   "metadata": {},
   "source": [
    "This concept depends upon class and objects."
   ]
  },
  {
   "cell_type": "markdown",
   "id": "d5efe124",
   "metadata": {},
   "source": [
    "### Class:"
   ]
  },
  {
   "cell_type": "markdown",
   "id": "52deb10c",
   "metadata": {},
   "source": [
    "Class is the blueprint for creating object"
   ]
  },
  {
   "cell_type": "markdown",
   "id": "1f6435c0",
   "metadata": {},
   "source": [
    "Blueprint means templete"
   ]
  },
  {
   "cell_type": "raw",
   "id": "a4db6f3a",
   "metadata": {},
   "source": [
    "e.g.\n",
    "1.Empty railway seat reservation form.\n",
    "2.Dog is class.colour,Breed is Object."
   ]
  },
  {
   "cell_type": "markdown",
   "id": "ae849ca5",
   "metadata": {},
   "source": [
    "Normally we written class in PascalCase"
   ]
  },
  {
   "cell_type": "raw",
   "id": "52e30043",
   "metadata": {},
   "source": [
    "PascalCase:\n",
    "e.g\n",
    "EmployeeName\n",
    "\n",
    "camelCase:\n",
    "e.g\n",
    "isNumeric"
   ]
  },
  {
   "cell_type": "markdown",
   "id": "e6a2b6b0",
   "metadata": {},
   "source": [
    "### Object:"
   ]
  },
  {
   "cell_type": "markdown",
   "id": "bc77d8aa",
   "metadata": {},
   "source": [
    "An Object means instantiation of class."
   ]
  },
  {
   "cell_type": "raw",
   "id": "0b2aa9a1",
   "metadata": {},
   "source": [
    "e.g\n",
    "When we filled up empty railway form.There is information means object (filled info.) and only empty form is templete i.e Class"
   ]
  },
  {
   "cell_type": "markdown",
   "id": "31329926",
   "metadata": {},
   "source": [
    "### Class Attributes:"
   ]
  },
  {
   "cell_type": "markdown",
   "id": "a5cd2527",
   "metadata": {},
   "source": [
    "###### Example:"
   ]
  },
  {
   "cell_type": "code",
   "execution_count": 1,
   "id": "da1f03a2",
   "metadata": {},
   "outputs": [],
   "source": [
    "class Employee:\n",
    "    company=\"Gooogle\""
   ]
  },
  {
   "cell_type": "code",
   "execution_count": 2,
   "id": "b1eca88d",
   "metadata": {},
   "outputs": [
    {
     "name": "stdout",
     "output_type": "stream",
     "text": [
      "Gooogle\n",
      "Gooogle\n"
     ]
    }
   ],
   "source": [
    "Harry=Employee()\n",
    "Rajni=Employee()\n",
    "print(Harry.company)\n",
    "print(Rajni.company)"
   ]
  },
  {
   "cell_type": "markdown",
   "id": "a6517325",
   "metadata": {},
   "source": [
    "###### Here\n",
    "class is Employee.\n",
    "Attribute is Google."
   ]
  },
  {
   "cell_type": "markdown",
   "id": "435bf2ef",
   "metadata": {},
   "source": [
    "### Instance Attributes:"
   ]
  },
  {
   "cell_type": "markdown",
   "id": "26fcdb10",
   "metadata": {},
   "source": [
    "###### Example:"
   ]
  },
  {
   "cell_type": "code",
   "execution_count": 3,
   "id": "18977bbc",
   "metadata": {},
   "outputs": [],
   "source": [
    "class Employee:\n",
    "    company=\"Google\""
   ]
  },
  {
   "cell_type": "code",
   "execution_count": 4,
   "id": "f61a142b",
   "metadata": {},
   "outputs": [
    {
     "name": "stdout",
     "output_type": "stream",
     "text": [
      "30000\n",
      "40000\n"
     ]
    }
   ],
   "source": [
    "Harry=Employee()\n",
    "Rajni=Employee()\n",
    "Harry.salary=30000\n",
    "Rajni.salary=40000\n",
    "print(Harry.salary)\n",
    "print(Rajni.salary)"
   ]
  },
  {
   "cell_type": "markdown",
   "id": "68b529bc",
   "metadata": {},
   "source": [
    "### Rules of OOPS:"
   ]
  },
  {
   "cell_type": "raw",
   "id": "5ccc1ad4",
   "metadata": {},
   "source": [
    "1.Is Attribute present in Object.\n",
    "2.Is Attribute present in Class."
   ]
  },
  {
   "cell_type": "markdown",
   "id": "fd22a75f",
   "metadata": {},
   "source": [
    "###### Example:"
   ]
  },
  {
   "cell_type": "code",
   "execution_count": 12,
   "id": "09d1a6df",
   "metadata": {},
   "outputs": [],
   "source": [
    "class Employee:\n",
    "    company =\"Google\"\n",
    "    salary=100000"
   ]
  },
  {
   "cell_type": "code",
   "execution_count": 17,
   "id": "6527bcb3",
   "metadata": {},
   "outputs": [
    {
     "name": "stdout",
     "output_type": "stream",
     "text": [
      "20000\n",
      "30000\n"
     ]
    }
   ],
   "source": [
    "harry=Employee()\n",
    "rajni=Employee()\n",
    "harry.salary=20000\n",
    "rajni.salary=30000\n",
    "print(harry.salary)\n",
    "print(rajni.salary)"
   ]
  },
  {
   "cell_type": "markdown",
   "id": "8613ad9b",
   "metadata": {},
   "source": [
    "###### Rules of OOPS is satisfied."
   ]
  },
  {
   "cell_type": "markdown",
   "id": "945b873e",
   "metadata": {},
   "source": [
    "### Self:"
   ]
  },
  {
   "cell_type": "markdown",
   "id": "f118443f",
   "metadata": {},
   "source": [
    "###### Example:"
   ]
  },
  {
   "cell_type": "code",
   "execution_count": 18,
   "id": "9a0ec4c9",
   "metadata": {},
   "outputs": [
    {
     "ename": "AttributeError",
     "evalue": "'Employee' object has no attribute 'getSalary'",
     "output_type": "error",
     "traceback": [
      "\u001b[1;31m---------------------------------------------------------------------------\u001b[0m",
      "\u001b[1;31mAttributeError\u001b[0m                            Traceback (most recent call last)",
      "\u001b[1;32m<ipython-input-18-93414fa72e2a>\u001b[0m in \u001b[0;36m<module>\u001b[1;34m\u001b[0m\n\u001b[0;32m      4\u001b[0m         \u001b[0mprint\u001b[0m\u001b[1;33m(\u001b[0m\u001b[1;34m\"Salary is 100000\"\u001b[0m\u001b[1;33m)\u001b[0m\u001b[1;33m\u001b[0m\u001b[1;33m\u001b[0m\u001b[0m\n\u001b[0;32m      5\u001b[0m \u001b[0mHarry\u001b[0m\u001b[1;33m=\u001b[0m\u001b[0mEmployee\u001b[0m\u001b[1;33m(\u001b[0m\u001b[1;33m)\u001b[0m\u001b[1;33m\u001b[0m\u001b[1;33m\u001b[0m\u001b[0m\n\u001b[1;32m----> 6\u001b[1;33m \u001b[0mHarry\u001b[0m\u001b[1;33m.\u001b[0m\u001b[0mgetSalary\u001b[0m\u001b[1;33m(\u001b[0m\u001b[1;33m)\u001b[0m\u001b[1;33m\u001b[0m\u001b[1;33m\u001b[0m\u001b[0m\n\u001b[0m",
      "\u001b[1;31mAttributeError\u001b[0m: 'Employee' object has no attribute 'getSalary'"
     ]
    }
   ],
   "source": [
    "class Employee:\n",
    "    company=\"Google\"\n",
    "    def getsalary():\n",
    "        print(\"Salary is 100000\")\n",
    "Harry=Employee()\n",
    "Harry.getSalary()"
   ]
  },
  {
   "cell_type": "markdown",
   "id": "728e6b13",
   "metadata": {},
   "source": [
    "###### Error found"
   ]
  },
  {
   "cell_type": "markdown",
   "id": "0e72b588",
   "metadata": {},
   "source": [
    "###### Example 2:"
   ]
  },
  {
   "cell_type": "code",
   "execution_count": 20,
   "id": "31af6dfe",
   "metadata": {},
   "outputs": [
    {
     "name": "stdout",
     "output_type": "stream",
     "text": [
      "salary is 100000\n"
     ]
    }
   ],
   "source": [
    "class Employee:\n",
    "    company=\"Google\"\n",
    "    def getsalary(self):\n",
    "        print(\"salary is 100000\")\n",
    "Harry=Employee()\n",
    "Harry.getsalary()"
   ]
  },
  {
   "cell_type": "markdown",
   "id": "b4c569fb",
   "metadata": {},
   "source": [
    "###### This is the function of self."
   ]
  },
  {
   "cell_type": "markdown",
   "id": "025e70ed",
   "metadata": {},
   "source": [
    "###### Example.3"
   ]
  },
  {
   "cell_type": "code",
   "execution_count": 21,
   "id": "2b14218d",
   "metadata": {},
   "outputs": [
    {
     "name": "stdout",
     "output_type": "stream",
     "text": [
      "Salary is 100000\n"
     ]
    }
   ],
   "source": [
    "class Employee:\n",
    "    company=\"Google\"\n",
    "    def getsalary(self):\n",
    "        print(f\"Salary is {self.salary}\")\n",
    "Harry=Employee()\n",
    "Harry.salary=100000\n",
    "Harry.getsalary()"
   ]
  },
  {
   "cell_type": "markdown",
   "id": "1613b6ad",
   "metadata": {},
   "source": [
    "### Static Method:"
   ]
  },
  {
   "cell_type": "markdown",
   "id": "6b1fab83",
   "metadata": {},
   "source": [
    "###### Example:"
   ]
  },
  {
   "cell_type": "code",
   "execution_count": 24,
   "id": "aac178b6",
   "metadata": {},
   "outputs": [
    {
     "name": "stdout",
     "output_type": "stream",
     "text": [
      "Salary for this employee working in Google is 100000\n",
      "Thanks!\n",
      "Good Morning,Sir\n"
     ]
    }
   ],
   "source": [
    "class Employee:\n",
    "    company=\"Google\"\n",
    "    def getsalary(self,signature):\n",
    "        print(f\"Salary for this employee working in {self.company} is {self.salary}\\n{signature}\")\n",
    "    @staticmethod\n",
    "    def greet():\n",
    "        print(\"Good Morning,Sir\")\n",
    "Harry=Employee()\n",
    "Harry.salary=100000\n",
    "Harry.getsalary(\"Thanks!\")\n",
    "Harry.greet()"
   ]
  },
  {
   "cell_type": "markdown",
   "id": "1786f35c",
   "metadata": {},
   "source": [
    "### __init__() constructor()"
   ]
  },
  {
   "cell_type": "markdown",
   "id": "6fa7c37b",
   "metadata": {},
   "source": [
    "###### Example:"
   ]
  },
  {
   "cell_type": "markdown",
   "id": "99d4e404",
   "metadata": {},
   "source": [
    "###### Example:"
   ]
  },
  {
   "cell_type": "code",
   "execution_count": 36,
   "id": "7c99a742",
   "metadata": {},
   "outputs": [
    {
     "name": "stdout",
     "output_type": "stream",
     "text": [
      "Employee is created!\n",
      "Salary for this Employee working in Google is 100000\n",
      "Thanks!\n",
      "Good Morning,Sir\n"
     ]
    }
   ],
   "source": [
    "class Employee:\n",
    "    company=\"Google\"\n",
    "    def __init__(self):\n",
    "        print(\"Employee is created!\")\n",
    "    def getsalary(self,signature):\n",
    "        print(f\"Salary for this Employee working in {self.company} is {self.salary}\\n{signature}\")\n",
    "    @staticmethod\n",
    "    def greet():\n",
    "        print(\"Good Morning,Sir\")\n",
    "    @staticmethod\n",
    "    def time():\n",
    "        print(\"The time is 9am in the morning\")\n",
    "Harry=Employee() \n",
    "Harry.salary=100000\n",
    "Harry.getsalary(\"Thanks!\")\n",
    "Harry.greet()\n",
    "    "
   ]
  },
  {
   "cell_type": "code",
   "execution_count": null,
   "id": "3cb3d064",
   "metadata": {},
   "outputs": [],
   "source": []
  }
 ],
 "metadata": {
  "kernelspec": {
   "display_name": "Python 3",
   "language": "python",
   "name": "python3"
  },
  "language_info": {
   "codemirror_mode": {
    "name": "ipython",
    "version": 3
   },
   "file_extension": ".py",
   "mimetype": "text/x-python",
   "name": "python",
   "nbconvert_exporter": "python",
   "pygments_lexer": "ipython3",
   "version": "3.8.8"
  }
 },
 "nbformat": 4,
 "nbformat_minor": 5
}
