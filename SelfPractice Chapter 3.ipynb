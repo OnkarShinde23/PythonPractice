{
 "cells": [
  {
   "cell_type": "markdown",
   "id": "112eb82d",
   "metadata": {},
   "source": [
    "# Chapter. 3"
   ]
  },
  {
   "cell_type": "markdown",
   "id": "25ee6d95",
   "metadata": {},
   "source": [
    "### Strings"
   ]
  },
  {
   "cell_type": "markdown",
   "id": "423d60fc",
   "metadata": {},
   "source": [
    "##### Single Quote"
   ]
  },
  {
   "cell_type": "code",
   "execution_count": 9,
   "id": "87d423b0",
   "metadata": {},
   "outputs": [],
   "source": [
    "a='Onkar'"
   ]
  },
  {
   "cell_type": "code",
   "execution_count": 10,
   "id": "999a32ab",
   "metadata": {},
   "outputs": [],
   "source": [
    "b=\"Onkar\""
   ]
  },
  {
   "cell_type": "code",
   "execution_count": 11,
   "id": "8e6fc87f",
   "metadata": {},
   "outputs": [],
   "source": [
    "c='''I am onkar shinde.\n",
    "basically i from Majalgaon\n",
    "Now,i am living in Pune'''"
   ]
  },
  {
   "cell_type": "code",
   "execution_count": 12,
   "id": "07b5506a",
   "metadata": {},
   "outputs": [
    {
     "name": "stdout",
     "output_type": "stream",
     "text": [
      "Onkar\n"
     ]
    }
   ],
   "source": [
    "print(a)"
   ]
  },
  {
   "cell_type": "code",
   "execution_count": 13,
   "id": "b29693fa",
   "metadata": {},
   "outputs": [
    {
     "name": "stdout",
     "output_type": "stream",
     "text": [
      "Onkar\n"
     ]
    }
   ],
   "source": [
    "print(b)"
   ]
  },
  {
   "cell_type": "code",
   "execution_count": 14,
   "id": "b0cbc19b",
   "metadata": {},
   "outputs": [
    {
     "name": "stdout",
     "output_type": "stream",
     "text": [
      "I am onkar shinde.\n",
      "basically i from Majalgaon\n",
      "Now,i am living in Pune\n"
     ]
    }
   ],
   "source": [
    "print(c)"
   ]
  },
  {
   "cell_type": "code",
   "execution_count": 15,
   "id": "f4970d2b",
   "metadata": {},
   "outputs": [
    {
     "name": "stdout",
     "output_type": "stream",
     "text": [
      "Onkar Onkar I am onkar shinde.\n",
      "basically i from Majalgaon\n",
      "Now,i am living in Pune\n"
     ]
    }
   ],
   "source": [
    "print(a,b,c)"
   ]
  },
  {
   "cell_type": "code",
   "execution_count": 16,
   "id": "142f406d",
   "metadata": {},
   "outputs": [
    {
     "ename": "SyntaxError",
     "evalue": "invalid syntax (<ipython-input-16-63a1495e8c32>, line 1)",
     "output_type": "error",
     "traceback": [
      "\u001b[1;36m  File \u001b[1;32m\"<ipython-input-16-63a1495e8c32>\"\u001b[1;36m, line \u001b[1;32m1\u001b[0m\n\u001b[1;33m    z='Harry's'\u001b[0m\n\u001b[1;37m             ^\u001b[0m\n\u001b[1;31mSyntaxError\u001b[0m\u001b[1;31m:\u001b[0m invalid syntax\n"
     ]
    }
   ],
   "source": [
    "z='Harry's'"
   ]
  },
  {
   "cell_type": "code",
   "execution_count": 17,
   "id": "722567c2",
   "metadata": {},
   "outputs": [],
   "source": [
    "z=\"Harry's\""
   ]
  },
  {
   "cell_type": "code",
   "execution_count": 18,
   "id": "ec6e47fc",
   "metadata": {},
   "outputs": [
    {
     "name": "stdout",
     "output_type": "stream",
     "text": [
      "Harry's\n"
     ]
    }
   ],
   "source": [
    "print(z)"
   ]
  },
  {
   "cell_type": "code",
   "execution_count": 19,
   "id": "825446bd",
   "metadata": {},
   "outputs": [],
   "source": [
    "greetting=\"Good Morning, \""
   ]
  },
  {
   "cell_type": "code",
   "execution_count": 20,
   "id": "00027dab",
   "metadata": {},
   "outputs": [],
   "source": [
    "name=\"Onkar\""
   ]
  },
  {
   "cell_type": "code",
   "execution_count": 21,
   "id": "cb8fd03f",
   "metadata": {},
   "outputs": [
    {
     "name": "stdout",
     "output_type": "stream",
     "text": [
      "Good Morning, Onkar\n"
     ]
    }
   ],
   "source": [
    "print(greetting+name)"
   ]
  },
  {
   "cell_type": "markdown",
   "id": "291760a3",
   "metadata": {},
   "source": [
    "##### Index Recognizing"
   ]
  },
  {
   "cell_type": "code",
   "execution_count": 22,
   "id": "12094497",
   "metadata": {},
   "outputs": [],
   "source": [
    "name=\"Onkar\" #length=5"
   ]
  },
  {
   "cell_type": "code",
   "execution_count": 23,
   "id": "cfa29ecd",
   "metadata": {},
   "outputs": [
    {
     "name": "stdout",
     "output_type": "stream",
     "text": [
      "O\n"
     ]
    }
   ],
   "source": [
    "print(name[0])"
   ]
  },
  {
   "cell_type": "code",
   "execution_count": 24,
   "id": "3ac95d2a",
   "metadata": {},
   "outputs": [
    {
     "name": "stdout",
     "output_type": "stream",
     "text": [
      "n\n"
     ]
    }
   ],
   "source": [
    "print(name[1])"
   ]
  },
  {
   "cell_type": "code",
   "execution_count": 25,
   "id": "4956dba8",
   "metadata": {},
   "outputs": [
    {
     "name": "stdout",
     "output_type": "stream",
     "text": [
      "k\n"
     ]
    }
   ],
   "source": [
    "print(name[2])"
   ]
  },
  {
   "cell_type": "code",
   "execution_count": 26,
   "id": "2adf645e",
   "metadata": {},
   "outputs": [
    {
     "name": "stdout",
     "output_type": "stream",
     "text": [
      "Onk\n"
     ]
    }
   ],
   "source": [
    "print(name[0:3])"
   ]
  },
  {
   "cell_type": "code",
   "execution_count": 27,
   "id": "b95ed303",
   "metadata": {},
   "outputs": [
    {
     "name": "stdout",
     "output_type": "stream",
     "text": [
      "Onka\n"
     ]
    }
   ],
   "source": [
    "print(name[0:4])"
   ]
  },
  {
   "cell_type": "code",
   "execution_count": 28,
   "id": "e82806d4",
   "metadata": {},
   "outputs": [
    {
     "name": "stdout",
     "output_type": "stream",
     "text": [
      "nka\n"
     ]
    }
   ],
   "source": [
    "print(name[1:4])"
   ]
  },
  {
   "cell_type": "code",
   "execution_count": 29,
   "id": "f34d0727",
   "metadata": {},
   "outputs": [
    {
     "name": "stdout",
     "output_type": "stream",
     "text": [
      "Onka\n"
     ]
    }
   ],
   "source": [
    "print(name[:4])"
   ]
  },
  {
   "cell_type": "code",
   "execution_count": 30,
   "id": "4b8aacb1",
   "metadata": {},
   "outputs": [
    {
     "name": "stdout",
     "output_type": "stream",
     "text": [
      "Onkar\n"
     ]
    }
   ],
   "source": [
    "print(name[0:])"
   ]
  },
  {
   "cell_type": "code",
   "execution_count": 31,
   "id": "b2bbb96e",
   "metadata": {},
   "outputs": [
    {
     "name": "stdout",
     "output_type": "stream",
     "text": [
      "nkar\n"
     ]
    }
   ],
   "source": [
    "print(name[1:])"
   ]
  },
  {
   "cell_type": "markdown",
   "id": "f5bfc0b0",
   "metadata": {},
   "source": [
    "### Negative indexing"
   ]
  },
  {
   "cell_type": "code",
   "execution_count": 32,
   "id": "9f4c3070",
   "metadata": {},
   "outputs": [],
   "source": [
    "a=\"Shinde\""
   ]
  },
  {
   "cell_type": "code",
   "execution_count": 33,
   "id": "62daaea1",
   "metadata": {},
   "outputs": [
    {
     "name": "stdout",
     "output_type": "stream",
     "text": [
      "e\n"
     ]
    }
   ],
   "source": [
    "print(a[-1])"
   ]
  },
  {
   "cell_type": "code",
   "execution_count": 34,
   "id": "4dc0b123",
   "metadata": {},
   "outputs": [
    {
     "name": "stdout",
     "output_type": "stream",
     "text": [
      "ind\n"
     ]
    }
   ],
   "source": [
    "print(a[-4:-1])"
   ]
  },
  {
   "cell_type": "code",
   "execution_count": 35,
   "id": "8bf71ac8",
   "metadata": {},
   "outputs": [
    {
     "name": "stdout",
     "output_type": "stream",
     "text": [
      "S\n"
     ]
    }
   ],
   "source": [
    "print(a[0:-5])"
   ]
  },
  {
   "cell_type": "code",
   "execution_count": 36,
   "id": "61dff0aa",
   "metadata": {},
   "outputs": [
    {
     "name": "stdout",
     "output_type": "stream",
     "text": [
      "Shind\n"
     ]
    }
   ],
   "source": [
    "print(a[0:-1])"
   ]
  },
  {
   "cell_type": "code",
   "execution_count": 37,
   "id": "9379869a",
   "metadata": {},
   "outputs": [
    {
     "name": "stdout",
     "output_type": "stream",
     "text": [
      "ind\n"
     ]
    }
   ],
   "source": [
    "print(a[-4:-1])"
   ]
  },
  {
   "cell_type": "code",
   "execution_count": 38,
   "id": "899470d4",
   "metadata": {},
   "outputs": [
    {
     "name": "stdout",
     "output_type": "stream",
     "text": [
      "hi\n"
     ]
    }
   ],
   "source": [
    "print(a[-5:-3])"
   ]
  },
  {
   "cell_type": "markdown",
   "id": "49373c90",
   "metadata": {},
   "source": [
    "### Slicing "
   ]
  },
  {
   "cell_type": "code",
   "execution_count": 39,
   "id": "810b8f1d",
   "metadata": {},
   "outputs": [],
   "source": [
    "word=\"amazing\""
   ]
  },
  {
   "cell_type": "code",
   "execution_count": 40,
   "id": "9d30fde4",
   "metadata": {},
   "outputs": [
    {
     "name": "stdout",
     "output_type": "stream",
     "text": [
      "mzn\n"
     ]
    }
   ],
   "source": [
    "print(word[1:6:2])"
   ]
  },
  {
   "cell_type": "markdown",
   "id": "a43b8763",
   "metadata": {},
   "source": [
    "###### means it will take every second letter"
   ]
  },
  {
   "cell_type": "code",
   "execution_count": 41,
   "id": "812b215b",
   "metadata": {},
   "outputs": [
    {
     "name": "stdout",
     "output_type": "stream",
     "text": [
      "az\n"
     ]
    }
   ],
   "source": [
    "print(word[0:6:3])"
   ]
  },
  {
   "cell_type": "code",
   "execution_count": 42,
   "id": "9b4c3c7f",
   "metadata": {},
   "outputs": [
    {
     "name": "stdout",
     "output_type": "stream",
     "text": [
      "aai\n"
     ]
    }
   ],
   "source": [
    "print(word[0:6:2])"
   ]
  },
  {
   "cell_type": "markdown",
   "id": "56f0cb83",
   "metadata": {},
   "source": [
    "###### when we start zero in this condition it will take second no.\n"
   ]
  },
  {
   "cell_type": "code",
   "execution_count": 43,
   "id": "64a3abba",
   "metadata": {},
   "outputs": [
    {
     "name": "stdout",
     "output_type": "stream",
     "text": [
      "mzn\n"
     ]
    }
   ],
   "source": [
    "print(word[1:6:2])"
   ]
  },
  {
   "cell_type": "code",
   "execution_count": 44,
   "id": "e5b8e919",
   "metadata": {},
   "outputs": [],
   "source": [
    "a=\"mynameisOM\""
   ]
  },
  {
   "cell_type": "code",
   "execution_count": 45,
   "id": "58ffa8cb",
   "metadata": {},
   "outputs": [
    {
     "name": "stdout",
     "output_type": "stream",
     "text": [
      "mnmi\n"
     ]
    }
   ],
   "source": [
    "print(a[0:7:2])"
   ]
  },
  {
   "cell_type": "code",
   "execution_count": 46,
   "id": "14b6ea72",
   "metadata": {},
   "outputs": [
    {
     "name": "stdout",
     "output_type": "stream",
     "text": [
      "yms\n"
     ]
    }
   ],
   "source": [
    "print(a[1:9:3])"
   ]
  },
  {
   "cell_type": "code",
   "execution_count": 47,
   "id": "0f3d9670",
   "metadata": {},
   "outputs": [
    {
     "name": "stdout",
     "output_type": "stream",
     "text": [
      "ynameis\n"
     ]
    }
   ],
   "source": [
    "print(a[1:8])"
   ]
  },
  {
   "cell_type": "code",
   "execution_count": 48,
   "id": "a5b3b062",
   "metadata": {},
   "outputs": [
    {
     "name": "stdout",
     "output_type": "stream",
     "text": [
      "mynameis\n"
     ]
    }
   ],
   "source": [
    "print(a[:8])"
   ]
  },
  {
   "cell_type": "code",
   "execution_count": 49,
   "id": "b1e64a2c",
   "metadata": {},
   "outputs": [
    {
     "name": "stdout",
     "output_type": "stream",
     "text": [
      "meisOM\n"
     ]
    }
   ],
   "source": [
    "print(a[4:])"
   ]
  },
  {
   "cell_type": "markdown",
   "id": "f8c30993",
   "metadata": {},
   "source": [
    "### String functions"
   ]
  },
  {
   "cell_type": "code",
   "execution_count": 50,
   "id": "9a851547",
   "metadata": {},
   "outputs": [],
   "source": [
    "story=\"once upon a time there was a youtuber named Harry who uploaded python course with notes Harry\""
   ]
  },
  {
   "cell_type": "markdown",
   "id": "d7d9cdf4",
   "metadata": {},
   "source": [
    "#### Functions\n",
    "print(len())\n",
    "\n",
    "print(story.endswith())\n",
    "\n",
    "print(story.count())\n",
    "\n",
    "print(story.capitalize())\n",
    "\n",
    "print(story.find())\n",
    "\n",
    "print(story.replace())\n"
   ]
  },
  {
   "cell_type": "markdown",
   "id": "bdd100cd",
   "metadata": {},
   "source": [
    "##### 1.Len()Functions"
   ]
  },
  {
   "cell_type": "code",
   "execution_count": 51,
   "id": "0ec69e9a",
   "metadata": {},
   "outputs": [
    {
     "name": "stdout",
     "output_type": "stream",
     "text": [
      "93\n"
     ]
    }
   ],
   "source": [
    "print(len(story))"
   ]
  },
  {
   "cell_type": "markdown",
   "id": "57cf3119",
   "metadata": {},
   "source": [
    "##### 2.String.endswith"
   ]
  },
  {
   "cell_type": "code",
   "execution_count": 52,
   "id": "3152c51a",
   "metadata": {},
   "outputs": [
    {
     "name": "stdout",
     "output_type": "stream",
     "text": [
      "False\n"
     ]
    }
   ],
   "source": [
    "print(story.endswith(\"note\"))"
   ]
  },
  {
   "cell_type": "code",
   "execution_count": 53,
   "id": "3d2b1151",
   "metadata": {},
   "outputs": [
    {
     "name": "stdout",
     "output_type": "stream",
     "text": [
      "True\n"
     ]
    }
   ],
   "source": [
    "print(story.endswith(\"Harry\"))"
   ]
  },
  {
   "cell_type": "code",
   "execution_count": 54,
   "id": "7133d43e",
   "metadata": {},
   "outputs": [
    {
     "name": "stdout",
     "output_type": "stream",
     "text": [
      "True\n"
     ]
    }
   ],
   "source": [
    "print(story.endswith(\"rry\"))"
   ]
  },
  {
   "cell_type": "markdown",
   "id": "d5a8b080",
   "metadata": {},
   "source": [
    "##### 3.String.Count"
   ]
  },
  {
   "cell_type": "code",
   "execution_count": 55,
   "id": "3cb50eda",
   "metadata": {},
   "outputs": [
    {
     "name": "stdout",
     "output_type": "stream",
     "text": [
      "2\n"
     ]
    }
   ],
   "source": [
    "print(story.count(\"H\"))"
   ]
  },
  {
   "cell_type": "code",
   "execution_count": 56,
   "id": "9fc749cf",
   "metadata": {},
   "outputs": [
    {
     "name": "stdout",
     "output_type": "stream",
     "text": [
      "8\n"
     ]
    }
   ],
   "source": [
    "print(story.count(\"o\"))"
   ]
  },
  {
   "cell_type": "markdown",
   "id": "0aa54390",
   "metadata": {},
   "source": [
    "##### 4.String.Capitalize()"
   ]
  },
  {
   "cell_type": "code",
   "execution_count": 57,
   "id": "c919c9b5",
   "metadata": {},
   "outputs": [
    {
     "name": "stdout",
     "output_type": "stream",
     "text": [
      "Once upon a time there was a youtuber named harry who uploaded python course with notes harry\n"
     ]
    }
   ],
   "source": [
    "print(story.capitalize())"
   ]
  },
  {
   "cell_type": "markdown",
   "id": "bb7bea8f",
   "metadata": {},
   "source": [
    "##### 5.String.find(word)"
   ]
  },
  {
   "cell_type": "code",
   "execution_count": 58,
   "id": "072b385e",
   "metadata": {},
   "outputs": [
    {
     "name": "stdout",
     "output_type": "stream",
     "text": [
      "0\n"
     ]
    }
   ],
   "source": [
    "print(story.find(\"o\"))"
   ]
  },
  {
   "cell_type": "code",
   "execution_count": 59,
   "id": "9054028b",
   "metadata": {},
   "outputs": [
    {
     "name": "stdout",
     "output_type": "stream",
     "text": [
      "29\n"
     ]
    }
   ],
   "source": [
    "print(story.find(\"y\"))"
   ]
  },
  {
   "cell_type": "markdown",
   "id": "8aa45600",
   "metadata": {},
   "source": [
    "##### 6.String.replace(oldword,newword)"
   ]
  },
  {
   "cell_type": "code",
   "execution_count": 60,
   "id": "5df5b6af",
   "metadata": {},
   "outputs": [
    {
     "name": "stdout",
     "output_type": "stream",
     "text": [
      "once upon a Time there was a youtuber named Harry who uploaded python course with notes Harry\n"
     ]
    }
   ],
   "source": [
    "print(story.replace(\"time\",\"Time\"))"
   ]
  },
  {
   "cell_type": "code",
   "execution_count": 61,
   "id": "9188cea2",
   "metadata": {},
   "outputs": [
    {
     "name": "stdout",
     "output_type": "stream",
     "text": [
      "once upon a time there was a youtuber named Digvijaya who uploaded python course with notes Digvijaya\n"
     ]
    }
   ],
   "source": [
    "print(story.replace(\"Harry\",\"Digvijaya\"))"
   ]
  },
  {
   "cell_type": "markdown",
   "id": "c3cacc44",
   "metadata": {},
   "source": [
    "### Escape Functions or Escape sequence characters"
   ]
  },
  {
   "cell_type": "code",
   "execution_count": 62,
   "id": "1bc36ac3",
   "metadata": {},
   "outputs": [],
   "source": [
    "a=\"i am onkar shinde.basically i am from Majalgaon. i am an engineer.i am living in Pune.\""
   ]
  },
  {
   "cell_type": "code",
   "execution_count": 63,
   "id": "c924be77",
   "metadata": {},
   "outputs": [],
   "source": [
    "a=\"i am onkar shinde.\\nbasically i am from Majalgaon. i am an engineer.i am living in Pune.\""
   ]
  },
  {
   "cell_type": "code",
   "execution_count": 64,
   "id": "05a98fa2",
   "metadata": {},
   "outputs": [
    {
     "name": "stdout",
     "output_type": "stream",
     "text": [
      "i am onkar shinde.\n",
      "basically i am from Majalgaon. i am an engineer.i am living in Pune.\n"
     ]
    }
   ],
   "source": [
    "print(a)"
   ]
  },
  {
   "cell_type": "code",
   "execution_count": 65,
   "id": "6895de23",
   "metadata": {},
   "outputs": [],
   "source": [
    "a=\"i am onkar shinde.basically i am from Majalgaon.\\t i am an engineer.i am living in Pune.\""
   ]
  },
  {
   "cell_type": "code",
   "execution_count": 66,
   "id": "a2fff403",
   "metadata": {},
   "outputs": [
    {
     "name": "stdout",
     "output_type": "stream",
     "text": [
      "i am onkar shinde.basically i am from Majalgaon.\t i am an engineer.i am living in Pune.\n"
     ]
    }
   ],
   "source": [
    "print(a)"
   ]
  },
  {
   "cell_type": "code",
   "execution_count": 67,
   "id": "e0ada130",
   "metadata": {},
   "outputs": [],
   "source": [
    "b=\"i am onkar shinde.basically i am from Majalgaon. i am an engineer.\\'i am living in Pune.\""
   ]
  },
  {
   "cell_type": "code",
   "execution_count": 68,
   "id": "4a62a8f6",
   "metadata": {},
   "outputs": [
    {
     "name": "stdout",
     "output_type": "stream",
     "text": [
      "i am onkar shinde.basically i am from Majalgaon. i am an engineer.'i am living in Pune.\n"
     ]
    }
   ],
   "source": [
    "print(b)"
   ]
  },
  {
   "cell_type": "code",
   "execution_count": 69,
   "id": "69ca549f",
   "metadata": {},
   "outputs": [],
   "source": [
    "d=\"i am onkar shinde.basically i am from \\\\Majalgaon. i am an engineer.i am living in Pune.\""
   ]
  },
  {
   "cell_type": "code",
   "execution_count": 70,
   "id": "88a72cd7",
   "metadata": {},
   "outputs": [
    {
     "name": "stdout",
     "output_type": "stream",
     "text": [
      "i am onkar shinde.basically i am from \\Majalgaon. i am an engineer.i am living in Pune.\n"
     ]
    }
   ],
   "source": [
    "print(d)"
   ]
  },
  {
   "cell_type": "markdown",
   "id": "8aeb5099",
   "metadata": {},
   "source": [
    "##### Properties:-\n",
    "\\n :-This function change the line\n",
    "\n",
    " \\t:-This function gives the space\n",
    " \n",
    " \\' :- This function gives single quote\n",
    " \n",
    " \\\\:- This function add slash"
   ]
  },
  {
   "cell_type": "markdown",
   "id": "30c65393",
   "metadata": {},
   "source": [
    "##### Practice Set:-"
   ]
  },
  {
   "cell_type": "markdown",
   "id": "ac9854f5",
   "metadata": {},
   "source": [
    "##### 1.Write a Python program to display a user entered name followed by Good Afternoon using input() function??"
   ]
  },
  {
   "cell_type": "code",
   "execution_count": 71,
   "id": "c2778d68",
   "metadata": {},
   "outputs": [
    {
     "name": "stdout",
     "output_type": "stream",
     "text": [
      "Omkar\n"
     ]
    }
   ],
   "source": [
    "a=input()"
   ]
  },
  {
   "cell_type": "code",
   "execution_count": 72,
   "id": "3c663524",
   "metadata": {},
   "outputs": [
    {
     "name": "stdout",
     "output_type": "stream",
     "text": [
      "Good AfternoonOmkar\n"
     ]
    }
   ],
   "source": [
    "b=print(\"Good Afternoon\"+ a)"
   ]
  },
  {
   "cell_type": "code",
   "execution_count": 73,
   "id": "a72bf80f",
   "metadata": {},
   "outputs": [
    {
     "name": "stdout",
     "output_type": "stream",
     "text": [
      "enter your name: Omkar\n"
     ]
    }
   ],
   "source": [
    "c=input(\"enter your name: \" )"
   ]
  },
  {
   "cell_type": "code",
   "execution_count": 74,
   "id": "79ccf9a0",
   "metadata": {},
   "outputs": [
    {
     "name": "stdout",
     "output_type": "stream",
     "text": [
      "Good AfternoonOmkar\n"
     ]
    }
   ],
   "source": [
    "b=print(\"Good Afternoon\" + a)"
   ]
  },
  {
   "cell_type": "code",
   "execution_count": 75,
   "id": "53b0bd47",
   "metadata": {},
   "outputs": [
    {
     "name": "stdout",
     "output_type": "stream",
     "text": [
      "Good Afternoon,Omkar\n"
     ]
    }
   ],
   "source": [
    "z=print(\"Good Afternoon,\"+a)"
   ]
  },
  {
   "cell_type": "code",
   "execution_count": 76,
   "id": "4c8a0f1f",
   "metadata": {},
   "outputs": [
    {
     "name": "stdout",
     "output_type": "stream",
     "text": [
      "Good Afternoon, Omkar\n"
     ]
    }
   ],
   "source": [
    "k=print(\"Good Afternoon, \"+a)"
   ]
  },
  {
   "cell_type": "markdown",
   "id": "e972328e",
   "metadata": {},
   "source": [
    "##### 2.Write a program to fill in a letter template given below with name and date?? "
   ]
  },
  {
   "cell_type": "code",
   "execution_count": 77,
   "id": "b35b4efb",
   "metadata": {},
   "outputs": [],
   "source": [
    "letter='''Dear <|Name|>\n",
    "you are selected !\n",
    "<|Date|>'''"
   ]
  },
  {
   "cell_type": "code",
   "execution_count": 78,
   "id": "bf5d5e6b",
   "metadata": {},
   "outputs": [
    {
     "name": "stdout",
     "output_type": "stream",
     "text": [
      "enter your name\n",
      "Avinash\n"
     ]
    }
   ],
   "source": [
    "name=input(\"enter your name\\n\")"
   ]
  },
  {
   "cell_type": "code",
   "execution_count": 79,
   "id": "028f1035",
   "metadata": {},
   "outputs": [
    {
     "name": "stdout",
     "output_type": "stream",
     "text": [
      "Enter date\n",
      "8 Feb\n"
     ]
    }
   ],
   "source": [
    "date=input(\"Enter date\\n\")"
   ]
  },
  {
   "cell_type": "code",
   "execution_count": 80,
   "id": "8d0296d4",
   "metadata": {},
   "outputs": [
    {
     "data": {
      "text/plain": [
       "'Dear <|Name|>\\nyou are selected !\\n<|Date|>'"
      ]
     },
     "execution_count": 80,
     "metadata": {},
     "output_type": "execute_result"
    }
   ],
   "source": [
    "letter.replace(\"<|name|>\",name)"
   ]
  },
  {
   "cell_type": "code",
   "execution_count": 81,
   "id": "6f6f3228",
   "metadata": {},
   "outputs": [
    {
     "data": {
      "text/plain": [
       "'Dear <|Name|>\\nyou are selected !\\n8 Feb'"
      ]
     },
     "execution_count": 81,
     "metadata": {},
     "output_type": "execute_result"
    }
   ],
   "source": [
    "letter.replace(\"<|Date|>\",date)"
   ]
  },
  {
   "cell_type": "code",
   "execution_count": 82,
   "id": "58d814be",
   "metadata": {},
   "outputs": [
    {
     "name": "stdout",
     "output_type": "stream",
     "text": [
      "Dear <|Name|>\n",
      "you are selected !\n",
      "<|Date|>\n"
     ]
    }
   ],
   "source": [
    "print(letter)"
   ]
  },
  {
   "cell_type": "code",
   "execution_count": 86,
   "id": "fb404411",
   "metadata": {},
   "outputs": [],
   "source": [
    "letter=letter.replace(\"<|Name|>\",name)"
   ]
  },
  {
   "cell_type": "code",
   "execution_count": 87,
   "id": "63dbdf85",
   "metadata": {},
   "outputs": [],
   "source": [
    "letter=letter.replace(\"<|Date|>\",date)"
   ]
  },
  {
   "cell_type": "code",
   "execution_count": 88,
   "id": "51e53ec5",
   "metadata": {},
   "outputs": [
    {
     "name": "stdout",
     "output_type": "stream",
     "text": [
      "Dear Avinash\n",
      "you are selected !\n",
      "8 Feb\n"
     ]
    }
   ],
   "source": [
    "print(letter)"
   ]
  },
  {
   "cell_type": "markdown",
   "id": "7d5edad4",
   "metadata": {},
   "source": [
    "##### 3.Write a program to detect double spaces in a string??"
   ]
  },
  {
   "cell_type": "code",
   "execution_count": 89,
   "id": "50c9b9e3",
   "metadata": {},
   "outputs": [],
   "source": [
    "a=\"This is a string with double  spaces\""
   ]
  },
  {
   "cell_type": "code",
   "execution_count": 90,
   "id": "8b294b01",
   "metadata": {},
   "outputs": [],
   "source": [
    "Doublespace=a.find(\"  \")"
   ]
  },
  {
   "cell_type": "code",
   "execution_count": 91,
   "id": "e4490d38",
   "metadata": {},
   "outputs": [
    {
     "name": "stdout",
     "output_type": "stream",
     "text": [
      "28\n"
     ]
    }
   ],
   "source": [
    "print(Doublespace)"
   ]
  },
  {
   "cell_type": "code",
   "execution_count": 92,
   "id": "ed7c5419",
   "metadata": {},
   "outputs": [],
   "source": [
    "b=\"This is a string with double  spaces  \""
   ]
  },
  {
   "cell_type": "code",
   "execution_count": 94,
   "id": "9d60390e",
   "metadata": {},
   "outputs": [],
   "source": [
    "Doublespace=a.find(\"  \")"
   ]
  },
  {
   "cell_type": "code",
   "execution_count": 95,
   "id": "edac3d30",
   "metadata": {},
   "outputs": [
    {
     "name": "stdout",
     "output_type": "stream",
     "text": [
      "28\n"
     ]
    }
   ],
   "source": [
    "print(Doublespace)"
   ]
  },
  {
   "cell_type": "markdown",
   "id": "ea1a41a7",
   "metadata": {},
   "source": [
    "##### 4.Replace the Double space from problem 3 with single spaces??"
   ]
  },
  {
   "cell_type": "code",
   "execution_count": 96,
   "id": "951ed985",
   "metadata": {},
   "outputs": [],
   "source": [
    "d=\"This is a string with double  spaces\""
   ]
  },
  {
   "cell_type": "code",
   "execution_count": 100,
   "id": "c99d583f",
   "metadata": {},
   "outputs": [
    {
     "name": "stdout",
     "output_type": "stream",
     "text": [
      "This is a string with double  spaces\n"
     ]
    }
   ],
   "source": [
    "print(d)"
   ]
  },
  {
   "cell_type": "code",
   "execution_count": 98,
   "id": "fdd90ec8",
   "metadata": {},
   "outputs": [],
   "source": [
    "R=a.replace(\"  \",\" \")"
   ]
  },
  {
   "cell_type": "code",
   "execution_count": 99,
   "id": "4470868a",
   "metadata": {},
   "outputs": [
    {
     "name": "stdout",
     "output_type": "stream",
     "text": [
      "This is a string with double spaces\n"
     ]
    }
   ],
   "source": [
    "print(R)"
   ]
  },
  {
   "cell_type": "markdown",
   "id": "2e87f4ae",
   "metadata": {},
   "source": [
    "##### 5.Write a program to format the following letter using escape sequence character??"
   ]
  },
  {
   "cell_type": "code",
   "execution_count": 103,
   "id": "b8454906",
   "metadata": {},
   "outputs": [],
   "source": [
    "Letter=\"Dear Harry, This Python Course is nice.Thanks!\""
   ]
  },
  {
   "cell_type": "code",
   "execution_count": 104,
   "id": "2219c69c",
   "metadata": {},
   "outputs": [
    {
     "name": "stdout",
     "output_type": "stream",
     "text": [
      "Dear Harry, This Python Course is nice.Thanks!\n"
     ]
    }
   ],
   "source": [
    "print(Letter)"
   ]
  },
  {
   "cell_type": "code",
   "execution_count": 105,
   "id": "750532b1",
   "metadata": {},
   "outputs": [],
   "source": [
    "A=\"Dear Harry,\\n This Python Course is nice.\\tThanks!\""
   ]
  },
  {
   "cell_type": "code",
   "execution_count": 106,
   "id": "d27b1300",
   "metadata": {},
   "outputs": [
    {
     "name": "stdout",
     "output_type": "stream",
     "text": [
      "Dear Harry,\n",
      " This Python Course is nice.\tThanks!\n"
     ]
    }
   ],
   "source": [
    "print(A)"
   ]
  },
  {
   "cell_type": "code",
   "execution_count": 107,
   "id": "d3466f64",
   "metadata": {},
   "outputs": [],
   "source": [
    "Z=\"Dear Harry,\\nThis Python Course is nice.\\n\\tThanks!\""
   ]
  },
  {
   "cell_type": "code",
   "execution_count": 108,
   "id": "5ea953fd",
   "metadata": {},
   "outputs": [
    {
     "name": "stdout",
     "output_type": "stream",
     "text": [
      "Dear Harry,\n",
      "This Python Course is nice.\n",
      "\tThanks!\n"
     ]
    }
   ],
   "source": [
    "print(Z)"
   ]
  },
  {
   "cell_type": "code",
   "execution_count": null,
   "id": "5cd48cf4",
   "metadata": {},
   "outputs": [],
   "source": []
  }
 ],
 "metadata": {
  "kernelspec": {
   "display_name": "Python 3",
   "language": "python",
   "name": "python3"
  },
  "language_info": {
   "codemirror_mode": {
    "name": "ipython",
    "version": 3
   },
   "file_extension": ".py",
   "mimetype": "text/x-python",
   "name": "python",
   "nbconvert_exporter": "python",
   "pygments_lexer": "ipython3",
   "version": "3.8.8"
  }
 },
 "nbformat": 4,
 "nbformat_minor": 5
}
