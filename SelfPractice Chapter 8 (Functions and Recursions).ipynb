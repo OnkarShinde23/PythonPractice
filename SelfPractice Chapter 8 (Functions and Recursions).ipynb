{
 "cells": [
  {
   "cell_type": "markdown",
   "id": "25fc8e20",
   "metadata": {},
   "source": [
    "# Functions"
   ]
  },
  {
   "cell_type": "markdown",
   "id": "010bfb9e",
   "metadata": {},
   "source": [
    "### \"Functions\" defined by \"def\""
   ]
  },
  {
   "cell_type": "markdown",
   "id": "6ec71888",
   "metadata": {},
   "source": [
    "###### Examples of Functions(def)"
   ]
  },
  {
   "cell_type": "markdown",
   "id": "88bc0392",
   "metadata": {},
   "source": [
    "###### 1."
   ]
  },
  {
   "cell_type": "markdown",
   "id": "7ae4204e",
   "metadata": {},
   "source": [
    "Write a program to greet a user with \"Good day\" using functions??"
   ]
  },
  {
   "cell_type": "markdown",
   "id": "a2da9dd9",
   "metadata": {},
   "source": [
    "###### Type 1"
   ]
  },
  {
   "cell_type": "code",
   "execution_count": 2,
   "id": "cc372e2b",
   "metadata": {},
   "outputs": [
    {
     "name": "stdout",
     "output_type": "stream",
     "text": [
      "Good day,Onkar\n"
     ]
    }
   ],
   "source": [
    "def greet(name):\n",
    "    print(\"Good day,\"+name)\n",
    "greet(\"Onkar\")"
   ]
  },
  {
   "cell_type": "code",
   "execution_count": 12,
   "id": "5a79156e",
   "metadata": {},
   "outputs": [
    {
     "name": "stdout",
     "output_type": "stream",
     "text": [
      "Number is 90\n"
     ]
    }
   ],
   "source": [
    "def digit(enter ):\n",
    "    print(\"Number is \"+enter)\n",
    "digit(\"90\")    "
   ]
  },
  {
   "cell_type": "code",
   "execution_count": 13,
   "id": "c89f3331",
   "metadata": {},
   "outputs": [
    {
     "name": "stdout",
     "output_type": "stream",
     "text": [
      "Majalgaon\n"
     ]
    }
   ],
   "source": [
    "def townname(write):\n",
    "    print(write)\n",
    "townname(\"Majalgaon\")    "
   ]
  },
  {
   "cell_type": "code",
   "execution_count": 14,
   "id": "91abf118",
   "metadata": {},
   "outputs": [
    {
     "name": "stdout",
     "output_type": "stream",
     "text": [
      "Name of sea is\n"
     ]
    }
   ],
   "source": [
    "def sea(which):\n",
    "    print(\"Name of sea is\")\n",
    "sea(\"Indian Ocean\")    "
   ]
  },
  {
   "cell_type": "markdown",
   "id": "f3c01543",
   "metadata": {},
   "source": [
    "###### Note this point"
   ]
  },
  {
   "cell_type": "code",
   "execution_count": 16,
   "id": "9f93f8f9",
   "metadata": {},
   "outputs": [
    {
     "name": "stdout",
     "output_type": "stream",
     "text": [
      "Name of sea is Indian Ocean\n"
     ]
    }
   ],
   "source": [
    "def sea(which):\n",
    "    print(\"Name of sea is \"+which)\n",
    "sea(\"Indian Ocean\")  "
   ]
  },
  {
   "cell_type": "markdown",
   "id": "fbd9469d",
   "metadata": {},
   "source": [
    "### This is the syntax of def functions(Defining function)"
   ]
  },
  {
   "cell_type": "markdown",
   "id": "c1bb4368",
   "metadata": {},
   "source": [
    "###### Type 2"
   ]
  },
  {
   "cell_type": "markdown",
   "id": "18d7cd88",
   "metadata": {},
   "source": [
    "###### Defalut parameter value"
   ]
  },
  {
   "cell_type": "code",
   "execution_count": 21,
   "id": "35124a06",
   "metadata": {},
   "outputs": [
    {
     "name": "stdout",
     "output_type": "stream",
     "text": [
      "Good Day,Onkar\n"
     ]
    }
   ],
   "source": [
    "def greet(name):\n",
    "    print(\"Good Day,\"+name)\n",
    "greet(\"Onkar\")   "
   ]
  },
  {
   "cell_type": "code",
   "execution_count": 22,
   "id": "f4fb8a96",
   "metadata": {},
   "outputs": [
    {
     "name": "stdout",
     "output_type": "stream",
     "text": [
      "Good Day,Onkar\n"
     ]
    },
    {
     "ename": "TypeError",
     "evalue": "greet() missing 1 required positional argument: 'name'",
     "output_type": "error",
     "traceback": [
      "\u001b[1;31m---------------------------------------------------------------------------\u001b[0m",
      "\u001b[1;31mTypeError\u001b[0m                                 Traceback (most recent call last)",
      "\u001b[1;32m<ipython-input-22-edfd976377b6>\u001b[0m in \u001b[0;36m<module>\u001b[1;34m\u001b[0m\n\u001b[0;32m      2\u001b[0m     \u001b[0mprint\u001b[0m\u001b[1;33m(\u001b[0m\u001b[1;34m\"Good Day,\"\u001b[0m\u001b[1;33m+\u001b[0m\u001b[0mname\u001b[0m\u001b[1;33m)\u001b[0m\u001b[1;33m\u001b[0m\u001b[1;33m\u001b[0m\u001b[0m\n\u001b[0;32m      3\u001b[0m \u001b[0mgreet\u001b[0m\u001b[1;33m(\u001b[0m\u001b[1;34m\"Onkar\"\u001b[0m\u001b[1;33m)\u001b[0m\u001b[1;33m\u001b[0m\u001b[1;33m\u001b[0m\u001b[0m\n\u001b[1;32m----> 4\u001b[1;33m \u001b[0mgreet\u001b[0m\u001b[1;33m(\u001b[0m\u001b[1;33m)\u001b[0m\u001b[1;33m\u001b[0m\u001b[1;33m\u001b[0m\u001b[0m\n\u001b[0m",
      "\u001b[1;31mTypeError\u001b[0m: greet() missing 1 required positional argument: 'name'"
     ]
    }
   ],
   "source": [
    "def greet(name):\n",
    "    print(\"Good Day,\"+name)\n",
    "greet(\"Onkar\")\n",
    "greet()"
   ]
  },
  {
   "cell_type": "code",
   "execution_count": 23,
   "id": "7469a163",
   "metadata": {},
   "outputs": [
    {
     "name": "stdout",
     "output_type": "stream",
     "text": [
      "Good Day,Onkar\n",
      "Good Day,Student\n"
     ]
    }
   ],
   "source": [
    "def greet(name=\"Student\"):\n",
    "    print(\"Good Day,\"+name)\n",
    "greet(\"Onkar\")\n",
    "greet()"
   ]
  },
  {
   "cell_type": "code",
   "execution_count": 29,
   "id": "23ef6187",
   "metadata": {},
   "outputs": [
    {
     "name": "stdout",
     "output_type": "stream",
     "text": [
      "Write std= 1st year\n",
      "Write std= 4th year\n"
     ]
    }
   ],
   "source": [
    "def Class(std=\"4th year\"):\n",
    "    print(\"Write std= \"+std)\n",
    "Class(\"1st year\")\n",
    "Class()\n",
    "    "
   ]
  },
  {
   "cell_type": "code",
   "execution_count": 33,
   "id": "4ef2b012",
   "metadata": {},
   "outputs": [
    {
     "name": "stdout",
     "output_type": "stream",
     "text": [
      "Highest mountains are Sahyadri\n",
      "And\n",
      "Highest mountains are Himalaya\n"
     ]
    }
   ],
   "source": [
    "def Mountain(Name=\"Himalaya\"):\n",
    "    print(\"Highest mountains are \"+Name)\n",
    "Mountain(\"Sahyadri\")\n",
    "print(\"And\")\n",
    "Mountain()"
   ]
  },
  {
   "cell_type": "markdown",
   "id": "f4a2e7c6",
   "metadata": {},
   "source": [
    "###### Tyep 3"
   ]
  },
  {
   "cell_type": "code",
   "execution_count": 5,
   "id": "b74106a2",
   "metadata": {},
   "outputs": [
    {
     "name": "stdout",
     "output_type": "stream",
     "text": [
      "Good day,Onkar\n",
      "38\n"
     ]
    }
   ],
   "source": [
    "def greet (name):\n",
    "    print(\"Good day,\"+name)\n",
    "def add(Number1,Number2):\n",
    "    return (Number1+Number2)\n",
    "greet(\"Onkar\")\n",
    "print(add(6,32))"
   ]
  },
  {
   "cell_type": "code",
   "execution_count": 11,
   "id": "ba9a71aa",
   "metadata": {},
   "outputs": [
    {
     "name": "stdout",
     "output_type": "stream",
     "text": [
      "Today's Temptrature may be 20\n",
      "Or\n",
      "24\n"
     ]
    }
   ],
   "source": [
    "def Temptreture(enter):\n",
    "    print(\"Today's Temptrature may be \"+enter)\n",
    "def add(digit1,digit2):\n",
    "    return (digit1+digit2)\n",
    "Temptreture(\"20\")\n",
    "print(\"Or\")\n",
    "print(add(20,4))"
   ]
  },
  {
   "cell_type": "code",
   "execution_count": 27,
   "id": "8c36255b",
   "metadata": {},
   "outputs": [
    {
     "name": "stdout",
     "output_type": "stream",
     "text": [
      "In India has 3000 Tiger's\n",
      "Or\n",
      "3300\n"
     ]
    }
   ],
   "source": [
    "def Tigercount(enter):\n",
    "    print(\"In India has \"+ enter + \" Tiger's\" )\n",
    "def sumcount(year2001,year2002):\n",
    "    return(year2001+year2002)\n",
    "Tigercount(\"3000\")\n",
    "print(\"Or\")\n",
    "print(sumcount(2500,800))"
   ]
  },
  {
   "cell_type": "markdown",
   "id": "589aed94",
   "metadata": {},
   "source": [
    "###### Type 4"
   ]
  },
  {
   "cell_type": "code",
   "execution_count": 35,
   "id": "9042e90d",
   "metadata": {},
   "outputs": [
    {
     "name": "stdout",
     "output_type": "stream",
     "text": [
      "71.5 84.75\n"
     ]
    }
   ],
   "source": [
    "marks1=[45,78,86,77]\n",
    "percentage1=(sum(marks1)/400)*100\n",
    "\n",
    "marks2=[75,98,88,78]\n",
    "percentage2=(sum(marks2)/400)*100\n",
    "print(percentage1, percentage2)\n"
   ]
  },
  {
   "cell_type": "raw",
   "id": "4f0095da",
   "metadata": {},
   "source": [
    "Q. A=[23,33,45]\n",
    "   B=[33,56,88]\n",
    "find percentage"
   ]
  },
  {
   "cell_type": "code",
   "execution_count": 36,
   "id": "c0b31d03",
   "metadata": {},
   "outputs": [
    {
     "name": "stdout",
     "output_type": "stream",
     "text": [
      "33.666666666666664 59.0\n"
     ]
    }
   ],
   "source": [
    "A=[23,33,45]\n",
    "percentage1=(sum(A)/300)*100\n",
    "B=[33,56,88]\n",
    "percentage2=(sum(B)/300)*100\n",
    "print(percentage1,percentage2)\n"
   ]
  },
  {
   "cell_type": "markdown",
   "id": "66e7243e",
   "metadata": {},
   "source": [
    "###### Type 5"
   ]
  },
  {
   "cell_type": "code",
   "execution_count": 63,
   "id": "0e73acf1",
   "metadata": {},
   "outputs": [],
   "source": [
    "X=[45,78,86,77]\n",
    "Y=[75,98,88,78]"
   ]
  },
  {
   "cell_type": "code",
   "execution_count": 66,
   "id": "2f5fecd7",
   "metadata": {},
   "outputs": [],
   "source": [
    "def percent(X):\n",
    "    P=((X[0]+X[1]+X[2]+X[3])/400)*100\n",
    "    return P"
   ]
  },
  {
   "cell_type": "code",
   "execution_count": 67,
   "id": "09d3fc04",
   "metadata": {},
   "outputs": [
    {
     "data": {
      "text/plain": [
       "71.5"
      ]
     },
     "execution_count": 67,
     "metadata": {},
     "output_type": "execute_result"
    }
   ],
   "source": [
    "percent(X)"
   ]
  },
  {
   "cell_type": "code",
   "execution_count": 68,
   "id": "ba2d3fda",
   "metadata": {},
   "outputs": [
    {
     "data": {
      "text/plain": [
       "84.75"
      ]
     },
     "execution_count": 68,
     "metadata": {},
     "output_type": "execute_result"
    }
   ],
   "source": [
    "percent(Y)"
   ]
  },
  {
   "cell_type": "markdown",
   "id": "d8cf7dea",
   "metadata": {},
   "source": [
    "###### Ans=correct.(Practice it)"
   ]
  },
  {
   "cell_type": "code",
   "execution_count": 7,
   "id": "a7c0a667",
   "metadata": {},
   "outputs": [],
   "source": [
    "R=[12,58,54,65]\n",
    "Y=[78,54,66,98]\n",
    "Z=[77,99,54,64]\n",
    "P=[41,77,98,33]"
   ]
  },
  {
   "cell_type": "code",
   "execution_count": 8,
   "id": "c5fe3dda",
   "metadata": {},
   "outputs": [],
   "source": [
    "def percent(R):\n",
    "    P=((R[0]+R[1]+R[2]+R[3])/400)*100\n",
    "    return P"
   ]
  },
  {
   "cell_type": "code",
   "execution_count": 9,
   "id": "4ea95cb2",
   "metadata": {},
   "outputs": [
    {
     "data": {
      "text/plain": [
       "47.25"
      ]
     },
     "execution_count": 9,
     "metadata": {},
     "output_type": "execute_result"
    }
   ],
   "source": [
    "percent(R)"
   ]
  },
  {
   "cell_type": "code",
   "execution_count": 10,
   "id": "77f5842a",
   "metadata": {},
   "outputs": [
    {
     "data": {
      "text/plain": [
       "74.0"
      ]
     },
     "execution_count": 10,
     "metadata": {},
     "output_type": "execute_result"
    }
   ],
   "source": [
    "percent(Y)"
   ]
  },
  {
   "cell_type": "code",
   "execution_count": 11,
   "id": "ce5798ec",
   "metadata": {},
   "outputs": [
    {
     "data": {
      "text/plain": [
       "73.5"
      ]
     },
     "execution_count": 11,
     "metadata": {},
     "output_type": "execute_result"
    }
   ],
   "source": [
    "percent(Z)"
   ]
  },
  {
   "cell_type": "code",
   "execution_count": 12,
   "id": "210fa2ea",
   "metadata": {},
   "outputs": [
    {
     "data": {
      "text/plain": [
       "62.25000000000001"
      ]
     },
     "execution_count": 12,
     "metadata": {},
     "output_type": "execute_result"
    }
   ],
   "source": [
    "percent(P)"
   ]
  },
  {
   "cell_type": "markdown",
   "id": "fd53cf7b",
   "metadata": {},
   "source": [
    "### Recursion"
   ]
  },
  {
   "cell_type": "markdown",
   "id": "73a3a48f",
   "metadata": {},
   "source": [
    "###### Factorial"
   ]
  },
  {
   "cell_type": "raw",
   "id": "b5085511",
   "metadata": {},
   "source": [
    "n!=1*2*3*4.....*n"
   ]
  },
  {
   "cell_type": "markdown",
   "id": "c23e3702",
   "metadata": {},
   "source": [
    "###### Method"
   ]
  },
  {
   "cell_type": "code",
   "execution_count": 19,
   "id": "28945a2a",
   "metadata": {},
   "outputs": [],
   "source": [
    "n=4\n"
   ]
  },
  {
   "cell_type": "code",
   "execution_count": 20,
   "id": "1435110e",
   "metadata": {},
   "outputs": [],
   "source": [
    "product=1"
   ]
  },
  {
   "cell_type": "code",
   "execution_count": 21,
   "id": "66e1eb68",
   "metadata": {},
   "outputs": [
    {
     "name": "stdout",
     "output_type": "stream",
     "text": [
      "24\n"
     ]
    }
   ],
   "source": [
    "for i in range (n):\n",
    "    product=product*(i+1)\n",
    "print(product)    "
   ]
  },
  {
   "cell_type": "code",
   "execution_count": 27,
   "id": "a56a5cdd",
   "metadata": {},
   "outputs": [],
   "source": [
    "a=5"
   ]
  },
  {
   "cell_type": "code",
   "execution_count": 28,
   "id": "d0c38442",
   "metadata": {},
   "outputs": [],
   "source": [
    "product=1"
   ]
  },
  {
   "cell_type": "code",
   "execution_count": 29,
   "id": "beb93e46",
   "metadata": {},
   "outputs": [
    {
     "name": "stdout",
     "output_type": "stream",
     "text": [
      "120\n"
     ]
    }
   ],
   "source": [
    "for r in range(a):\n",
    "    product=product*(r+1)\n",
    "print(product)    \n",
    "    "
   ]
  },
  {
   "cell_type": "markdown",
   "id": "77272454",
   "metadata": {},
   "source": [
    "###### Recursion Methode"
   ]
  },
  {
   "cell_type": "code",
   "execution_count": 33,
   "id": "1ecb008c",
   "metadata": {},
   "outputs": [],
   "source": [
    "x=6"
   ]
  },
  {
   "cell_type": "code",
   "execution_count": 34,
   "id": "95b48ca0",
   "metadata": {},
   "outputs": [
    {
     "name": "stdout",
     "output_type": "stream",
     "text": [
      "720\n"
     ]
    }
   ],
   "source": [
    "def factorial_iter(x):\n",
    "    product=1\n",
    "    for i in range (x):\n",
    "        product=product*(i+1)\n",
    "    return product\n",
    "print(factorial_iter(6))"
   ]
  }
 ],
 "metadata": {
  "kernelspec": {
   "display_name": "Python 3",
   "language": "python",
   "name": "python3"
  },
  "language_info": {
   "codemirror_mode": {
    "name": "ipython",
    "version": 3
   },
   "file_extension": ".py",
   "mimetype": "text/x-python",
   "name": "python",
   "nbconvert_exporter": "python",
   "pygments_lexer": "ipython3",
   "version": "3.8.8"
  }
 },
 "nbformat": 4,
 "nbformat_minor": 5
}
