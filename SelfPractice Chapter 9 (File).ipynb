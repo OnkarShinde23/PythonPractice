{
 "cells": [
  {
   "cell_type": "markdown",
   "id": "17fe692c",
   "metadata": {},
   "source": [
    "# Files "
   ]
  },
  {
   "cell_type": "markdown",
   "id": "045d5924",
   "metadata": {},
   "source": [
    "###### RAM=Volatile\n",
    "Volatile means deleting memory"
   ]
  },
  {
   "cell_type": "markdown",
   "id": "8141dc60",
   "metadata": {},
   "source": [
    "###### HDD=Non-Volatile \n",
    "Non-volatile means saving memory"
   ]
  },
  {
   "cell_type": "markdown",
   "id": "e6852b2a",
   "metadata": {},
   "source": [
    "There are two types of files\n",
    "1. Text file\n",
    "2. Binary File"
   ]
  },
  {
   "cell_type": "markdown",
   "id": "798619c7",
   "metadata": {},
   "source": [
    "### Example"
   ]
  },
  {
   "cell_type": "code",
   "execution_count": 6,
   "id": "240c1607",
   "metadata": {},
   "outputs": [
    {
     "name": "stdout",
     "output_type": "stream",
     "text": [
      "\"Onkar Pandurangrao Shinde\" is a Student of NBNSCOE.\n"
     ]
    }
   ],
   "source": [
    "f=open('File Chapter 9.txt')\n",
    "data=f.read()\n",
    "print(data)\n",
    "f.close()"
   ]
  },
  {
   "cell_type": "code",
   "execution_count": 1,
   "id": "d9ad8625",
   "metadata": {},
   "outputs": [],
   "source": [
    "A=open('File Chapter 9.txt')\n",
    "Z=A.read()"
   ]
  },
  {
   "cell_type": "code",
   "execution_count": 2,
   "id": "fc25d24e",
   "metadata": {},
   "outputs": [
    {
     "name": "stdout",
     "output_type": "stream",
     "text": [
      "\"Onkar Pandurangrao Shinde\" is a Student of NBNSCOE.\n"
     ]
    }
   ],
   "source": [
    "print(Z)"
   ]
  },
  {
   "cell_type": "code",
   "execution_count": 2,
   "id": "9b0b0c97",
   "metadata": {},
   "outputs": [
    {
     "name": "stdout",
     "output_type": "stream",
     "text": [
      "\"Onkar\n"
     ]
    }
   ],
   "source": [
    "f=open('File Chapter 9.txt')\n",
    "data=f.read(6)\n",
    "print(data)\n",
    "f.close()"
   ]
  },
  {
   "cell_type": "markdown",
   "id": "a071bfc0",
   "metadata": {},
   "source": [
    "### Readline Method"
   ]
  },
  {
   "cell_type": "code",
   "execution_count": 4,
   "id": "fae8f50a",
   "metadata": {},
   "outputs": [],
   "source": [
    "f=open(\"File Chapter 9.txt\")"
   ]
  },
  {
   "cell_type": "code",
   "execution_count": 6,
   "id": "f6c57d9b",
   "metadata": {},
   "outputs": [
    {
     "name": "stdout",
     "output_type": "stream",
     "text": [
      "\"Onkar Pandurangrao Shinde\" is a Student of NBNSCOE.\n",
      "\n"
     ]
    }
   ],
   "source": [
    "data=f.readline()\n",
    "print(data)"
   ]
  },
  {
   "cell_type": "code",
   "execution_count": 7,
   "id": "88c5c8c3",
   "metadata": {},
   "outputs": [
    {
     "name": "stdout",
     "output_type": "stream",
     "text": [
      "He is living in Pune.\n",
      "\n"
     ]
    }
   ],
   "source": [
    "data=f.readline()\n",
    "print(data)"
   ]
  },
  {
   "cell_type": "code",
   "execution_count": 8,
   "id": "69148ee8",
   "metadata": {},
   "outputs": [
    {
     "name": "stdout",
     "output_type": "stream",
     "text": [
      "but he is from Majalgaon.\n",
      "\n"
     ]
    }
   ],
   "source": [
    "data=f.readline()\n",
    "print(data)"
   ]
  },
  {
   "cell_type": "code",
   "execution_count": 9,
   "id": "f4473068",
   "metadata": {},
   "outputs": [
    {
     "name": "stdout",
     "output_type": "stream",
     "text": [
      "Dist.Beed\n"
     ]
    }
   ],
   "source": [
    "data=f.readline()\n",
    "print(data)"
   ]
  },
  {
   "cell_type": "code",
   "execution_count": 10,
   "id": "68c65f1c",
   "metadata": {},
   "outputs": [
    {
     "name": "stdout",
     "output_type": "stream",
     "text": [
      "\n"
     ]
    }
   ],
   "source": [
    "data=f.readline()\n",
    "print(data)"
   ]
  },
  {
   "cell_type": "markdown",
   "id": "ceb63c16",
   "metadata": {},
   "source": [
    "###### This is the function of readline"
   ]
  },
  {
   "cell_type": "markdown",
   "id": "3fd6d7b6",
   "metadata": {},
   "source": [
    "### Methods of opening file  "
   ]
  },
  {
   "cell_type": "raw",
   "id": "585633c6",
   "metadata": {},
   "source": [
    "r : Open for reading\n",
    "w : Open for writing \n",
    "a : Open for appending\n",
    "+ : Open for updating   \n",
    "    \n",
    "    "
   ]
  },
  {
   "cell_type": "markdown",
   "id": "e5463217",
   "metadata": {},
   "source": [
    "###### Examples"
   ]
  },
  {
   "cell_type": "markdown",
   "id": "b843732e",
   "metadata": {},
   "source": [
    "###### 1."
   ]
  },
  {
   "cell_type": "code",
   "execution_count": 11,
   "id": "9a35c230",
   "metadata": {},
   "outputs": [
    {
     "name": "stdout",
     "output_type": "stream",
     "text": [
      "\"Onkar Pandurangrao Shinde\" is a Student of NBNSCOE.\n",
      "He is living in Pune.\n",
      "but he is from Majalgaon.\n",
      "Dist.Beed\n"
     ]
    }
   ],
   "source": [
    "f=open('File Chapter 9.txt','r')\n",
    "data=f.read()\n",
    "print(data)\n",
    "f.close()"
   ]
  },
  {
   "cell_type": "markdown",
   "id": "1c8f8052",
   "metadata": {},
   "source": [
    "###### 2."
   ]
  },
  {
   "cell_type": "code",
   "execution_count": 20,
   "id": "66a756a2",
   "metadata": {},
   "outputs": [],
   "source": [
    "X=open('another.txt','w')\n",
    "X.write(\"Today is Sunday.\")\n",
    "X.close()"
   ]
  },
  {
   "cell_type": "code",
   "execution_count": 21,
   "id": "da72ca3c",
   "metadata": {},
   "outputs": [
    {
     "name": "stdout",
     "output_type": "stream",
     "text": [
      "Today is Sunday.\n"
     ]
    }
   ],
   "source": [
    "A=open('another.txt')\n",
    "data=A.read()\n",
    "print(data)"
   ]
  },
  {
   "cell_type": "markdown",
   "id": "7949e539",
   "metadata": {},
   "source": [
    "###### Means has created successfully."
   ]
  },
  {
   "cell_type": "markdown",
   "id": "cb2b4560",
   "metadata": {},
   "source": [
    "###### 3."
   ]
  },
  {
   "cell_type": "code",
   "execution_count": 22,
   "id": "c4cdc41d",
   "metadata": {},
   "outputs": [],
   "source": [
    "W=open (\"another.txt\",\"a\")\n",
    "W.write(\" Tomorrow is Monday.\")\n",
    "W.close()"
   ]
  },
  {
   "cell_type": "code",
   "execution_count": 23,
   "id": "81074567",
   "metadata": {},
   "outputs": [
    {
     "name": "stdout",
     "output_type": "stream",
     "text": [
      "Today is Sunday. Tomorrow is Monday.\n"
     ]
    }
   ],
   "source": [
    "W=open('another.txt')\n",
    "data=W.read()\n",
    "print(data)"
   ]
  },
  {
   "cell_type": "markdown",
   "id": "d380ac0b",
   "metadata": {},
   "source": [
    "###### This is the function of Append."
   ]
  },
  {
   "cell_type": "code",
   "execution_count": 30,
   "id": "94bc6ae2",
   "metadata": {},
   "outputs": [
    {
     "ename": "AttributeError",
     "evalue": "'_io.TextIOWrapper' object has no attribute 'append'",
     "output_type": "error",
     "traceback": [
      "\u001b[1;31m---------------------------------------------------------------------------\u001b[0m",
      "\u001b[1;31mAttributeError\u001b[0m                            Traceback (most recent call last)",
      "\u001b[1;32m<ipython-input-30-5f7c000339f6>\u001b[0m in \u001b[0;36m<module>\u001b[1;34m\u001b[0m\n\u001b[0;32m      1\u001b[0m \u001b[0mW\u001b[0m\u001b[1;33m=\u001b[0m\u001b[0mopen\u001b[0m \u001b[1;33m(\u001b[0m\u001b[1;34m\"another.txt\"\u001b[0m\u001b[1;33m,\u001b[0m\u001b[1;34m\"a\"\u001b[0m\u001b[1;33m)\u001b[0m\u001b[1;33m\u001b[0m\u001b[1;33m\u001b[0m\u001b[0m\n\u001b[1;32m----> 2\u001b[1;33m \u001b[0mW\u001b[0m\u001b[1;33m.\u001b[0m\u001b[0mappend\u001b[0m\u001b[1;33m(\u001b[0m\u001b[1;34m\" Year is 2022\"\u001b[0m\u001b[1;33m)\u001b[0m\u001b[1;33m\u001b[0m\u001b[1;33m\u001b[0m\u001b[0m\n\u001b[0m\u001b[0;32m      3\u001b[0m \u001b[0mW\u001b[0m\u001b[1;33m.\u001b[0m\u001b[0mclose\u001b[0m\u001b[1;33m(\u001b[0m\u001b[1;33m)\u001b[0m\u001b[1;33m\u001b[0m\u001b[1;33m\u001b[0m\u001b[0m\n",
      "\u001b[1;31mAttributeError\u001b[0m: '_io.TextIOWrapper' object has no attribute 'append'"
     ]
    }
   ],
   "source": [
    "W=open (\"another.txt\",\"a\")\n",
    "W.append(\" Year is 2022\")\n",
    "W.close()"
   ]
  },
  {
   "cell_type": "markdown",
   "id": "a259e9e7",
   "metadata": {},
   "source": [
    "###### Means we can't use append for addition. "
   ]
  },
  {
   "cell_type": "markdown",
   "id": "9a6dbc7e",
   "metadata": {},
   "source": [
    "### with Statement"
   ]
  },
  {
   "cell_type": "markdown",
   "id": "088479b6",
   "metadata": {},
   "source": [
    "###### The best way to open and close the file automatically is the with statement"
   ]
  },
  {
   "cell_type": "markdown",
   "id": "5d7018ac",
   "metadata": {},
   "source": [
    "###### Example:"
   ]
  },
  {
   "cell_type": "code",
   "execution_count": 11,
   "id": "bb5ee2dc",
   "metadata": {},
   "outputs": [],
   "source": [
    "with open ('another.txt','r') as f:\n",
    "    a=f.read()\n"
   ]
  },
  {
   "cell_type": "code",
   "execution_count": 12,
   "id": "52a33801",
   "metadata": {},
   "outputs": [
    {
     "name": "stdout",
     "output_type": "stream",
     "text": [
      "me\n"
     ]
    }
   ],
   "source": [
    "print(a)"
   ]
  },
  {
   "cell_type": "code",
   "execution_count": 13,
   "id": "aa74a618",
   "metadata": {},
   "outputs": [],
   "source": [
    "with open('another.txt','w') as f:\n",
    "    a=f.write('Rajgad')"
   ]
  },
  {
   "cell_type": "code",
   "execution_count": 14,
   "id": "31d44dde",
   "metadata": {},
   "outputs": [
    {
     "name": "stdout",
     "output_type": "stream",
     "text": [
      "6\n"
     ]
    }
   ],
   "source": [
    "print(a)"
   ]
  },
  {
   "cell_type": "markdown",
   "id": "db8802e7",
   "metadata": {},
   "source": [
    "###### This function didn't add name it overwrite first function"
   ]
  },
  {
   "cell_type": "code",
   "execution_count": null,
   "id": "d66fa3f7",
   "metadata": {},
   "outputs": [],
   "source": []
  }
 ],
 "metadata": {
  "kernelspec": {
   "display_name": "Python 3",
   "language": "python",
   "name": "python3"
  },
  "language_info": {
   "codemirror_mode": {
    "name": "ipython",
    "version": 3
   },
   "file_extension": ".py",
   "mimetype": "text/x-python",
   "name": "python",
   "nbconvert_exporter": "python",
   "pygments_lexer": "ipython3",
   "version": "3.8.8"
  }
 },
 "nbformat": 4,
 "nbformat_minor": 5
}
