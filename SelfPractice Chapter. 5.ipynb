{
 "cells": [
  {
   "cell_type": "markdown",
   "id": "094c60bf",
   "metadata": {},
   "source": [
    "# Dictionary And Sets"
   ]
  },
  {
   "cell_type": "markdown",
   "id": "872a1da5",
   "metadata": {},
   "source": [
    "### Dictionary"
   ]
  },
  {
   "cell_type": "code",
   "execution_count": 1,
   "id": "75dcfeab",
   "metadata": {},
   "outputs": [],
   "source": [
    "myDict = {\"fast\": \"In a Quick Manner\",\n",
    "         \"Om\": \"Engineer\",\n",
    "        \"Marks\":[1,2,4,7]}"
   ]
  },
  {
   "cell_type": "code",
   "execution_count": 2,
   "id": "74ad2a13",
   "metadata": {},
   "outputs": [
    {
     "name": "stdout",
     "output_type": "stream",
     "text": [
      "In a Quick Manner\n"
     ]
    }
   ],
   "source": [
    "print(myDict['fast'])"
   ]
  },
  {
   "cell_type": "code",
   "execution_count": 3,
   "id": "73638fd1",
   "metadata": {},
   "outputs": [
    {
     "name": "stdout",
     "output_type": "stream",
     "text": [
      "Engineer\n",
      "[1, 2, 4, 7]\n"
     ]
    }
   ],
   "source": [
    "print(myDict['Om'])\n",
    "print(myDict['Marks'])"
   ]
  },
  {
   "cell_type": "code",
   "execution_count": 4,
   "id": "83a139a3",
   "metadata": {},
   "outputs": [],
   "source": [
    "Set={\"india\":{\"Virat Kohali\":\"Batsman\"}}"
   ]
  },
  {
   "cell_type": "code",
   "execution_count": 5,
   "id": "6b6e8e16",
   "metadata": {},
   "outputs": [
    {
     "name": "stdout",
     "output_type": "stream",
     "text": [
      "{'india': {'Virat Kohali': 'Batsman'}}\n"
     ]
    }
   ],
   "source": [
    "print(Set)"
   ]
  },
  {
   "cell_type": "code",
   "execution_count": 6,
   "id": "2f76fc62",
   "metadata": {},
   "outputs": [
    {
     "name": "stdout",
     "output_type": "stream",
     "text": [
      "{'Virat Kohali': 'Batsman'}\n"
     ]
    }
   ],
   "source": [
    "print(Set['india'])"
   ]
  },
  {
   "cell_type": "code",
   "execution_count": 7,
   "id": "7b03c1dc",
   "metadata": {},
   "outputs": [
    {
     "name": "stdout",
     "output_type": "stream",
     "text": [
      "Batsman\n"
     ]
    }
   ],
   "source": [
    "print(Set['india']['Virat Kohali'])"
   ]
  },
  {
   "cell_type": "markdown",
   "id": "8a939120",
   "metadata": {},
   "source": [
    "### Dictionary Methods"
   ]
  },
  {
   "cell_type": "markdown",
   "id": "be98547a",
   "metadata": {},
   "source": [
    "##### Keys"
   ]
  },
  {
   "cell_type": "code",
   "execution_count": 8,
   "id": "ea30d54d",
   "metadata": {},
   "outputs": [],
   "source": [
    " A= {\"fast\": \"In a Quick Manner\",\n",
    "         \"Om\": \"Engineer\",\n",
    "        \"Marks\":[1,2,4,7],\n",
    "         \"Solapur University\":{\"Sinhgad\":\"Engineering College\"}}"
   ]
  },
  {
   "cell_type": "code",
   "execution_count": 9,
   "id": "8d3fe06d",
   "metadata": {},
   "outputs": [
    {
     "name": "stdout",
     "output_type": "stream",
     "text": [
      "dict_keys(['fast', 'Om', 'Marks', 'Solapur University'])\n"
     ]
    }
   ],
   "source": [
    "print(A.keys())"
   ]
  },
  {
   "cell_type": "code",
   "execution_count": 10,
   "id": "189c6390",
   "metadata": {},
   "outputs": [
    {
     "name": "stdout",
     "output_type": "stream",
     "text": [
      "['fast', 'Om', 'Marks', 'Solapur University']\n"
     ]
    }
   ],
   "source": [
    "print(list(A.keys()))"
   ]
  },
  {
   "cell_type": "code",
   "execution_count": 11,
   "id": "507f126f",
   "metadata": {},
   "outputs": [
    {
     "name": "stdout",
     "output_type": "stream",
     "text": [
      "<class 'dict_keys'>\n"
     ]
    }
   ],
   "source": [
    "print(type(A.keys()))"
   ]
  },
  {
   "cell_type": "code",
   "execution_count": 12,
   "id": "f1aaa203",
   "metadata": {},
   "outputs": [
    {
     "name": "stdout",
     "output_type": "stream",
     "text": [
      "dict_values(['In a Quick Manner', 'Engineer', [1, 2, 4, 7], {'Sinhgad': 'Engineering College'}])\n"
     ]
    }
   ],
   "source": [
    "print(A.values())"
   ]
  },
  {
   "cell_type": "markdown",
   "id": "a3037fa0",
   "metadata": {},
   "source": [
    "##### Items"
   ]
  },
  {
   "cell_type": "code",
   "execution_count": 13,
   "id": "522c4d53",
   "metadata": {},
   "outputs": [
    {
     "name": "stdout",
     "output_type": "stream",
     "text": [
      "dict_items([('fast', 'In a Quick Manner'), ('Om', 'Engineer'), ('Marks', [1, 2, 4, 7]), ('Solapur University', {'Sinhgad': 'Engineering College'})])\n"
     ]
    }
   ],
   "source": [
    "print(A.items())"
   ]
  },
  {
   "cell_type": "markdown",
   "id": "ad0fe4f2",
   "metadata": {},
   "source": [
    "##### Update"
   ]
  },
  {
   "cell_type": "code",
   "execution_count": 14,
   "id": "03ca61ab",
   "metadata": {},
   "outputs": [
    {
     "name": "stdout",
     "output_type": "stream",
     "text": [
      "{'fast': 'In a Quick Manner', 'Om': 'Engineer', 'Marks': [1, 2, 4, 7], 'Solapur University': {'Sinhgad': 'Engineering College'}}\n"
     ]
    }
   ],
   "source": [
    "print(A)"
   ]
  },
  {
   "cell_type": "code",
   "execution_count": 15,
   "id": "f42536f1",
   "metadata": {},
   "outputs": [],
   "source": [
    "UpdateDict={\"Lovish\":\"friend\"}"
   ]
  },
  {
   "cell_type": "code",
   "execution_count": 16,
   "id": "4fbf8be2",
   "metadata": {},
   "outputs": [],
   "source": [
    "A.update(UpdateDict)"
   ]
  },
  {
   "cell_type": "code",
   "execution_count": 17,
   "id": "bfd8a4dc",
   "metadata": {},
   "outputs": [
    {
     "name": "stdout",
     "output_type": "stream",
     "text": [
      "{'fast': 'In a Quick Manner', 'Om': 'Engineer', 'Marks': [1, 2, 4, 7], 'Solapur University': {'Sinhgad': 'Engineering College'}, 'Lovish': 'friend'}\n"
     ]
    }
   ],
   "source": [
    "print(A)"
   ]
  },
  {
   "cell_type": "markdown",
   "id": "a824c99b",
   "metadata": {},
   "source": [
    "##### Get"
   ]
  },
  {
   "cell_type": "code",
   "execution_count": 18,
   "id": "db670358",
   "metadata": {},
   "outputs": [
    {
     "name": "stdout",
     "output_type": "stream",
     "text": [
      "Engineer\n"
     ]
    }
   ],
   "source": [
    "print(A.get(\"Om\"))"
   ]
  },
  {
   "cell_type": "code",
   "execution_count": 19,
   "id": "62d505fb",
   "metadata": {},
   "outputs": [
    {
     "name": "stdout",
     "output_type": "stream",
     "text": [
      "Engineer\n"
     ]
    }
   ],
   "source": [
    "print(A[\"Om\"])"
   ]
  },
  {
   "cell_type": "code",
   "execution_count": 20,
   "id": "b8382f36",
   "metadata": {},
   "outputs": [
    {
     "name": "stdout",
     "output_type": "stream",
     "text": [
      "None\n"
     ]
    }
   ],
   "source": [
    "print(A.get(\"Om2\"))"
   ]
  },
  {
   "cell_type": "code",
   "execution_count": 21,
   "id": "dd002f07",
   "metadata": {},
   "outputs": [
    {
     "ename": "KeyError",
     "evalue": "'Om2'",
     "output_type": "error",
     "traceback": [
      "\u001b[1;31m---------------------------------------------------------------------------\u001b[0m",
      "\u001b[1;31mKeyError\u001b[0m                                  Traceback (most recent call last)",
      "\u001b[1;32m<ipython-input-21-4e3200429ebd>\u001b[0m in \u001b[0;36m<module>\u001b[1;34m\u001b[0m\n\u001b[1;32m----> 1\u001b[1;33m \u001b[0mprint\u001b[0m\u001b[1;33m(\u001b[0m\u001b[0mA\u001b[0m\u001b[1;33m[\u001b[0m\u001b[1;34m\"Om2\"\u001b[0m\u001b[1;33m]\u001b[0m\u001b[1;33m)\u001b[0m\u001b[1;33m\u001b[0m\u001b[1;33m\u001b[0m\u001b[0m\n\u001b[0m",
      "\u001b[1;31mKeyError\u001b[0m: 'Om2'"
     ]
    }
   ],
   "source": [
    "print(A[\"Om2\"])"
   ]
  },
  {
   "cell_type": "markdown",
   "id": "f0c68f51",
   "metadata": {},
   "source": [
    "###### That's why get method is correct"
   ]
  },
  {
   "cell_type": "markdown",
   "id": "e5c4dbfb",
   "metadata": {},
   "source": [
    "##### For Python Dictionary Methods,use Data Structures Python Documentation 3.8.5"
   ]
  },
  {
   "cell_type": "markdown",
   "id": "26f68c7d",
   "metadata": {},
   "source": [
    "### Sets"
   ]
  },
  {
   "cell_type": "code",
   "execution_count": null,
   "id": "d36a9a72",
   "metadata": {},
   "outputs": [],
   "source": [
    "A={1,3,4,5}"
   ]
  },
  {
   "cell_type": "code",
   "execution_count": null,
   "id": "3fd4343b",
   "metadata": {},
   "outputs": [],
   "source": [
    "print(A)"
   ]
  },
  {
   "cell_type": "markdown",
   "id": "3222ec58",
   "metadata": {},
   "source": [
    "###### if "
   ]
  },
  {
   "cell_type": "code",
   "execution_count": null,
   "id": "ff764e66",
   "metadata": {},
   "outputs": [],
   "source": [
    "B={1,2,4,5,1}"
   ]
  },
  {
   "cell_type": "code",
   "execution_count": null,
   "id": "d80aa7be",
   "metadata": {},
   "outputs": [],
   "source": [
    "print(B)"
   ]
  },
  {
   "cell_type": "markdown",
   "id": "5eb70ec8",
   "metadata": {},
   "source": [
    "###### Means Reapeted values not consider in Sets"
   ]
  },
  {
   "cell_type": "markdown",
   "id": "a24ac0fa",
   "metadata": {},
   "source": [
    "##### Set Methods"
   ]
  },
  {
   "cell_type": "code",
   "execution_count": null,
   "id": "446f013b",
   "metadata": {},
   "outputs": [],
   "source": [
    "D={}"
   ]
  },
  {
   "cell_type": "code",
   "execution_count": null,
   "id": "1ea3d91f",
   "metadata": {},
   "outputs": [],
   "source": [
    "print(D)"
   ]
  },
  {
   "cell_type": "code",
   "execution_count": null,
   "id": "f45c469a",
   "metadata": {},
   "outputs": [],
   "source": [
    "print(type(D))"
   ]
  },
  {
   "cell_type": "markdown",
   "id": "4c8ee38c",
   "metadata": {},
   "source": [
    "###### Here Is shown class is Dict."
   ]
  },
  {
   "cell_type": "code",
   "execution_count": null,
   "id": "9d23d287",
   "metadata": {},
   "outputs": [],
   "source": [
    "Z=set()"
   ]
  },
  {
   "cell_type": "code",
   "execution_count": null,
   "id": "924e68ff",
   "metadata": {},
   "outputs": [],
   "source": [
    "print(Z)"
   ]
  },
  {
   "cell_type": "code",
   "execution_count": null,
   "id": "982646c4",
   "metadata": {},
   "outputs": [],
   "source": [
    "print(type(Z))"
   ]
  },
  {
   "cell_type": "markdown",
   "id": "bbb21232",
   "metadata": {},
   "source": [
    "###### This is Right Method"
   ]
  },
  {
   "cell_type": "markdown",
   "id": "700cae86",
   "metadata": {},
   "source": [
    "###### Adding Values in an empty set"
   ]
  },
  {
   "cell_type": "code",
   "execution_count": null,
   "id": "c2f43969",
   "metadata": {},
   "outputs": [],
   "source": [
    "Z.add(4)"
   ]
  },
  {
   "cell_type": "code",
   "execution_count": null,
   "id": "88b09d6f",
   "metadata": {},
   "outputs": [],
   "source": [
    "print(Z)"
   ]
  },
  {
   "cell_type": "code",
   "execution_count": null,
   "id": "b4bf02e2",
   "metadata": {},
   "outputs": [],
   "source": [
    "Z.add(5)"
   ]
  },
  {
   "cell_type": "code",
   "execution_count": null,
   "id": "cdafce1d",
   "metadata": {},
   "outputs": [],
   "source": [
    "print(Z)"
   ]
  },
  {
   "cell_type": "code",
   "execution_count": null,
   "id": "4d7833d0",
   "metadata": {},
   "outputs": [],
   "source": [
    "Z.add(23,44,65,78)"
   ]
  },
  {
   "cell_type": "markdown",
   "id": "1f42f4e9",
   "metadata": {},
   "source": [
    "###### Means cannot add multiple values in set"
   ]
  },
  {
   "cell_type": "code",
   "execution_count": null,
   "id": "6a6ac043",
   "metadata": {},
   "outputs": [],
   "source": [
    "Z.add(3)"
   ]
  },
  {
   "cell_type": "code",
   "execution_count": null,
   "id": "5f95ef47",
   "metadata": {},
   "outputs": [],
   "source": [
    "print(Z)"
   ]
  },
  {
   "cell_type": "code",
   "execution_count": null,
   "id": "a359c24c",
   "metadata": {},
   "outputs": [],
   "source": [
    "Z.add(4) #Important"
   ]
  },
  {
   "cell_type": "code",
   "execution_count": null,
   "id": "6f886ea5",
   "metadata": {},
   "outputs": [],
   "source": [
    "print(Z)"
   ]
  },
  {
   "cell_type": "code",
   "execution_count": null,
   "id": "c1d116d4",
   "metadata": {},
   "outputs": [],
   "source": [
    "Z.add([44,67,78,99])"
   ]
  },
  {
   "cell_type": "markdown",
   "id": "168522d2",
   "metadata": {},
   "source": [
    "###### Means we couldn't add list."
   ]
  },
  {
   "cell_type": "code",
   "execution_count": null,
   "id": "687531da",
   "metadata": {},
   "outputs": [],
   "source": [
    "Z.add((12,33,45,43))"
   ]
  },
  {
   "cell_type": "code",
   "execution_count": null,
   "id": "3d9c3f00",
   "metadata": {},
   "outputs": [],
   "source": [
    "print(Z)"
   ]
  },
  {
   "cell_type": "markdown",
   "id": "7b529efa",
   "metadata": {},
   "source": [
    "###### Means We can add Tuple."
   ]
  },
  {
   "cell_type": "code",
   "execution_count": null,
   "id": "46b4c2ce",
   "metadata": {},
   "outputs": [],
   "source": [
    "N={3, 4, 5, (12, 33, 45, 43)}"
   ]
  },
  {
   "cell_type": "markdown",
   "id": "008f5407",
   "metadata": {},
   "source": [
    "##### 2.Len Function"
   ]
  },
  {
   "cell_type": "code",
   "execution_count": null,
   "id": "4f8e16f4",
   "metadata": {},
   "outputs": [],
   "source": [
    "print(len(N))"
   ]
  },
  {
   "cell_type": "markdown",
   "id": "16194921",
   "metadata": {},
   "source": [
    "###### Len functiion shows how many terms present in Set."
   ]
  },
  {
   "cell_type": "markdown",
   "id": "82fafdf8",
   "metadata": {},
   "source": [
    "##### 3.Remove Function"
   ]
  },
  {
   "cell_type": "code",
   "execution_count": null,
   "id": "1bd3139a",
   "metadata": {},
   "outputs": [],
   "source": [
    "N.remove(3)"
   ]
  },
  {
   "cell_type": "code",
   "execution_count": null,
   "id": "5a7594a4",
   "metadata": {},
   "outputs": [],
   "source": [
    "print(N)"
   ]
  },
  {
   "cell_type": "code",
   "execution_count": null,
   "id": "4b89b87b",
   "metadata": {},
   "outputs": [],
   "source": [
    "N.remove(45)"
   ]
  },
  {
   "cell_type": "markdown",
   "id": "0dc5c732",
   "metadata": {},
   "source": [
    "##### Remove function Removes the value from set."
   ]
  },
  {
   "cell_type": "markdown",
   "id": "bab99ec9",
   "metadata": {},
   "source": [
    "##### Pop"
   ]
  },
  {
   "cell_type": "code",
   "execution_count": null,
   "id": "8d502667",
   "metadata": {},
   "outputs": [],
   "source": [
    "N={3, 4, 5, (12, 33, 45, 43)}"
   ]
  },
  {
   "cell_type": "code",
   "execution_count": null,
   "id": "31512f82",
   "metadata": {},
   "outputs": [],
   "source": [
    "N.pop()"
   ]
  },
  {
   "cell_type": "code",
   "execution_count": null,
   "id": "ffd46b57",
   "metadata": {},
   "outputs": [],
   "source": [
    "print(N)"
   ]
  },
  {
   "cell_type": "code",
   "execution_count": null,
   "id": "17203a8f",
   "metadata": {},
   "outputs": [],
   "source": [
    "N.pop()"
   ]
  },
  {
   "cell_type": "code",
   "execution_count": null,
   "id": "46d1ff9f",
   "metadata": {},
   "outputs": [],
   "source": [
    "print(N)"
   ]
  },
  {
   "cell_type": "markdown",
   "id": "5e77731c",
   "metadata": {},
   "source": [
    "##### Clear"
   ]
  },
  {
   "cell_type": "code",
   "execution_count": null,
   "id": "1ea01d01",
   "metadata": {},
   "outputs": [],
   "source": [
    "N.clear()"
   ]
  },
  {
   "cell_type": "code",
   "execution_count": null,
   "id": "2925b272",
   "metadata": {},
   "outputs": [],
   "source": [
    "print(N)"
   ]
  },
  {
   "cell_type": "markdown",
   "id": "b56ecb8f",
   "metadata": {},
   "source": [
    "##### Union & Intersection"
   ]
  },
  {
   "cell_type": "code",
   "execution_count": null,
   "id": "4c0ac761",
   "metadata": {},
   "outputs": [],
   "source": [
    "Y={11,12,88,90,54,76,87}"
   ]
  },
  {
   "cell_type": "code",
   "execution_count": null,
   "id": "668721e4",
   "metadata": {},
   "outputs": [],
   "source": [
    "print(Y)"
   ]
  },
  {
   "cell_type": "code",
   "execution_count": null,
   "id": "651a1fb6",
   "metadata": {},
   "outputs": [],
   "source": [
    "X={11,12,55,67,43,23,45}"
   ]
  },
  {
   "cell_type": "code",
   "execution_count": null,
   "id": "0a761fed",
   "metadata": {},
   "outputs": [],
   "source": [
    "print(X)"
   ]
  },
  {
   "cell_type": "code",
   "execution_count": null,
   "id": "316baeaf",
   "metadata": {},
   "outputs": [],
   "source": [
    "Y.union(X)"
   ]
  },
  {
   "cell_type": "code",
   "execution_count": null,
   "id": "3c7db0bb",
   "metadata": {},
   "outputs": [],
   "source": [
    "Y.intersection(X)"
   ]
  },
  {
   "cell_type": "markdown",
   "id": "bad6f134",
   "metadata": {},
   "source": [
    "##### Practice Set.5"
   ]
  },
  {
   "cell_type": "markdown",
   "id": "8e592562",
   "metadata": {},
   "source": [
    "###### Q.1.Write a program to creat a dictionary of words with values as their english translation provide user with an option to look it up??"
   ]
  },
  {
   "cell_type": "code",
   "execution_count": null,
   "id": "2d6ff580",
   "metadata": {},
   "outputs": [],
   "source": [
    "A={\"Pankha\":\"Fan\",\n",
    "  \"Chaand\":\"Moon\",\n",
    "   \"Gulab\":\"Rose\",\n",
    "   \"Sher\":\"Tiger\"\n",
    "   }"
   ]
  },
  {
   "cell_type": "code",
   "execution_count": null,
   "id": "15547608",
   "metadata": {},
   "outputs": [],
   "source": [
    "print(\"Options are\",A.keys())"
   ]
  },
  {
   "cell_type": "code",
   "execution_count": null,
   "id": "ad24e387",
   "metadata": {},
   "outputs": [],
   "source": [
    "a=input(\"Enter the Hindi word\\n\")"
   ]
  },
  {
   "cell_type": "code",
   "execution_count": null,
   "id": "c1a76265",
   "metadata": {},
   "outputs": [],
   "source": [
    "print(\"The meaning of your word is:\",A[a])"
   ]
  },
  {
   "cell_type": "code",
   "execution_count": null,
   "id": "b1ee9888",
   "metadata": {},
   "outputs": [],
   "source": [
    "a=input(\"Enter the Hindi word\\n\")"
   ]
  },
  {
   "cell_type": "code",
   "execution_count": null,
   "id": "5eeb2553",
   "metadata": {},
   "outputs": [],
   "source": [
    "print(\"The meaning of your word is:\",A[a])"
   ]
  },
  {
   "cell_type": "code",
   "execution_count": null,
   "id": "5683cdec",
   "metadata": {},
   "outputs": [],
   "source": [
    "a=input(\"Enter the Hindi word\\n\")"
   ]
  },
  {
   "cell_type": "code",
   "execution_count": null,
   "id": "1a8bb88a",
   "metadata": {},
   "outputs": [],
   "source": [
    "print(\"The meaning of your word is:\",A[a])"
   ]
  },
  {
   "cell_type": "markdown",
   "id": "c757d8b8",
   "metadata": {},
   "source": [
    "###### Q.2 Write a program to input eight numbers from the user and display all the unique numbers??"
   ]
  },
  {
   "cell_type": "code",
   "execution_count": null,
   "id": "26d6c04f",
   "metadata": {},
   "outputs": [],
   "source": [
    "num1=int(input(\"Enter Number 1\\n\"))"
   ]
  },
  {
   "cell_type": "code",
   "execution_count": null,
   "id": "84102344",
   "metadata": {},
   "outputs": [],
   "source": [
    "num2=int(input(\"Enter Number 2\\n\"))"
   ]
  },
  {
   "cell_type": "code",
   "execution_count": null,
   "id": "4036fa84",
   "metadata": {},
   "outputs": [],
   "source": [
    "num3=int(input(\"Enter Number 3\\n\"))"
   ]
  },
  {
   "cell_type": "code",
   "execution_count": null,
   "id": "3fe44449",
   "metadata": {},
   "outputs": [],
   "source": [
    "num4=int(input(\"Enter Number 4\\n\"))"
   ]
  },
  {
   "cell_type": "code",
   "execution_count": null,
   "id": "d19140fb",
   "metadata": {},
   "outputs": [],
   "source": [
    "num5=int(input(\"Enter Number 5\\n\"))"
   ]
  },
  {
   "cell_type": "code",
   "execution_count": null,
   "id": "d542abbc",
   "metadata": {},
   "outputs": [],
   "source": [
    "num6=int(input(\"Enter Number 6\\n\"))"
   ]
  },
  {
   "cell_type": "code",
   "execution_count": null,
   "id": "5ee37b5b",
   "metadata": {},
   "outputs": [],
   "source": [
    "num7=int(input(\"Enter Number 7\\n\"))"
   ]
  },
  {
   "cell_type": "code",
   "execution_count": null,
   "id": "f6edd8ec",
   "metadata": {},
   "outputs": [],
   "source": [
    "num8=int(input(\"Enter Number 8\\n\"))"
   ]
  },
  {
   "cell_type": "code",
   "execution_count": null,
   "id": "24413c04",
   "metadata": {},
   "outputs": [],
   "source": [
    "M={num1,num2,num3,num4,num5,num6,num7,num8}"
   ]
  },
  {
   "cell_type": "code",
   "execution_count": null,
   "id": "c09c74f8",
   "metadata": {},
   "outputs": [],
   "source": [
    "print(M)"
   ]
  },
  {
   "cell_type": "markdown",
   "id": "92fa56d3",
   "metadata": {},
   "source": [
    "###### Q.3 Can we have a set with 18(int) and \"18\"(str) as a values in it??"
   ]
  },
  {
   "cell_type": "code",
   "execution_count": null,
   "id": "09efb11f",
   "metadata": {},
   "outputs": [],
   "source": [
    "Set={18,\"18\"}"
   ]
  },
  {
   "cell_type": "code",
   "execution_count": null,
   "id": "9c5834fa",
   "metadata": {},
   "outputs": [],
   "source": [
    "print(Set)"
   ]
  },
  {
   "cell_type": "markdown",
   "id": "2a3532bc",
   "metadata": {},
   "source": [
    "###### Ans:Both will be print"
   ]
  },
  {
   "cell_type": "markdown",
   "id": "1d95346f",
   "metadata": {},
   "source": [
    "###### Q.4 What will be the length of following Set:\n",
    "    S=Set()\n",
    "    S.add(20)\n",
    "    S.add(20.0)\n",
    "    S.add(\"20\")\n",
    "    "
   ]
  },
  {
   "cell_type": "code",
   "execution_count": null,
   "id": "fdca2515",
   "metadata": {},
   "outputs": [],
   "source": [
    "s={20,20.0,\"20\"}"
   ]
  },
  {
   "cell_type": "code",
   "execution_count": null,
   "id": "94814969",
   "metadata": {},
   "outputs": [],
   "source": [
    "print(len(s))"
   ]
  },
  {
   "cell_type": "code",
   "execution_count": null,
   "id": "92e54aab",
   "metadata": {},
   "outputs": [],
   "source": [
    "print(s)"
   ]
  },
  {
   "cell_type": "markdown",
   "id": "6c168f1b",
   "metadata": {},
   "source": [
    "###### Ans:Ans is 2,here python consider 20,20.0 is a single no."
   ]
  },
  {
   "cell_type": "markdown",
   "id": "5e3a917b",
   "metadata": {},
   "source": [
    "###### Q.5 D={}\n",
    "What is the type of D??"
   ]
  },
  {
   "cell_type": "code",
   "execution_count": null,
   "id": "7c8fbc71",
   "metadata": {},
   "outputs": [],
   "source": [
    "D={}"
   ]
  },
  {
   "cell_type": "code",
   "execution_count": null,
   "id": "4ec49b2a",
   "metadata": {},
   "outputs": [],
   "source": [
    "print(type(D))"
   ]
  },
  {
   "cell_type": "markdown",
   "id": "33f2ad2a",
   "metadata": {},
   "source": [
    "###### Ans:Class is Dictionary."
   ]
  },
  {
   "cell_type": "markdown",
   "id": "1450e416",
   "metadata": {},
   "source": [
    "###### Q.6 Create an empty dictionary.Allow 4 friends to enter their fav. language as values and use keys as their names.Assume that the names are unique??"
   ]
  },
  {
   "cell_type": "code",
   "execution_count": 28,
   "id": "945fed5a",
   "metadata": {},
   "outputs": [],
   "source": [
    "favlang={}"
   ]
  },
  {
   "cell_type": "code",
   "execution_count": 29,
   "id": "ca87a520",
   "metadata": {},
   "outputs": [
    {
     "name": "stdout",
     "output_type": "stream",
     "text": [
      "enter your fav.language Onkar\n",
      "Python\n"
     ]
    }
   ],
   "source": [
    "a=input(\"enter your fav.language Onkar\\n\")"
   ]
  },
  {
   "cell_type": "code",
   "execution_count": 30,
   "id": "6f8b92b9",
   "metadata": {},
   "outputs": [
    {
     "name": "stdout",
     "output_type": "stream",
     "text": [
      "enter your fav.language Rahul\n",
      "C\n"
     ]
    }
   ],
   "source": [
    "b=input(\"enter your fav.language Rahul\\n\")"
   ]
  },
  {
   "cell_type": "code",
   "execution_count": 31,
   "id": "04f2d486",
   "metadata": {},
   "outputs": [
    {
     "name": "stdout",
     "output_type": "stream",
     "text": [
      "enter your fav.language Avi\n",
      "java\n"
     ]
    }
   ],
   "source": [
    "c=input(\"enter your fav.language Avi\\n\")"
   ]
  },
  {
   "cell_type": "code",
   "execution_count": 32,
   "id": "7afa5620",
   "metadata": {},
   "outputs": [
    {
     "name": "stdout",
     "output_type": "stream",
     "text": [
      "enter your fav.language Prem\n",
      "C++\n"
     ]
    }
   ],
   "source": [
    "d=input(\"enter your fav.language Prem\\n\")"
   ]
  },
  {
   "cell_type": "code",
   "execution_count": 33,
   "id": "a5dfeeda",
   "metadata": {},
   "outputs": [],
   "source": [
    "favlang[\"Onkar\"]=a"
   ]
  },
  {
   "cell_type": "code",
   "execution_count": 34,
   "id": "ad77b3fa",
   "metadata": {},
   "outputs": [],
   "source": [
    "favlang[\"Rahul\"]=b"
   ]
  },
  {
   "cell_type": "code",
   "execution_count": 35,
   "id": "7277a737",
   "metadata": {},
   "outputs": [],
   "source": [
    "favlang[\"Avi\"]=c"
   ]
  },
  {
   "cell_type": "code",
   "execution_count": 36,
   "id": "938304a4",
   "metadata": {},
   "outputs": [],
   "source": [
    "favlang[\"Prem\"]=d"
   ]
  },
  {
   "cell_type": "code",
   "execution_count": 37,
   "id": "3a13295a",
   "metadata": {},
   "outputs": [
    {
     "name": "stdout",
     "output_type": "stream",
     "text": [
      "{'Onkar': 'Python', 'Rahul': 'C', 'Avi': 'java', 'Prem': 'C++'}\n"
     ]
    }
   ],
   "source": [
    "print(favlang)"
   ]
  },
  {
   "cell_type": "markdown",
   "id": "edfacb01",
   "metadata": {},
   "source": [
    "###### Q.7 If names of 2 friends are same ; what will to the program in problem 6??"
   ]
  },
  {
   "cell_type": "code",
   "execution_count": 38,
   "id": "66ee2d60",
   "metadata": {},
   "outputs": [],
   "source": [
    "favlang={}"
   ]
  },
  {
   "cell_type": "code",
   "execution_count": 39,
   "id": "3080972e",
   "metadata": {},
   "outputs": [
    {
     "name": "stdout",
     "output_type": "stream",
     "text": [
      "enter your fav.language Onkar\n",
      "Python\n"
     ]
    }
   ],
   "source": [
    "a=input(\"enter your fav.language Onkar\\n\")"
   ]
  },
  {
   "cell_type": "code",
   "execution_count": 40,
   "id": "43deae9e",
   "metadata": {},
   "outputs": [
    {
     "name": "stdout",
     "output_type": "stream",
     "text": [
      "enter your fav.language Rahul\n",
      "C\n"
     ]
    }
   ],
   "source": [
    "b=input(\"enter your fav.language Rahul\\n\")"
   ]
  },
  {
   "cell_type": "code",
   "execution_count": 41,
   "id": "efb4f8d0",
   "metadata": {},
   "outputs": [
    {
     "name": "stdout",
     "output_type": "stream",
     "text": [
      "enter your fav.language Avi\n",
      "Java\n"
     ]
    }
   ],
   "source": [
    "c=input(\"enter your fav.language Avi\\n\")"
   ]
  },
  {
   "cell_type": "code",
   "execution_count": 42,
   "id": "9a82f36e",
   "metadata": {},
   "outputs": [
    {
     "name": "stdout",
     "output_type": "stream",
     "text": [
      "enter your fav.language Avi\n",
      "SQL\n"
     ]
    }
   ],
   "source": [
    "d=input(\"enter your fav.language Avi\\n\")"
   ]
  },
  {
   "cell_type": "code",
   "execution_count": 43,
   "id": "e88d17c4",
   "metadata": {},
   "outputs": [],
   "source": [
    "favlang[\"Onkar\"]=a"
   ]
  },
  {
   "cell_type": "code",
   "execution_count": 44,
   "id": "98cb45d1",
   "metadata": {},
   "outputs": [],
   "source": [
    "favlang[\"Rahul\"]=b"
   ]
  },
  {
   "cell_type": "code",
   "execution_count": 45,
   "id": "19bfc8f8",
   "metadata": {},
   "outputs": [],
   "source": [
    "favlang[\"Avi\"]=c"
   ]
  },
  {
   "cell_type": "code",
   "execution_count": 46,
   "id": "e8a6b6ab",
   "metadata": {},
   "outputs": [],
   "source": [
    "favlang[\"Avi\"]=d"
   ]
  },
  {
   "cell_type": "code",
   "execution_count": 47,
   "id": "16fe3ad6",
   "metadata": {},
   "outputs": [
    {
     "name": "stdout",
     "output_type": "stream",
     "text": [
      "{'Onkar': 'Python', 'Rahul': 'C', 'Avi': 'SQL'}\n"
     ]
    }
   ],
   "source": [
    "print(favlang)"
   ]
  },
  {
   "cell_type": "markdown",
   "id": "062b07fc",
   "metadata": {},
   "source": [
    "###### Q.8 If Language of two friends are same;what will happen to the program in problem 6??"
   ]
  },
  {
   "cell_type": "code",
   "execution_count": 48,
   "id": "d3ed2112",
   "metadata": {},
   "outputs": [],
   "source": [
    "favlang={}"
   ]
  },
  {
   "cell_type": "code",
   "execution_count": 49,
   "id": "ef3cc778",
   "metadata": {},
   "outputs": [
    {
     "name": "stdout",
     "output_type": "stream",
     "text": [
      "enter your fav.language Onkar\n",
      "Python\n"
     ]
    }
   ],
   "source": [
    "a=input(\"enter your fav.language Onkar\\n\")"
   ]
  },
  {
   "cell_type": "code",
   "execution_count": 50,
   "id": "4e999158",
   "metadata": {},
   "outputs": [
    {
     "name": "stdout",
     "output_type": "stream",
     "text": [
      "enter your fav.language Rahul\n",
      "Python\n"
     ]
    }
   ],
   "source": [
    "b=input(\"enter your fav.language Rahul\\n\")"
   ]
  },
  {
   "cell_type": "code",
   "execution_count": 51,
   "id": "53301703",
   "metadata": {},
   "outputs": [
    {
     "name": "stdout",
     "output_type": "stream",
     "text": [
      "enter your fav.language Avi\n",
      "Java\n"
     ]
    }
   ],
   "source": [
    "c=input(\"enter your fav.language Avi\\n\")"
   ]
  },
  {
   "cell_type": "code",
   "execution_count": 52,
   "id": "f1bd789a",
   "metadata": {},
   "outputs": [
    {
     "name": "stdout",
     "output_type": "stream",
     "text": [
      "enter your fav.language Digvijaya\n",
      "SQL\n"
     ]
    }
   ],
   "source": [
    "d=input(\"enter your fav.language Digvijaya\\n\")"
   ]
  },
  {
   "cell_type": "code",
   "execution_count": 54,
   "id": "99864b94",
   "metadata": {},
   "outputs": [],
   "source": [
    "favlang[\"Onkar\"]=a"
   ]
  },
  {
   "cell_type": "code",
   "execution_count": 55,
   "id": "d82f1b45",
   "metadata": {},
   "outputs": [],
   "source": [
    "favlang[\"Rahul\"]=b"
   ]
  },
  {
   "cell_type": "code",
   "execution_count": 61,
   "id": "9c43ac68",
   "metadata": {},
   "outputs": [],
   "source": [
    "favlang[\"Avi\"]=c"
   ]
  },
  {
   "cell_type": "code",
   "execution_count": 62,
   "id": "d10e4173",
   "metadata": {},
   "outputs": [],
   "source": [
    "favlang[\"Digvijaya\"]=d"
   ]
  },
  {
   "cell_type": "code",
   "execution_count": 63,
   "id": "ff2b7391",
   "metadata": {},
   "outputs": [
    {
     "name": "stdout",
     "output_type": "stream",
     "text": [
      "{'Onkar': 'Python', 'Rahul': 'Python', 'Avi': 'Java', 'Digvijaya': 'SQL'}\n"
     ]
    }
   ],
   "source": [
    "print(favlang)"
   ]
  },
  {
   "cell_type": "markdown",
   "id": "fb1e814c",
   "metadata": {},
   "source": [
    "###### Q.Can you change the values inside a list which is combined in set L??"
   ]
  },
  {
   "cell_type": "code",
   "execution_count": 64,
   "id": "a93006f6",
   "metadata": {},
   "outputs": [
    {
     "ename": "TypeError",
     "evalue": "unhashable type: 'list'",
     "output_type": "error",
     "traceback": [
      "\u001b[1;31m---------------------------------------------------------------------------\u001b[0m",
      "\u001b[1;31mTypeError\u001b[0m                                 Traceback (most recent call last)",
      "\u001b[1;32m<ipython-input-64-e4dc4e0f1b1f>\u001b[0m in \u001b[0;36m<module>\u001b[1;34m\u001b[0m\n\u001b[1;32m----> 1\u001b[1;33m \u001b[0mL\u001b[0m\u001b[1;33m=\u001b[0m\u001b[1;33m{\u001b[0m\u001b[1;36m8\u001b[0m\u001b[1;33m,\u001b[0m\u001b[1;36m7\u001b[0m\u001b[1;33m,\u001b[0m\u001b[1;36m12\u001b[0m\u001b[1;33m,\u001b[0m\u001b[1;34m\"OM\"\u001b[0m\u001b[1;33m,\u001b[0m\u001b[1;33m[\u001b[0m\u001b[1;36m1\u001b[0m\u001b[1;33m,\u001b[0m\u001b[1;36m2\u001b[0m\u001b[1;33m]\u001b[0m\u001b[1;33m}\u001b[0m\u001b[1;33m\u001b[0m\u001b[1;33m\u001b[0m\u001b[0m\n\u001b[0m",
      "\u001b[1;31mTypeError\u001b[0m: unhashable type: 'list'"
     ]
    }
   ],
   "source": [
    "L={8,7,12,\"OM\",[1,2]}"
   ]
  },
  {
   "cell_type": "markdown",
   "id": "0a7e2816",
   "metadata": {},
   "source": [
    "###### Ans:Set Couldn't contain list"
   ]
  },
  {
   "cell_type": "code",
   "execution_count": null,
   "id": "0ad55429",
   "metadata": {},
   "outputs": [],
   "source": []
  }
 ],
 "metadata": {
  "kernelspec": {
   "display_name": "Python 3",
   "language": "python",
   "name": "python3"
  },
  "language_info": {
   "codemirror_mode": {
    "name": "ipython",
    "version": 3
   },
   "file_extension": ".py",
   "mimetype": "text/x-python",
   "name": "python",
   "nbconvert_exporter": "python",
   "pygments_lexer": "ipython3",
   "version": "3.8.8"
  }
 },
 "nbformat": 4,
 "nbformat_minor": 5
}
