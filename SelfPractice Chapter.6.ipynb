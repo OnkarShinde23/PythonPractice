{
 "cells": [
  {
   "cell_type": "markdown",
   "id": "63c259f1",
   "metadata": {},
   "source": [
    "# if elif and else"
   ]
  },
  {
   "cell_type": "markdown",
   "id": "41932046",
   "metadata": {},
   "source": [
    "###### Syntax"
   ]
  },
  {
   "cell_type": "raw",
   "id": "92ffbd30",
   "metadata": {},
   "source": [
    "if(Condition):\n",
    "   print(\"yes\")\n",
    "elif(condition):\n",
    "   print(\"no\")\n",
    "else:\n",
    "   print(May be/yesorno)"
   ]
  },
  {
   "cell_type": "markdown",
   "id": "891f43dc",
   "metadata": {},
   "source": [
    "### Examples"
   ]
  },
  {
   "cell_type": "markdown",
   "id": "0b0c8aaf",
   "metadata": {},
   "source": [
    "###### Example.1"
   ]
  },
  {
   "cell_type": "code",
   "execution_count": 20,
   "id": "dd1e2422",
   "metadata": {},
   "outputs": [],
   "source": [
    "i=20"
   ]
  },
  {
   "cell_type": "code",
   "execution_count": 25,
   "id": "9b64569a",
   "metadata": {},
   "outputs": [
    {
     "name": "stdout",
     "output_type": "stream",
     "text": [
      "i is greater than 15\n"
     ]
    }
   ],
   "source": [
    "if(i>20):\n",
    "    print(\"i is smaller than 15\")\n",
    "else:\n",
    "    print(\"i is greater than 15\")"
   ]
  },
  {
   "cell_type": "markdown",
   "id": "2f6295c4",
   "metadata": {},
   "source": [
    "###### Example.2"
   ]
  },
  {
   "cell_type": "code",
   "execution_count": 26,
   "id": "583f93b6",
   "metadata": {},
   "outputs": [],
   "source": [
    "a=45"
   ]
  },
  {
   "cell_type": "code",
   "execution_count": 27,
   "id": "493bb60a",
   "metadata": {},
   "outputs": [
    {
     "name": "stdout",
     "output_type": "stream",
     "text": [
      "The value is greater than 3\n"
     ]
    }
   ],
   "source": [
    "if(a>3):\n",
    "    print(\"The value is greater than 3\")\n",
    "elif(a>7):\n",
    "    print(\"The value is greater than 7\")\n",
    "else:\n",
    "    print(\"The value is greater than 3 or 7\")"
   ]
  },
  {
   "cell_type": "markdown",
   "id": "253fc2f7",
   "metadata": {},
   "source": [
    "###### Example.3"
   ]
  },
  {
   "cell_type": "code",
   "execution_count": 28,
   "id": "8e57732c",
   "metadata": {},
   "outputs": [],
   "source": [
    "a=60"
   ]
  },
  {
   "cell_type": "code",
   "execution_count": 30,
   "id": "338c6dde",
   "metadata": {},
   "outputs": [
    {
     "name": "stdout",
     "output_type": "stream",
     "text": [
      "No\n"
     ]
    }
   ],
   "source": [
    "if(a>80):\n",
    "    print(\"yes\")\n",
    "elif(a>40):\n",
    "    print(\"No\")\n",
    "else:\n",
    "    print(\"yes or no\")"
   ]
  },
  {
   "cell_type": "markdown",
   "id": "404afd7c",
   "metadata": {},
   "source": [
    "###### Example.4"
   ]
  },
  {
   "cell_type": "code",
   "execution_count": 31,
   "id": "797907c2",
   "metadata": {},
   "outputs": [],
   "source": [
    "a=4"
   ]
  },
  {
   "cell_type": "code",
   "execution_count": 38,
   "id": "f442abd9",
   "metadata": {},
   "outputs": [
    {
     "name": "stdout",
     "output_type": "stream",
     "text": [
      "both are incorrect\n"
     ]
    }
   ],
   "source": [
    "if(a==7):\n",
    "    print(\"yes\")\n",
    "elif(a>56):\n",
    "    print(\"no and yes\")\n",
    "else:\n",
    "    print(\"both are incorrect\")"
   ]
  },
  {
   "cell_type": "markdown",
   "id": "7d7ee99b",
   "metadata": {},
   "source": [
    "###### Example.5"
   ]
  },
  {
   "cell_type": "code",
   "execution_count": 39,
   "id": "5ae6ff6e",
   "metadata": {},
   "outputs": [],
   "source": [
    "a=22"
   ]
  },
  {
   "cell_type": "code",
   "execution_count": 41,
   "id": "97533efc",
   "metadata": {},
   "outputs": [
    {
     "name": "stdout",
     "output_type": "stream",
     "text": [
      "Greater\n"
     ]
    }
   ],
   "source": [
    "if(a<9):\n",
    "    print(\"Lesser\")\n",
    "elif(a>9):\n",
    "    print(\"Greater\")"
   ]
  },
  {
   "cell_type": "markdown",
   "id": "8e2ffb42",
   "metadata": {},
   "source": [
    "###### Example.6"
   ]
  },
  {
   "cell_type": "code",
   "execution_count": 42,
   "id": "6ef63509",
   "metadata": {},
   "outputs": [],
   "source": [
    "a=45"
   ]
  },
  {
   "cell_type": "code",
   "execution_count": 43,
   "id": "a22e0aad",
   "metadata": {},
   "outputs": [
    {
     "name": "stdout",
     "output_type": "stream",
     "text": [
      "No\n"
     ]
    }
   ],
   "source": [
    "if(a>88):\n",
    "    print(\"yes\")\n",
    "else:\n",
    "    print(\"No\")"
   ]
  },
  {
   "cell_type": "markdown",
   "id": "dbe19e29",
   "metadata": {},
   "source": [
    "###### Example.7 (Logical functions)"
   ]
  },
  {
   "cell_type": "code",
   "execution_count": 44,
   "id": "732af5c0",
   "metadata": {},
   "outputs": [],
   "source": [
    "age=45"
   ]
  },
  {
   "cell_type": "code",
   "execution_count": 46,
   "id": "dbfb7a44",
   "metadata": {},
   "outputs": [
    {
     "name": "stdout",
     "output_type": "stream",
     "text": [
      "yes\n"
     ]
    }
   ],
   "source": [
    "if(age>34 and age<56):\n",
    "    print(\"yes\")\n",
    "else:\n",
    "    print(\"No\")"
   ]
  },
  {
   "cell_type": "markdown",
   "id": "42664e8c",
   "metadata": {},
   "source": [
    "###### Example.8"
   ]
  },
  {
   "cell_type": "code",
   "execution_count": 48,
   "id": "d91dda3c",
   "metadata": {},
   "outputs": [],
   "source": [
    "age=70"
   ]
  },
  {
   "cell_type": "code",
   "execution_count": 49,
   "id": "798f902e",
   "metadata": {},
   "outputs": [
    {
     "name": "stdout",
     "output_type": "stream",
     "text": [
      "No\n"
     ]
    }
   ],
   "source": [
    "if(age>34 and age<56):\n",
    "    print(\"yes\")\n",
    "else:\n",
    "    print(\"No\")"
   ]
  },
  {
   "cell_type": "markdown",
   "id": "837f1ac2",
   "metadata": {},
   "source": [
    "###### Example.9"
   ]
  },
  {
   "cell_type": "code",
   "execution_count": 50,
   "id": "dadc2c35",
   "metadata": {},
   "outputs": [],
   "source": [
    "age=90"
   ]
  },
  {
   "cell_type": "code",
   "execution_count": 51,
   "id": "e4e5c810",
   "metadata": {},
   "outputs": [
    {
     "name": "stdout",
     "output_type": "stream",
     "text": [
      "yes\n"
     ]
    }
   ],
   "source": [
    "if(age>34 or age<56):\n",
    "    print(\"yes\")\n",
    "else:\n",
    "    print(\"No\")"
   ]
  },
  {
   "cell_type": "markdown",
   "id": "ab33434b",
   "metadata": {},
   "source": [
    "###### in and is function"
   ]
  },
  {
   "cell_type": "markdown",
   "id": "324d5f28",
   "metadata": {},
   "source": [
    "is function"
   ]
  },
  {
   "cell_type": "code",
   "execution_count": 5,
   "id": "c264e586",
   "metadata": {},
   "outputs": [],
   "source": [
    "a= None"
   ]
  },
  {
   "cell_type": "code",
   "execution_count": 6,
   "id": "b1994492",
   "metadata": {},
   "outputs": [
    {
     "name": "stdout",
     "output_type": "stream",
     "text": [
      "yes\n"
     ]
    }
   ],
   "source": [
    "if(a is None):\n",
    "    print(\"yes\")\n",
    "else:\n",
    "    print(\"No\")"
   ]
  },
  {
   "cell_type": "markdown",
   "id": "c223df3b",
   "metadata": {},
   "source": [
    "in function"
   ]
  },
  {
   "cell_type": "code",
   "execution_count": 7,
   "id": "2dfe2d2f",
   "metadata": {},
   "outputs": [],
   "source": [
    "a=[45,56,34]"
   ]
  },
  {
   "cell_type": "code",
   "execution_count": 8,
   "id": "c3bf6b07",
   "metadata": {},
   "outputs": [
    {
     "name": "stdout",
     "output_type": "stream",
     "text": [
      "True\n"
     ]
    }
   ],
   "source": [
    "print(45 in a)"
   ]
  },
  {
   "cell_type": "code",
   "execution_count": 9,
   "id": "15830673",
   "metadata": {},
   "outputs": [
    {
     "name": "stdout",
     "output_type": "stream",
     "text": [
      "False\n"
     ]
    }
   ],
   "source": [
    "print(20 in a)"
   ]
  },
  {
   "cell_type": "code",
   "execution_count": null,
   "id": "52598624",
   "metadata": {},
   "outputs": [],
   "source": []
  }
 ],
 "metadata": {
  "kernelspec": {
   "display_name": "Python 3",
   "language": "python",
   "name": "python3"
  },
  "language_info": {
   "codemirror_mode": {
    "name": "ipython",
    "version": 3
   },
   "file_extension": ".py",
   "mimetype": "text/x-python",
   "name": "python",
   "nbconvert_exporter": "python",
   "pygments_lexer": "ipython3",
   "version": "3.8.8"
  }
 },
 "nbformat": 4,
 "nbformat_minor": 5
}
