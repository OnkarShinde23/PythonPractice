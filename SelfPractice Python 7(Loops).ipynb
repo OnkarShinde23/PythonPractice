{
 "cells": [
  {
   "cell_type": "markdown",
   "id": "1aef37e2",
   "metadata": {},
   "source": [
    "# Loops"
   ]
  },
  {
   "cell_type": "markdown",
   "id": "068e6f27",
   "metadata": {},
   "source": [
    "### While Loop"
   ]
  },
  {
   "cell_type": "code",
   "execution_count": 1,
   "id": "9e3ce4d8",
   "metadata": {},
   "outputs": [
    {
     "name": "stdout",
     "output_type": "stream",
     "text": [
      "yes\n",
      "yes\n",
      "yes\n",
      "yes\n",
      "yes\n",
      "yes\n",
      "yes\n",
      "yes\n",
      "yes\n",
      "yes\n"
     ]
    }
   ],
   "source": [
    "i=0\n",
    "while i<10:\n",
    "    print(\"yes\")\n",
    "    i=i+1"
   ]
  },
  {
   "cell_type": "code",
   "execution_count": 7,
   "id": "afc1f51a",
   "metadata": {},
   "outputs": [
    {
     "name": "stdout",
     "output_type": "stream",
     "text": [
      "yes1\n",
      "yes2\n",
      "yes3\n",
      "yes4\n",
      "yes5\n",
      "yes6\n",
      "yes7\n",
      "yes8\n",
      "yes9\n",
      "yes10\n"
     ]
    }
   ],
   "source": [
    "i=0\n",
    "while i<10:\n",
    "    i=i+1\n",
    "    print(\"yes\"+str(i))"
   ]
  },
  {
   "cell_type": "markdown",
   "id": "60cb51d3",
   "metadata": {},
   "source": [
    "###### This is wrong method"
   ]
  },
  {
   "cell_type": "code",
   "execution_count": 6,
   "id": "d482b5ef",
   "metadata": {},
   "outputs": [
    {
     "name": "stdout",
     "output_type": "stream",
     "text": [
      "yes0\n",
      "yes1\n",
      "yes2\n",
      "yes3\n",
      "yes4\n",
      "yes5\n",
      "yes6\n",
      "yes7\n",
      "yes8\n",
      "yes9\n"
     ]
    }
   ],
   "source": [
    "i=0\n",
    "while i<10:\n",
    "    print(\"yes\"+str(i))\n",
    "    i=i+1"
   ]
  },
  {
   "cell_type": "markdown",
   "id": "d30f6f8f",
   "metadata": {},
   "source": [
    "#### This right method"
   ]
  },
  {
   "cell_type": "code",
   "execution_count": 15,
   "id": "074b5233",
   "metadata": {},
   "outputs": [
    {
     "name": "stdout",
     "output_type": "stream",
     "text": [
      "4\n",
      "5\n",
      "6\n",
      "7\n",
      "8\n",
      "9\n",
      "10\n",
      "11\n",
      "12\n",
      "13\n",
      "14\n",
      "15\n",
      "16\n",
      "17\n",
      "18\n",
      "19\n",
      "20\n",
      "21\n",
      "22\n",
      "23\n",
      "24\n",
      "25\n",
      "26\n",
      "27\n",
      "28\n",
      "29\n",
      "30\n",
      "31\n",
      "32\n",
      "33\n",
      "34\n",
      "35\n",
      "36\n",
      "37\n",
      "38\n",
      "39\n",
      "40\n",
      "41\n",
      "42\n",
      "43\n",
      "44\n",
      "45\n",
      "46\n",
      "47\n",
      "48\n",
      "49\n"
     ]
    }
   ],
   "source": [
    "k=4\n",
    "while k<50:\n",
    "    print(str(k))\n",
    "    k=k+1"
   ]
  },
  {
   "cell_type": "code",
   "execution_count": 16,
   "id": "37a1e461",
   "metadata": {},
   "outputs": [
    {
     "data": {
      "text/plain": [
       "int"
      ]
     },
     "execution_count": 16,
     "metadata": {},
     "output_type": "execute_result"
    }
   ],
   "source": [
    "type(k)"
   ]
  },
  {
   "cell_type": "code",
   "execution_count": 17,
   "id": "18e2e26d",
   "metadata": {},
   "outputs": [
    {
     "name": "stdout",
     "output_type": "stream",
     "text": [
      "4\n",
      "5\n",
      "6\n",
      "7\n",
      "8\n",
      "9\n",
      "10\n",
      "11\n",
      "12\n",
      "13\n",
      "14\n",
      "15\n",
      "16\n",
      "17\n",
      "18\n",
      "19\n",
      "20\n",
      "21\n",
      "22\n",
      "23\n",
      "24\n",
      "25\n",
      "26\n",
      "27\n",
      "28\n",
      "29\n",
      "30\n",
      "31\n",
      "32\n",
      "33\n",
      "34\n",
      "35\n",
      "36\n",
      "37\n",
      "38\n",
      "39\n",
      "40\n",
      "41\n",
      "42\n",
      "43\n",
      "44\n",
      "45\n",
      "46\n",
      "47\n",
      "48\n",
      "49\n"
     ]
    }
   ],
   "source": [
    "k=4\n",
    "while k<50:\n",
    "    print((k))\n",
    "    k=k+1"
   ]
  },
  {
   "cell_type": "code",
   "execution_count": 18,
   "id": "cae31add",
   "metadata": {},
   "outputs": [
    {
     "data": {
      "text/plain": [
       "int"
      ]
     },
     "execution_count": 18,
     "metadata": {},
     "output_type": "execute_result"
    }
   ],
   "source": [
    "type(k)"
   ]
  },
  {
   "cell_type": "markdown",
   "id": "f16d206c",
   "metadata": {},
   "source": [
    "###### Q.Write a program to print 1 to 50 using a while loop??"
   ]
  },
  {
   "cell_type": "code",
   "execution_count": 20,
   "id": "9efeae6c",
   "metadata": {},
   "outputs": [
    {
     "name": "stdout",
     "output_type": "stream",
     "text": [
      "1\n",
      "2\n",
      "3\n",
      "4\n",
      "5\n",
      "6\n",
      "7\n",
      "8\n",
      "9\n",
      "10\n",
      "11\n",
      "12\n",
      "13\n",
      "14\n",
      "15\n",
      "16\n",
      "17\n",
      "18\n",
      "19\n",
      "20\n",
      "21\n",
      "22\n",
      "23\n",
      "24\n",
      "25\n",
      "26\n",
      "27\n",
      "28\n",
      "29\n",
      "30\n",
      "31\n",
      "32\n",
      "33\n",
      "34\n",
      "35\n",
      "36\n",
      "37\n",
      "38\n",
      "39\n",
      "40\n",
      "41\n",
      "42\n",
      "43\n",
      "44\n",
      "45\n",
      "46\n",
      "47\n",
      "48\n",
      "49\n",
      "50\n"
     ]
    }
   ],
   "source": [
    "A=1\n",
    "while A<=50:\n",
    "    print(A)\n",
    "    A=(A+1)"
   ]
  },
  {
   "cell_type": "code",
   "execution_count": 21,
   "id": "809c1792",
   "metadata": {},
   "outputs": [
    {
     "name": "stdout",
     "output_type": "stream",
     "text": [
      "Harry\n",
      "Harry\n",
      "Harry\n",
      "Harry\n",
      "Harry\n"
     ]
    }
   ],
   "source": [
    "D=0\n",
    "while D<5:\n",
    "    print(\"Harry\")\n",
    "    D=D+1"
   ]
  },
  {
   "cell_type": "markdown",
   "id": "55e9e7fc",
   "metadata": {},
   "source": [
    "###### Q.Write a program to print the content of list using while loops?? "
   ]
  },
  {
   "cell_type": "code",
   "execution_count": 22,
   "id": "0a290467",
   "metadata": {},
   "outputs": [],
   "source": [
    "Fruits=['banana','watermelon','grapes','mangoes']"
   ]
  },
  {
   "cell_type": "code",
   "execution_count": 23,
   "id": "cd52afd1",
   "metadata": {},
   "outputs": [
    {
     "name": "stdout",
     "output_type": "stream",
     "text": [
      "banana\n",
      "watermelon\n",
      "grapes\n",
      "mangoes\n"
     ]
    }
   ],
   "source": [
    "i=0\n",
    "while i<len(Fruits):\n",
    "    print(Fruits[i])\n",
    "    i=i+1"
   ]
  },
  {
   "cell_type": "markdown",
   "id": "abcd7988",
   "metadata": {},
   "source": [
    "### For Loop"
   ]
  },
  {
   "cell_type": "code",
   "execution_count": 1,
   "id": "75f81755",
   "metadata": {},
   "outputs": [],
   "source": [
    "fruits=['banana','watermelon','grapes','mangoes']"
   ]
  },
  {
   "cell_type": "code",
   "execution_count": 2,
   "id": "68a470fa",
   "metadata": {},
   "outputs": [
    {
     "name": "stdout",
     "output_type": "stream",
     "text": [
      "banana\n",
      "watermelon\n",
      "grapes\n",
      "mangoes\n"
     ]
    }
   ],
   "source": [
    "for items in fruits :\n",
    "    print(items)"
   ]
  },
  {
   "cell_type": "code",
   "execution_count": 3,
   "id": "f7a770ca",
   "metadata": {},
   "outputs": [],
   "source": [
    "A=[23,44,56,77,89,23,90,87,85,23,78]"
   ]
  },
  {
   "cell_type": "code",
   "execution_count": 4,
   "id": "344896f0",
   "metadata": {},
   "outputs": [
    {
     "name": "stdout",
     "output_type": "stream",
     "text": [
      "23\n",
      "44\n",
      "56\n",
      "77\n",
      "89\n",
      "23\n",
      "90\n",
      "87\n",
      "85\n",
      "23\n",
      "78\n"
     ]
    }
   ],
   "source": [
    "for w in A:\n",
    "    print(w)"
   ]
  },
  {
   "cell_type": "code",
   "execution_count": 7,
   "id": "a4e0a34b",
   "metadata": {},
   "outputs": [],
   "source": [
    "D=('onkar','rahul','digvijaya','pratik','mahesh')"
   ]
  },
  {
   "cell_type": "code",
   "execution_count": 9,
   "id": "a0760ee9",
   "metadata": {},
   "outputs": [
    {
     "name": "stdout",
     "output_type": "stream",
     "text": [
      "onkar\n",
      "rahul\n",
      "digvijaya\n",
      "pratik\n",
      "mahesh\n"
     ]
    }
   ],
   "source": [
    "for names in D:\n",
    "    print(names)"
   ]
  },
  {
   "cell_type": "code",
   "execution_count": 10,
   "id": "cb685180",
   "metadata": {},
   "outputs": [],
   "source": [
    "Z=\"My name is onkar shinde.\""
   ]
  },
  {
   "cell_type": "code",
   "execution_count": 11,
   "id": "a37199a7",
   "metadata": {},
   "outputs": [
    {
     "name": "stdout",
     "output_type": "stream",
     "text": [
      "M\n",
      "y\n",
      " \n",
      "n\n",
      "a\n",
      "m\n",
      "e\n",
      " \n",
      "i\n",
      "s\n",
      " \n",
      "o\n",
      "n\n",
      "k\n",
      "a\n",
      "r\n",
      " \n",
      "s\n",
      "h\n",
      "i\n",
      "n\n",
      "d\n",
      "e\n",
      ".\n"
     ]
    }
   ],
   "source": [
    "for A in Z:\n",
    "    print(A)"
   ]
  },
  {
   "cell_type": "code",
   "execution_count": 14,
   "id": "30066aa2",
   "metadata": {},
   "outputs": [],
   "source": [
    "K=12,11,14,68"
   ]
  },
  {
   "cell_type": "code",
   "execution_count": 16,
   "id": "5a9832e5",
   "metadata": {},
   "outputs": [
    {
     "data": {
      "text/plain": [
       "tuple"
      ]
     },
     "execution_count": 16,
     "metadata": {},
     "output_type": "execute_result"
    }
   ],
   "source": [
    "type(K)"
   ]
  },
  {
   "cell_type": "code",
   "execution_count": 15,
   "id": "01d9d59f",
   "metadata": {},
   "outputs": [
    {
     "name": "stdout",
     "output_type": "stream",
     "text": [
      "12\n",
      "11\n",
      "14\n",
      "68\n"
     ]
    }
   ],
   "source": [
    "for Digits in K:\n",
    "    print(Digits)"
   ]
  },
  {
   "cell_type": "markdown",
   "id": "dfdc249c",
   "metadata": {},
   "source": [
    "###### For loop is used for all formates like List,Tuple,and Strings"
   ]
  },
  {
   "cell_type": "markdown",
   "id": "10870e54",
   "metadata": {},
   "source": [
    "###### :) Range Functions in Python:-"
   ]
  },
  {
   "cell_type": "code",
   "execution_count": 17,
   "id": "bbc18ca6",
   "metadata": {},
   "outputs": [
    {
     "name": "stdout",
     "output_type": "stream",
     "text": [
      "0\n",
      "1\n",
      "2\n",
      "3\n",
      "4\n",
      "5\n",
      "6\n",
      "7\n"
     ]
    }
   ],
   "source": [
    "for i in range (8):\n",
    "    print(i)"
   ]
  },
  {
   "cell_type": "markdown",
   "id": "909f4fd7",
   "metadata": {},
   "source": [
    "In this function print only till 7 not 8"
   ]
  },
  {
   "cell_type": "code",
   "execution_count": 19,
   "id": "8865d899",
   "metadata": {},
   "outputs": [
    {
     "name": "stdout",
     "output_type": "stream",
     "text": [
      "0\n",
      "1\n",
      "2\n",
      "3\n",
      "4\n",
      "5\n",
      "6\n",
      "7\n",
      "8\n",
      "9\n",
      "10\n",
      "11\n",
      "12\n",
      "13\n",
      "14\n",
      "15\n",
      "16\n",
      "17\n",
      "18\n",
      "19\n",
      "20\n",
      "21\n",
      "22\n",
      "23\n",
      "24\n"
     ]
    }
   ],
   "source": [
    "for A in range (25):\n",
    "    print(A)"
   ]
  },
  {
   "cell_type": "markdown",
   "id": "29bdef40",
   "metadata": {},
   "source": [
    "Also this function prints till 24 from 0"
   ]
  },
  {
   "cell_type": "code",
   "execution_count": 23,
   "id": "3c814118",
   "metadata": {},
   "outputs": [
    {
     "name": "stdout",
     "output_type": "stream",
     "text": [
      "2\n",
      "3\n",
      "4\n",
      "5\n",
      "6\n",
      "7\n",
      "8\n",
      "9\n",
      "10\n",
      "11\n",
      "12\n",
      "13\n",
      "14\n",
      "15\n",
      "16\n",
      "17\n",
      "18\n",
      "19\n"
     ]
    }
   ],
   "source": [
    "for A in range(2,20):\n",
    "    print(A)"
   ]
  },
  {
   "cell_type": "code",
   "execution_count": 22,
   "id": "3af9d912",
   "metadata": {},
   "outputs": [
    {
     "name": "stdout",
     "output_type": "stream",
     "text": [
      "5\n",
      "6\n",
      "7\n",
      "8\n",
      "9\n",
      "10\n",
      "11\n",
      "12\n",
      "13\n",
      "14\n"
     ]
    }
   ],
   "source": [
    "for w in range (5,15):\n",
    "    print(w)"
   ]
  },
  {
   "cell_type": "code",
   "execution_count": 26,
   "id": "f6dcd4be",
   "metadata": {},
   "outputs": [
    {
     "name": "stdout",
     "output_type": "stream",
     "text": [
      "0\n",
      "1\n",
      "2\n",
      "3\n",
      "4\n",
      "5\n",
      "6\n"
     ]
    }
   ],
   "source": [
    "for M in range(0,7):\n",
    "    print(M)"
   ]
  },
  {
   "cell_type": "markdown",
   "id": "54663a19",
   "metadata": {},
   "source": [
    "###### Stop size"
   ]
  },
  {
   "cell_type": "code",
   "execution_count": 24,
   "id": "4e857699",
   "metadata": {},
   "outputs": [
    {
     "name": "stdout",
     "output_type": "stream",
     "text": [
      "1\n",
      "3\n",
      "5\n",
      "7\n",
      "9\n"
     ]
    }
   ],
   "source": [
    "for D in range(1,10,2):\n",
    "    print(D)"
   ]
  },
  {
   "cell_type": "code",
   "execution_count": 25,
   "id": "058ba08b",
   "metadata": {},
   "outputs": [
    {
     "name": "stdout",
     "output_type": "stream",
     "text": [
      "3\n",
      "6\n",
      "9\n",
      "12\n"
     ]
    }
   ],
   "source": [
    "for B in range(3,15,3):\n",
    "    print(B)"
   ]
  },
  {
   "cell_type": "markdown",
   "id": "390c6052",
   "metadata": {},
   "source": [
    "###### For loop with else "
   ]
  },
  {
   "cell_type": "code",
   "execution_count": 27,
   "id": "d1b33e6e",
   "metadata": {},
   "outputs": [
    {
     "name": "stdout",
     "output_type": "stream",
     "text": [
      "0\n",
      "1\n",
      "2\n",
      "3\n",
      "4\n",
      "5\n",
      "6\n",
      "7\n",
      "8\n",
      "9\n",
      "Done\n"
     ]
    }
   ],
   "source": [
    "for K in range (10):\n",
    "    print(K)\n",
    "else:\n",
    "    print(\"Done\")"
   ]
  },
  {
   "cell_type": "code",
   "execution_count": 28,
   "id": "a24da103",
   "metadata": {},
   "outputs": [],
   "source": [
    "P=[11,23,45,78,90]"
   ]
  },
  {
   "cell_type": "code",
   "execution_count": 30,
   "id": "9b12f78f",
   "metadata": {},
   "outputs": [
    {
     "name": "stdout",
     "output_type": "stream",
     "text": [
      "11\n",
      "23\n",
      "45\n",
      "78\n",
      "90\n",
      "All no. is printed\n"
     ]
    }
   ],
   "source": [
    "for number in P:\n",
    "    print(number)\n",
    "else:\n",
    "    print(\"All no. is printed\")"
   ]
  },
  {
   "cell_type": "markdown",
   "id": "9a1ee181",
   "metadata": {},
   "source": [
    "###### The break statement"
   ]
  },
  {
   "cell_type": "code",
   "execution_count": 34,
   "id": "81300d19",
   "metadata": {},
   "outputs": [
    {
     "name": "stdout",
     "output_type": "stream",
     "text": [
      "0\n",
      "1\n",
      "2\n",
      "3\n",
      "4\n",
      "5\n",
      "6\n",
      "7\n",
      "8\n",
      "9\n",
      "10\n"
     ]
    }
   ],
   "source": [
    "for n in range(15):\n",
    "    print(n)\n",
    "    if n==10:\n",
    "        break"
   ]
  },
  {
   "cell_type": "code",
   "execution_count": 1,
   "id": "744b2413",
   "metadata": {},
   "outputs": [
    {
     "name": "stdout",
     "output_type": "stream",
     "text": [
      "10\n",
      "10\n",
      "10\n",
      "10\n",
      "10\n",
      "10\n",
      "10\n",
      "10\n",
      "10\n",
      "10\n"
     ]
    }
   ],
   "source": [
    "for n in range(25):\n",
    "    if n==10:\n",
    "        break\n",
    "    print(10)    "
   ]
  },
  {
   "cell_type": "markdown",
   "id": "2cab9596",
   "metadata": {},
   "source": [
    "###### This syntex is incorrect"
   ]
  },
  {
   "cell_type": "code",
   "execution_count": 35,
   "id": "369e32dc",
   "metadata": {},
   "outputs": [
    {
     "ename": "SyntaxError",
     "evalue": "invalid syntax (<ipython-input-35-d43ab090dfe6>, line 1)",
     "output_type": "error",
     "traceback": [
      "\u001b[1;36m  File \u001b[1;32m\"<ipython-input-35-d43ab090dfe6>\"\u001b[1;36m, line \u001b[1;32m1\u001b[0m\n\u001b[1;33m    for no. in range(15):\u001b[0m\n\u001b[1;37m            ^\u001b[0m\n\u001b[1;31mSyntaxError\u001b[0m\u001b[1;31m:\u001b[0m invalid syntax\n"
     ]
    }
   ],
   "source": [
    "for no. in range(15):\n",
    "    print(no.)\n",
    "    if no.==10:\n",
    "        break"
   ]
  },
  {
   "cell_type": "markdown",
   "id": "a39f04e4",
   "metadata": {},
   "source": [
    "###### in this example because of \"no.\" got error."
   ]
  },
  {
   "cell_type": "code",
   "execution_count": 36,
   "id": "dd3304c8",
   "metadata": {},
   "outputs": [
    {
     "name": "stdout",
     "output_type": "stream",
     "text": [
      "0\n",
      "1\n",
      "2\n",
      "3\n",
      "4\n",
      "5\n",
      "6\n",
      "7\n",
      "8\n",
      "9\n",
      "10\n",
      "11\n",
      "12\n",
      "13\n",
      "14\n",
      "15\n",
      "16\n",
      "17\n",
      "18\n",
      "19\n",
      "20\n",
      "21\n",
      "22\n",
      "23\n",
      "24\n",
      "25\n"
     ]
    }
   ],
   "source": [
    "for a in range(50):\n",
    "    print(a)\n",
    "    if a==25:\n",
    "        break"
   ]
  },
  {
   "cell_type": "markdown",
   "id": "f2e27109",
   "metadata": {},
   "source": [
    "### The Continue statement"
   ]
  },
  {
   "cell_type": "code",
   "execution_count": 69,
   "id": "8baf75fd",
   "metadata": {},
   "outputs": [
    {
     "name": "stdout",
     "output_type": "stream",
     "text": [
      "0\n",
      "1\n",
      "2\n",
      "3\n",
      "4\n",
      "5\n",
      "6\n",
      "7\n",
      "8\n",
      "9\n",
      "10\n",
      "11\n",
      "12\n",
      "13\n",
      "14\n",
      "15\n",
      "16\n",
      "17\n",
      "18\n",
      "19\n"
     ]
    }
   ],
   "source": [
    "for onkar in range(20):\n",
    "    print(onkar)\n",
    "    if onkar==5:\n",
    "        continue\n",
    "        print(onkar)\n",
    "        \n",
    "    \n",
    "    "
   ]
  },
  {
   "cell_type": "code",
   "execution_count": 52,
   "id": "4a5f994d",
   "metadata": {},
   "outputs": [
    {
     "name": "stdout",
     "output_type": "stream",
     "text": [
      "0\n"
     ]
    },
    {
     "ename": "NameError",
     "evalue": "name 'even' is not defined",
     "output_type": "error",
     "traceback": [
      "\u001b[1;31m---------------------------------------------------------------------------\u001b[0m",
      "\u001b[1;31mNameError\u001b[0m                                 Traceback (most recent call last)",
      "\u001b[1;32m<ipython-input-52-b2c613bccc59>\u001b[0m in \u001b[0;36m<module>\u001b[1;34m\u001b[0m\n\u001b[0;32m      1\u001b[0m \u001b[1;32mfor\u001b[0m \u001b[0mD\u001b[0m \u001b[1;32min\u001b[0m \u001b[0mrange\u001b[0m\u001b[1;33m(\u001b[0m\u001b[1;36m20\u001b[0m\u001b[1;33m)\u001b[0m\u001b[1;33m:\u001b[0m\u001b[1;33m\u001b[0m\u001b[1;33m\u001b[0m\u001b[0m\n\u001b[0;32m      2\u001b[0m     \u001b[0mprint\u001b[0m\u001b[1;33m(\u001b[0m\u001b[0mD\u001b[0m\u001b[1;33m)\u001b[0m\u001b[1;33m\u001b[0m\u001b[1;33m\u001b[0m\u001b[0m\n\u001b[1;32m----> 3\u001b[1;33m     \u001b[1;32mif\u001b[0m \u001b[0mD\u001b[0m\u001b[1;33m==\u001b[0m\u001b[1;33m(\u001b[0m\u001b[0meven\u001b[0m\u001b[1;33m)\u001b[0m\u001b[1;33m:\u001b[0m\u001b[1;33m\u001b[0m\u001b[1;33m\u001b[0m\u001b[0m\n\u001b[0m\u001b[0;32m      4\u001b[0m         \u001b[1;32mcontinue\u001b[0m\u001b[1;33m\u001b[0m\u001b[1;33m\u001b[0m\u001b[0m\n\u001b[0;32m      5\u001b[0m         \u001b[0mprint\u001b[0m\u001b[1;33m(\u001b[0m\u001b[0mD\u001b[0m\u001b[1;33m)\u001b[0m\u001b[1;33m\u001b[0m\u001b[1;33m\u001b[0m\u001b[0m\n",
      "\u001b[1;31mNameError\u001b[0m: name 'even' is not defined"
     ]
    }
   ],
   "source": [
    "for D in range(20):\n",
    "    print(D)\n",
    "    if D==EVEN:\n",
    "        continue\n",
    "        print(D)"
   ]
  },
  {
   "cell_type": "code",
   "execution_count": 68,
   "id": "6f510844",
   "metadata": {},
   "outputs": [
    {
     "name": "stdout",
     "output_type": "stream",
     "text": [
      "0\n",
      "1\n",
      "2\n",
      "3\n",
      "4\n",
      "5\n",
      "6\n",
      "7\n",
      "8\n",
      "9\n",
      "10\n",
      "11\n",
      "12\n",
      "13\n",
      "14\n",
      "15\n",
      "16\n",
      "17\n",
      "18\n",
      "19\n"
     ]
    }
   ],
   "source": [
    "for y in range(20):\n",
    "    print(y)\n",
    "    if y==12:\n",
    "        continue\n",
    "        print(y)\n",
    "        "
   ]
  },
  {
   "cell_type": "markdown",
   "id": "7b82bcc3",
   "metadata": {},
   "source": [
    "#### Above code's syntex was incorrect"
   ]
  },
  {
   "cell_type": "code",
   "execution_count": 70,
   "id": "74c08f7f",
   "metadata": {},
   "outputs": [
    {
     "name": "stdout",
     "output_type": "stream",
     "text": [
      "0\n",
      "1\n",
      "2\n",
      "3\n",
      "4\n",
      "6\n",
      "7\n",
      "8\n",
      "9\n"
     ]
    }
   ],
   "source": [
    "for i in range (10):\n",
    "    if i==5:\n",
    "        continue\n",
    "    print(i)"
   ]
  },
  {
   "cell_type": "markdown",
   "id": "58fc8ae3",
   "metadata": {},
   "source": [
    "###### This syntex is correct for continue statement"
   ]
  },
  {
   "cell_type": "code",
   "execution_count": 71,
   "id": "87d1ae16",
   "metadata": {},
   "outputs": [
    {
     "name": "stdout",
     "output_type": "stream",
     "text": [
      "0\n",
      "1\n",
      "2\n",
      "3\n",
      "4\n",
      "5\n",
      "6\n",
      "7\n",
      "8\n",
      "9\n",
      "11\n",
      "12\n",
      "13\n",
      "14\n",
      "15\n",
      "16\n",
      "17\n",
      "18\n",
      "19\n"
     ]
    }
   ],
   "source": [
    "for R in range (20):\n",
    "    if R==10:\n",
    "        continue\n",
    "    print(R)"
   ]
  },
  {
   "cell_type": "markdown",
   "id": "05c759e7",
   "metadata": {},
   "source": [
    "### Pass Statement"
   ]
  },
  {
   "cell_type": "code",
   "execution_count": 72,
   "id": "9e501030",
   "metadata": {},
   "outputs": [
    {
     "name": "stdout",
     "output_type": "stream",
     "text": [
      "Onkar Shinde\n"
     ]
    }
   ],
   "source": [
    "i=4\n",
    "if i>0:\n",
    "    pass\n",
    "print(\"Onkar Shinde\")"
   ]
  },
  {
   "cell_type": "code",
   "execution_count": 73,
   "id": "46bde0ca",
   "metadata": {},
   "outputs": [],
   "source": [
    "l=[1,5,8]"
   ]
  },
  {
   "cell_type": "code",
   "execution_count": 76,
   "id": "fbfb74e9",
   "metadata": {},
   "outputs": [
    {
     "name": "stdout",
     "output_type": "stream",
     "text": [
      "1\n",
      "5\n",
      "8\n"
     ]
    }
   ],
   "source": [
    "for item in l:\n",
    "    print(item)"
   ]
  },
  {
   "cell_type": "code",
   "execution_count": 77,
   "id": "5f410fa5",
   "metadata": {},
   "outputs": [
    {
     "name": "stdout",
     "output_type": "stream",
     "text": [
      "Maharashtra\n"
     ]
    }
   ],
   "source": [
    "for item in l:\n",
    "    pass\n",
    "print(\"Maharashtra\")"
   ]
  },
  {
   "cell_type": "code",
   "execution_count": null,
   "id": "8ffadbbe",
   "metadata": {},
   "outputs": [],
   "source": []
  }
 ],
 "metadata": {
  "kernelspec": {
   "display_name": "Python 3",
   "language": "python",
   "name": "python3"
  },
  "language_info": {
   "codemirror_mode": {
    "name": "ipython",
    "version": 3
   },
   "file_extension": ".py",
   "mimetype": "text/x-python",
   "name": "python",
   "nbconvert_exporter": "python",
   "pygments_lexer": "ipython3",
   "version": "3.8.8"
  }
 },
 "nbformat": 4,
 "nbformat_minor": 5
}
