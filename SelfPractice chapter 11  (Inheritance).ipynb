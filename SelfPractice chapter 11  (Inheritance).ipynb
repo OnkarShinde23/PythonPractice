{
 "cells": [
  {
   "cell_type": "markdown",
   "id": "941b1327",
   "metadata": {},
   "source": [
    "# Inheritance"
   ]
  },
  {
   "cell_type": "markdown",
   "id": "cdd957e8",
   "metadata": {},
   "source": [
    " It refers to the reusablity of code."
   ]
  },
  {
   "cell_type": "markdown",
   "id": "3f15d78e",
   "metadata": {},
   "source": [
    "Inheritance Property, simply inherit the properties of one class to the another class."
   ]
  },
  {
   "cell_type": "markdown",
   "id": "e36e56ea",
   "metadata": {},
   "source": [
    "e.g\n",
    "Car,Bus, Bike, all comes under the categery of vehicle.\n",
    "It means they have inherited the properties or class vehicles."
   ]
  },
  {
   "cell_type": "markdown",
   "id": "a948e245",
   "metadata": {},
   "source": [
    "### Examples:"
   ]
  },
  {
   "cell_type": "code",
   "execution_count": 15,
   "id": "bd5da326",
   "metadata": {},
   "outputs": [
    {
     "name": "stdout",
     "output_type": "stream",
     "text": [
      "This is an Employee\n",
      "This is an Employee\n",
      "Google\n"
     ]
    }
   ],
   "source": [
    "class Employee:\n",
    "    company=\"Google\"\n",
    "    def showDetails (self):\n",
    "        print(\"This is an Employee\")\n",
    "class programmer (Employee):\n",
    "    language=\"Python\"\n",
    "    def getlanguage (self):\n",
    "        print(f\"The language is {self.language}\")\n",
    "e=Employee()\n",
    "e.showDetails()\n",
    "p=programmer()\n",
    "p.showDetails()\n",
    "print(p.company)"
   ]
  },
  {
   "cell_type": "markdown",
   "id": "ff6b3241",
   "metadata": {},
   "source": [
    "### Types of Inheritance"
   ]
  },
  {
   "cell_type": "raw",
   "id": "6bbc157f",
   "metadata": {},
   "source": [
    "1.Single Inheritance\n",
    "2.Multiple Inheritance\n",
    "3.Multilevel Inheritance"
   ]
  },
  {
   "cell_type": "markdown",
   "id": "48140940",
   "metadata": {},
   "source": [
    "### Single Inheritance"
   ]
  },
  {
   "cell_type": "markdown",
   "id": "260e0591",
   "metadata": {},
   "source": [
    "###### Example"
   ]
  },
  {
   "cell_type": "code",
   "execution_count": 13,
   "id": "cca6a2f5",
   "metadata": {},
   "outputs": [
    {
     "name": "stdout",
     "output_type": "stream",
     "text": [
      "This is an employee\n",
      "This is a Programmer\n",
      "You Tube\n"
     ]
    }
   ],
   "source": [
    "class Employee:\n",
    "    company=\"Google\"\n",
    "    def showDetails(self):\n",
    "        print(\"This is an employee\")\n",
    "class Programmer(Employee):\n",
    "    language=\"Python\"\n",
    "    company=\"You Tube\"\n",
    "    def getlanguage(self):\n",
    "        print(f\"The language is {self.language}\")\n",
    "    def showDetails(self):\n",
    "        print(\"This is a Programmer\")\n",
    "e=Employee()\n",
    "e.showDetails()\n",
    "p=Programmer()\n",
    "p.showDetails()\n",
    "print(p.company)\n",
    "            "
   ]
  },
  {
   "cell_type": "markdown",
   "id": "ce56ab28",
   "metadata": {},
   "source": [
    "### Multiple Inheritance:"
   ]
  },
  {
   "cell_type": "markdown",
   "id": "5283f66c",
   "metadata": {},
   "source": [
    "###### Example:"
   ]
  },
  {
   "cell_type": "markdown",
   "id": "8dee36b2",
   "metadata": {},
   "source": [
    "###### 1."
   ]
  },
  {
   "cell_type": "code",
   "execution_count": 17,
   "id": "99dcaf6a",
   "metadata": {},
   "outputs": [
    {
     "name": "stdout",
     "output_type": "stream",
     "text": [
      "0\n"
     ]
    }
   ],
   "source": [
    "class Employee:\n",
    "    company=\"Visa\"\n",
    "    ecode=120\n",
    "class freelancer:\n",
    "    company=\"Fiverr\"\n",
    "    level=0\n",
    "class Programmer(Employee,freelancer):\n",
    "    name=\"Rohit\"\n",
    "p=Programmer()\n",
    "print(p.level)\n",
    "    "
   ]
  },
  {
   "cell_type": "code",
   "execution_count": 22,
   "id": "70ead4aa",
   "metadata": {},
   "outputs": [
    {
     "name": "stdout",
     "output_type": "stream",
     "text": [
      "1\n"
     ]
    }
   ],
   "source": [
    "class Employee:\n",
    "    company=\"Visa\"\n",
    "    ecode=120\n",
    "class freelancer:\n",
    "    company=\"Fiverr\"\n",
    "    level=0\n",
    "    def upgradelevel(self):\n",
    "        self.level=self.level+1\n",
    "class Programmer(Employee,freelancer):\n",
    "    name=\"Rohit\"\n",
    "p=Programmer()\n",
    "p.upgradelevel()\n",
    "print(p.level)"
   ]
  },
  {
   "cell_type": "code",
   "execution_count": 23,
   "id": "657deaca",
   "metadata": {},
   "outputs": [
    {
     "name": "stdout",
     "output_type": "stream",
     "text": [
      "Visa\n"
     ]
    }
   ],
   "source": [
    "class Employee:\n",
    "    company=\"Visa\"\n",
    "    ecode=120\n",
    "class freelancer:\n",
    "    company=\"fiverr\"\n",
    "    level=0\n",
    "    def upgradelevel(self):\n",
    "        self.level=self.level+1\n",
    "class Programmer (Employee,freelancer):\n",
    "    name=\"Rohit\"\n",
    "p=Programmer()\n",
    "p.upgradelevel()\n",
    "print(p.company)"
   ]
  },
  {
   "cell_type": "raw",
   "id": "2ca19e21",
   "metadata": {},
   "source": [
    "conclusion:\n",
    "Here print visa firstly because in 9th row we writter Employee first.\n",
    "If we write freelancer then print fiverr first."
   ]
  },
  {
   "cell_type": "markdown",
   "id": "027bacc6",
   "metadata": {},
   "source": [
    "### Multilevel Inheritance:"
   ]
  },
  {
   "cell_type": "markdown",
   "id": "35813305",
   "metadata": {},
   "source": [
    "### Example:"
   ]
  },
  {
   "cell_type": "code",
   "execution_count": 27,
   "id": "0c2e19d8",
   "metadata": {},
   "outputs": [
    {
     "name": "stdout",
     "output_type": "stream",
     "text": [
      "I am breathing...\n",
      "I am an Employee so I am luckily breathing...\n",
      "Honda\n",
      "I am a Programmer so I am breathing++...\n",
      "fiverr\n",
      "India\n"
     ]
    }
   ],
   "source": [
    "class person:\n",
    "    country=\"India\"\n",
    "    def takeBreath(self):\n",
    "        print(\"I am breathing...\")\n",
    "class Employee(person):\n",
    "    company=\"Honda\"\n",
    "    def getsalary(self):\n",
    "        print(f\"salary is {self.salary}\")\n",
    "    def takeBreath(self):\n",
    "        print(\"I am an Employee so I am luckily breathing...\")\n",
    "class Programmer (Employee):\n",
    "    company=\"fiverr\"\n",
    "    def getsalary(self):\n",
    "        print(f\"No salary to programmers\")\n",
    "    def takeBreath (self):\n",
    "        print('I am a Programmer so I am breathing++...')\n",
    "        \n",
    "p=person()\n",
    "p.takeBreath()\n",
    "e=Employee()\n",
    "e.takeBreath()\n",
    "print(e.company)\n",
    "pr=Programmer()\n",
    "pr.takeBreath()\n",
    "print(pr.company)\n",
    "print(pr.country)"
   ]
  },
  {
   "cell_type": "markdown",
   "id": "f979ddd3",
   "metadata": {},
   "source": [
    "### Super() Method:"
   ]
  },
  {
   "cell_type": "markdown",
   "id": "319bd75c",
   "metadata": {},
   "source": [
    "###### Example:"
   ]
  },
  {
   "cell_type": "code",
   "execution_count": 13,
   "id": "d71d7cdf",
   "metadata": {},
   "outputs": [
    {
     "name": "stdout",
     "output_type": "stream",
     "text": [
      "I am breathing....\n",
      "I am breathing....\n",
      "I am an Employee so I am luckily breathing...\n",
      "I am breathing....\n",
      "I am an Employee so I am luckily breathing...\n"
     ]
    }
   ],
   "source": [
    "class person:\n",
    "    country=\"India\"\n",
    "    def takebreath(self):\n",
    "        print(\"I am breathing....\")\n",
    "class Employee (person):\n",
    "    def getsalary(self):\n",
    "        print(f\"salary is {self.salary}\")\n",
    "    def takebreath(self):\n",
    "        super().takebreath()\n",
    "        print(\"I am an Employee so I am luckily breathing...\")\n",
    "class programmer (Employee):\n",
    "    company=\"fiverr\"\n",
    "    def getsalary(self):\n",
    "        print(f\"No salary to programmer\")\n",
    "    def getsalary(self):\n",
    "        super().takebreath()\n",
    "        print(\"I am a programmer ao I am breathing++...\")\n",
    "p=person()\n",
    "p.takebreath()\n",
    "e=Employee()\n",
    "e.takebreath()\n",
    "pr=programmer()\n",
    "pr.takebreath()"
   ]
  },
  {
   "cell_type": "markdown",
   "id": "088ab8d0",
   "metadata": {},
   "source": [
    "###### Repeat the above problem."
   ]
  },
  {
   "cell_type": "markdown",
   "id": "bfa30a89",
   "metadata": {},
   "source": [
    "### Class Methods:"
   ]
  },
  {
   "cell_type": "markdown",
   "id": "cfc8adc1",
   "metadata": {},
   "source": [
    "###### Examples:"
   ]
  },
  {
   "cell_type": "markdown",
   "id": "6fd6e33a",
   "metadata": {},
   "source": [
    "###### 1."
   ]
  },
  {
   "cell_type": "code",
   "execution_count": 16,
   "id": "5a170fad",
   "metadata": {},
   "outputs": [
    {
     "name": "stdout",
     "output_type": "stream",
     "text": [
      "100\n",
      "455\n",
      "100\n"
     ]
    }
   ],
   "source": [
    "class Employee:\n",
    "    company=\"camel\"\n",
    "    salary=100\n",
    "    location=\"Delhi\"\n",
    "    def changesalary(self,sal):\n",
    "        self.salary=sal\n",
    "e=Employee()\n",
    "print(e.salary)\n",
    "e.changesalary(455)\n",
    "print(e.salary)\n",
    "print(Employee.salary)"
   ]
  },
  {
   "cell_type": "markdown",
   "id": "d73f34a1",
   "metadata": {},
   "source": [
    "###### 2."
   ]
  },
  {
   "cell_type": "code",
   "execution_count": 17,
   "id": "527f96fa",
   "metadata": {},
   "outputs": [
    {
     "name": "stdout",
     "output_type": "stream",
     "text": [
      "100\n",
      "455\n",
      "455\n"
     ]
    }
   ],
   "source": [
    "class Employee:\n",
    "    company=\"camel\"\n",
    "    salary=100\n",
    "    location=\"Delhi\"\n",
    "    @classmethod\n",
    "    def changesalary(self,sal):\n",
    "        self.salary=sal\n",
    "e=Employee()\n",
    "print(e.salary)\n",
    "e.changesalary(455)\n",
    "print(e.salary)\n",
    "print(Employee.salary)"
   ]
  },
  {
   "cell_type": "markdown",
   "id": "22cf76a4",
   "metadata": {},
   "source": [
    "### Property Decorator:\n",
    "    "
   ]
  },
  {
   "cell_type": "raw",
   "id": "61782a8c",
   "metadata": {},
   "source": [
    "1.Getter Method\n",
    "2.Setter Method"
   ]
  },
  {
   "cell_type": "markdown",
   "id": "8eac1383",
   "metadata": {},
   "source": [
    "###### 1.Getter Method"
   ]
  },
  {
   "cell_type": "code",
   "execution_count": 19,
   "id": "281ddcb6",
   "metadata": {},
   "outputs": [
    {
     "name": "stdout",
     "output_type": "stream",
     "text": [
      "6000\n"
     ]
    }
   ],
   "source": [
    "class Employee:\n",
    "    company =\"Bharat Gas\"\n",
    "    salary=5600\n",
    "    salarybonus=400\n",
    "    @property\n",
    "    def totalsalary(self):\n",
    "        return self.salary+self.salarybonus\n",
    "e=Employee()\n",
    "print(e.totalsalary)\n",
    "    "
   ]
  },
  {
   "cell_type": "code",
   "execution_count": 20,
   "id": "7e6c914f",
   "metadata": {},
   "outputs": [
    {
     "name": "stdout",
     "output_type": "stream",
     "text": [
      "6000\n",
      "5600\n",
      "200\n"
     ]
    }
   ],
   "source": [
    "class Employee:\n",
    "    company =\"Bharat Gas\"\n",
    "    salary=5600\n",
    "    salarybonus=400\n",
    "    @property\n",
    "    def totalsalary(self):\n",
    "        return self.salary+self.salarybonus\n",
    "    @totalsalary.setter\n",
    "    def totalsalary(self,val):\n",
    "        self.salarybonus=val-self.salary\n",
    "e=Employee()\n",
    "print(e.totalsalary)\n",
    "e.totalsalary=5800\n",
    "print(e.salary)\n",
    "print(e.salarybonus)"
   ]
  },
  {
   "cell_type": "markdown",
   "id": "aba5b32a",
   "metadata": {},
   "source": [
    "### Operators overloading in Python (Dunder Method)"
   ]
  },
  {
   "cell_type": "markdown",
   "id": "d2e30c85",
   "metadata": {},
   "source": [
    "###### 1."
   ]
  },
  {
   "cell_type": "code",
   "execution_count": 21,
   "id": "43b0151b",
   "metadata": {},
   "outputs": [
    {
     "name": "stdout",
     "output_type": "stream",
     "text": [
      "lets add\n",
      "10\n"
     ]
    }
   ],
   "source": [
    "class Number:\n",
    "    def __init__(self,num):\n",
    "        self.num=num\n",
    "    def __add__(self,num2):\n",
    "        print(\"lets add\")\n",
    "        return self.num+num2.num\n",
    "n1 = Number(4)\n",
    "n2 = Number(6)\n",
    "sum = n1 + n2\n",
    "print(sum)"
   ]
  },
  {
   "cell_type": "code",
   "execution_count": 25,
   "id": "597b3a90",
   "metadata": {},
   "outputs": [
    {
     "name": "stdout",
     "output_type": "stream",
     "text": [
      "lets add\n",
      "lets Multiply\n",
      "24\n",
      "10\n"
     ]
    }
   ],
   "source": [
    "class Number:\n",
    "    def __init__(self,num):\n",
    "        self.num=num\n",
    "    def __add__(self,num2):\n",
    "        print(\"lets add\")\n",
    "        return self.num+num2.num\n",
    "    def __mul__(self,num2):\n",
    "        print(\"lets Multiply\")\n",
    "        return self.num*num2.num\n",
    "        \n",
    "n1 = Number(4)\n",
    "n2 = Number(6)\n",
    "sum = n1 + n2\n",
    "mul=n1*n2\n",
    "print(mul)\n",
    "print(sum)"
   ]
  },
  {
   "cell_type": "code",
   "execution_count": 26,
   "id": "0d1fe2ae",
   "metadata": {},
   "outputs": [
    {
     "name": "stdout",
     "output_type": "stream",
     "text": [
      "Decimal Number:9\n",
      "1\n"
     ]
    }
   ],
   "source": [
    "class Number:\n",
    "    def __init__(self,num):\n",
    "        self.num=num\n",
    "    def __add__(self,num2):\n",
    "        print(\"lets add\")\n",
    "        return self.num+num2.num\n",
    "    def __mul__(self,num2):\n",
    "        print(\"lets Multiply\")\n",
    "        return self.num*num2.num\n",
    "    def __str__(self):\n",
    "        return f\"Decimal Number:{self.num}\"\n",
    "    def __len__(self):\n",
    "        return 1\n",
    "n=Number(9)\n",
    "print(n)\n",
    "print(len(n))"
   ]
  },
  {
   "cell_type": "code",
   "execution_count": null,
   "id": "cde4118d",
   "metadata": {},
   "outputs": [],
   "source": []
  }
 ],
 "metadata": {
  "kernelspec": {
   "display_name": "Python 3",
   "language": "python",
   "name": "python3"
  },
  "language_info": {
   "codemirror_mode": {
    "name": "ipython",
    "version": 3
   },
   "file_extension": ".py",
   "mimetype": "text/x-python",
   "name": "python",
   "nbconvert_exporter": "python",
   "pygments_lexer": "ipython3",
   "version": "3.8.8"
  }
 },
 "nbformat": 4,
 "nbformat_minor": 5
}
