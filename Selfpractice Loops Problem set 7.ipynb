{
 "cells": [
  {
   "cell_type": "markdown",
   "id": "1aec164d",
   "metadata": {},
   "source": [
    "###### Q.1 Write a program to print multiplication table of a given number using for loop??"
   ]
  },
  {
   "cell_type": "code",
   "execution_count": 1,
   "id": "e2d3aa54",
   "metadata": {},
   "outputs": [
    {
     "name": "stdout",
     "output_type": "stream",
     "text": [
      "enter digit:4\n"
     ]
    }
   ],
   "source": [
    "Number=int(input(\"enter digit:\"))\n"
   ]
  },
  {
   "cell_type": "code",
   "execution_count": 2,
   "id": "f81a35ca",
   "metadata": {},
   "outputs": [
    {
     "name": "stdout",
     "output_type": "stream",
     "text": [
      "4\n"
     ]
    }
   ],
   "source": [
    "print(Number)"
   ]
  },
  {
   "cell_type": "code",
   "execution_count": 3,
   "id": "b7d9976e",
   "metadata": {},
   "outputs": [
    {
     "name": "stdout",
     "output_type": "stream",
     "text": [
      "4x1=4\n",
      "4x2=8\n",
      "4x3=12\n",
      "4x4=16\n",
      "4x5=20\n",
      "4x6=24\n",
      "4x7=28\n",
      "4x8=32\n",
      "4x9=36\n",
      "4x10=40\n"
     ]
    }
   ],
   "source": [
    "for i in range(1,11):\n",
    "    print(f\"{Number}x{i}={Number*i}\")"
   ]
  },
  {
   "cell_type": "markdown",
   "id": "8368ce89",
   "metadata": {},
   "source": [
    "#### Here \"X\" is string,but * is used for multiplication.\n",
    "in print() we used Formattting ,formatting (f),perform operations in print."
   ]
  },
  {
   "cell_type": "code",
   "execution_count": 4,
   "id": "9b8e0996",
   "metadata": {},
   "outputs": [
    {
     "name": "stdout",
     "output_type": "stream",
     "text": [
      "1X2=2\n",
      "2X2=4\n",
      "3X2=6\n",
      "4X2=8\n",
      "5X2=10\n",
      "6X2=12\n",
      "7X2=14\n",
      "8X2=16\n"
     ]
    }
   ],
   "source": [
    "for A in range (1,9):\n",
    "    print(F\"{A}X{2}={A*2}\")"
   ]
  },
  {
   "cell_type": "markdown",
   "id": "33935e3d",
   "metadata": {},
   "source": [
    "###### This is another example"
   ]
  },
  {
   "cell_type": "markdown",
   "id": "fa66abee",
   "metadata": {},
   "source": [
    "###### Q.2 Write a program to greet all persons names stored in a list l1 and which starts with S??"
   ]
  },
  {
   "cell_type": "code",
   "execution_count": 5,
   "id": "f8bde387",
   "metadata": {},
   "outputs": [],
   "source": [
    "L1=[\"Harry\",\"Soham\",\"Sachin\",\"Rahul\"]"
   ]
  },
  {
   "cell_type": "code",
   "execution_count": 6,
   "id": "47d959e4",
   "metadata": {},
   "outputs": [
    {
     "name": "stdout",
     "output_type": "stream",
     "text": [
      "Hello Soham\n",
      "Hello Sachin\n"
     ]
    }
   ],
   "source": [
    "for A in L1:\n",
    "    if A.startswith(\"S\"):\n",
    "        print(\"Hello \"+A)"
   ]
  },
  {
   "cell_type": "markdown",
   "id": "ed53b990",
   "metadata": {},
   "source": [
    "###### Q.3 Attempt problem 1 by using while loop??"
   ]
  },
  {
   "cell_type": "code",
   "execution_count": null,
   "id": "0a5f1406",
   "metadata": {},
   "outputs": [],
   "source": []
  },
  {
   "cell_type": "markdown",
   "id": "35eba634",
   "metadata": {},
   "source": [
    "###### Q.4 write a program to find weather a given number is prime or not??"
   ]
  },
  {
   "cell_type": "code",
   "execution_count": 7,
   "id": "d6c167c0",
   "metadata": {},
   "outputs": [
    {
     "name": "stdout",
     "output_type": "stream",
     "text": [
      "enter number7\n"
     ]
    }
   ],
   "source": [
    "Z=int(input(\"enter number\"))"
   ]
  },
  {
   "cell_type": "code",
   "execution_count": 8,
   "id": "1d407a8e",
   "metadata": {},
   "outputs": [
    {
     "name": "stdout",
     "output_type": "stream",
     "text": [
      "This Number is prime\n",
      "This Number is prime\n",
      "This Number is prime\n",
      "This Number is prime\n",
      "This Number is prime\n"
     ]
    }
   ],
   "source": [
    "for i in range(2,Z):\n",
    "    prime=True\n",
    "    if(Z%i==0):\n",
    "        prime=False\n",
    "        break\n",
    "    if prime:\n",
    "        print(\"This Number is prime\")\n",
    "    else:\n",
    "        print(\"this number is not prime\")\n",
    "    "
   ]
  },
  {
   "cell_type": "markdown",
   "id": "62549d39",
   "metadata": {},
   "source": [
    "###### Q.5 Write a program to find the sum of first n natural numbers using while loop??"
   ]
  },
  {
   "cell_type": "code",
   "execution_count": null,
   "id": "c5bdf4ad",
   "metadata": {},
   "outputs": [],
   "source": []
  },
  {
   "cell_type": "markdown",
   "id": "01c261bb",
   "metadata": {},
   "source": [
    "###### Q.6 write a program to calculate the factorial of a given number using for loop??"
   ]
  },
  {
   "cell_type": "code",
   "execution_count": 11,
   "id": "399636a0",
   "metadata": {},
   "outputs": [
    {
     "name": "stdout",
     "output_type": "stream",
     "text": [
      "enter number  2\n"
     ]
    }
   ],
   "source": [
    "D=int(input(\"enter number  \"))"
   ]
  },
  {
   "cell_type": "code",
   "execution_count": 12,
   "id": "f16fd070",
   "metadata": {},
   "outputs": [],
   "source": [
    "factorial=1"
   ]
  },
  {
   "cell_type": "code",
   "execution_count": 16,
   "id": "c8f89ec0",
   "metadata": {},
   "outputs": [
    {
     "name": "stdout",
     "output_type": "stream",
     "text": [
      "The factorial of 2 is 4\n"
     ]
    }
   ],
   "source": [
    "for i in range (1,D+1):\n",
    "    factorial=factorial*i\n",
    "print(f\"The factorial of {D} is {factorial}\")  "
   ]
  },
  {
   "cell_type": "code",
   "execution_count": 20,
   "id": "ac0e233c",
   "metadata": {},
   "outputs": [
    {
     "name": "stdout",
     "output_type": "stream",
     "text": [
      "enter number  3\n"
     ]
    }
   ],
   "source": [
    "K=int(input(\"enter number  \"))"
   ]
  },
  {
   "cell_type": "code",
   "execution_count": 22,
   "id": "1ce5f406",
   "metadata": {},
   "outputs": [],
   "source": [
    "factorial=1"
   ]
  },
  {
   "cell_type": "code",
   "execution_count": 23,
   "id": "a637690c",
   "metadata": {},
   "outputs": [
    {
     "name": "stdout",
     "output_type": "stream",
     "text": [
      "The factorial of 3 is 6\n"
     ]
    }
   ],
   "source": [
    "for i in range (1,K+1):\n",
    "    factorial=factorial*i\n",
    "print(f\"The factorial of {K} is {factorial}\") "
   ]
  },
  {
   "cell_type": "raw",
   "id": "033d7f29",
   "metadata": {},
   "source": [
    "###### Q.7 Write a program to print the following star pattrn:\n",
    "    *\n",
    "    * *\n",
    "    * * *\n",
    "    \n",
    "    for n = 4"
   ]
  },
  {
   "cell_type": "code",
   "execution_count": 25,
   "id": "e658084b",
   "metadata": {},
   "outputs": [
    {
     "name": "stdout",
     "output_type": "stream",
     "text": [
      "\n",
      "* \n",
      "* * \n",
      "* * * \n"
     ]
    }
   ],
   "source": [
    "for i in range (4):\n",
    "    print(\"* \"*i)"
   ]
  },
  {
   "cell_type": "raw",
   "id": "8a46bd2e",
   "metadata": {},
   "source": [
    "###### extra problem:-Write a program to print the following star pattrn:\n",
    "    *\n",
    "    * *\n",
    "    * * *\n",
    "    * * * *\n",
    "    \n",
    "    for n = 4"
   ]
  },
  {
   "cell_type": "code",
   "execution_count": 27,
   "id": "37dd9080",
   "metadata": {},
   "outputs": [
    {
     "name": "stdout",
     "output_type": "stream",
     "text": [
      "* \n",
      "* * \n",
      "* * * \n",
      "* * * * \n"
     ]
    }
   ],
   "source": [
    "for i in range (4):\n",
    "    print(\"* \"*(i+1))"
   ]
  },
  {
   "cell_type": "raw",
   "id": "c92f50c9",
   "metadata": {},
   "source": [
    "Q.8 write a program to print the following star pattern??\n",
    "    *\n",
    "  * * *\n",
    "* * * * *\n",
    " for n= 3"
   ]
  },
  {
   "cell_type": "code",
   "execution_count": 29,
   "id": "d22f137a",
   "metadata": {},
   "outputs": [],
   "source": [
    "n=3"
   ]
  },
  {
   "cell_type": "code",
   "execution_count": 39,
   "id": "45afd6ef",
   "metadata": {},
   "outputs": [
    {
     "name": "stdout",
     "output_type": "stream",
     "text": [
      "  \n",
      "*\n",
      "  \n",
      " \n",
      "***\n",
      " \n",
      "\n",
      "*****\n",
      "\n"
     ]
    }
   ],
   "source": [
    "for i in range (3):\n",
    "    print(\" \"*(n-i-1))\n",
    "    print(\"*\"*(2*i+1))\n",
    "    print(\" \"*(n-i-1))"
   ]
  },
  {
   "cell_type": "code",
   "execution_count": 30,
   "id": "0ce260de",
   "metadata": {},
   "outputs": [
    {
     "name": "stdout",
     "output_type": "stream",
     "text": [
      "   *   \n",
      "  ***  \n",
      " ***** \n"
     ]
    }
   ],
   "source": [
    "for i in range (3):\n",
    "    print(\" \"*(n-i-1),end=\" \")\n",
    "    print(\"*\"*(2*i+1),end=\" \")\n",
    "    print(\" \"*(n-i-1))"
   ]
  },
  {
   "cell_type": "code",
   "execution_count": 37,
   "id": "860dbe80",
   "metadata": {},
   "outputs": [
    {
     "name": "stdout",
     "output_type": "stream",
     "text": [
      "   *\n",
      "  \n",
      "  ***\n",
      " \n",
      " *****\n",
      "\n"
     ]
    }
   ],
   "source": [
    "for i in range (3):\n",
    "    print(\" \"*(n-i-1),end=\" \")\n",
    "    print(\"*\"*(2*i+1))\n",
    "    print(\" \"*(n-i-1))"
   ]
  },
  {
   "cell_type": "code",
   "execution_count": 38,
   "id": "c2eefe70",
   "metadata": {},
   "outputs": [
    {
     "name": "stdout",
     "output_type": "stream",
     "text": [
      "   *   \n",
      "  ***  \n",
      " ***** \n"
     ]
    }
   ],
   "source": [
    "for i in range (3):\n",
    "    print(\" \"*(n-i-1),end=\" \")\n",
    "    print(\"*\"*(2*i+1),end=\" \")\n",
    "    print(\" \"*(n-i-1))"
   ]
  },
  {
   "cell_type": "code",
   "execution_count": 40,
   "id": "851008f6",
   "metadata": {},
   "outputs": [
    {
     "name": "stdout",
     "output_type": "stream",
     "text": [
      "   *   ***  ***** "
     ]
    }
   ],
   "source": [
    "for i in range (3):\n",
    "    print(\" \"*(n-i-1),end=\" \")\n",
    "    print(\"*\"*(2*i+1),end=\" \")"
   ]
  },
  {
   "cell_type": "code",
   "execution_count": 41,
   "id": "9d636494",
   "metadata": {},
   "outputs": [
    {
     "name": "stdout",
     "output_type": "stream",
     "text": [
      "   *      ***    *****  "
     ]
    }
   ],
   "source": [
    "for i in range (3):\n",
    "    print(\" \"*(n-i-1),end=\" \")\n",
    "    print(\"*\"*(2*i+1),end=\" \")\n",
    "    print(\" \"*(n-i-1),end=\" \")"
   ]
  },
  {
   "cell_type": "markdown",
   "id": "9cd35bf3",
   "metadata": {},
   "source": [
    "###### Above methods also correct"
   ]
  },
  {
   "cell_type": "code",
   "execution_count": 42,
   "id": "8f75ad0e",
   "metadata": {
    "scrolled": true
   },
   "outputs": [
    {
     "name": "stdout",
     "output_type": "stream",
     "text": [
      "   *\n",
      "  ***\n",
      " *****\n"
     ]
    }
   ],
   "source": [
    "for i in range (3):\n",
    "    print(\" \"*(n-i-1),end=\" \")\n",
    "    print(\"*\"*(2*i+1))"
   ]
  },
  {
   "cell_type": "markdown",
   "id": "e4d602d7",
   "metadata": {},
   "source": [
    "### But above method is shortest to creat pyramid"
   ]
  },
  {
   "cell_type": "markdown",
   "id": "4a129136",
   "metadata": {},
   "source": [
    "###### Q.9 Write a program to print the following star pattern ??"
   ]
  },
  {
   "cell_type": "raw",
   "id": "f03ceb44",
   "metadata": {},
   "source": [
    "* * *\n",
    "*   *\n",
    "* * *           for n=3"
   ]
  },
  {
   "cell_type": "code",
   "execution_count": 43,
   "id": "bc4f9dc6",
   "metadata": {},
   "outputs": [],
   "source": [
    "n=3"
   ]
  },
  {
   "cell_type": "code",
   "execution_count": 52,
   "id": "da965bd9",
   "metadata": {},
   "outputs": [
    {
     "name": "stdout",
     "output_type": "stream",
     "text": [
      "***\n",
      "****\n",
      "*****\n"
     ]
    }
   ],
   "source": [
    "for k in range (3):\n",
    "    print(\"*\"*(n+k))"
   ]
  },
  {
   "cell_type": "markdown",
   "id": "bae97105",
   "metadata": {},
   "source": [
    "###### Q.10 Write a program to print multiplication table of n using loop in reversed order??"
   ]
  },
  {
   "cell_type": "code",
   "execution_count": null,
   "id": "d31e389d",
   "metadata": {},
   "outputs": [],
   "source": []
  }
 ],
 "metadata": {
  "kernelspec": {
   "display_name": "Python 3",
   "language": "python",
   "name": "python3"
  },
  "language_info": {
   "codemirror_mode": {
    "name": "ipython",
    "version": 3
   },
   "file_extension": ".py",
   "mimetype": "text/x-python",
   "name": "python",
   "nbconvert_exporter": "python",
   "pygments_lexer": "ipython3",
   "version": "3.8.8"
  }
 },
 "nbformat": 4,
 "nbformat_minor": 5
}
